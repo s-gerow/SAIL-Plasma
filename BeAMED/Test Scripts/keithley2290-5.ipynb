{
 "cells": [
  {
   "cell_type": "markdown",
   "id": "afcba2e7",
   "metadata": {},
   "source": [
    "testing file for new power supply"
   ]
  },
  {
   "cell_type": "markdown",
   "id": "57db161f",
   "metadata": {},
   "source": []
  },
  {
   "cell_type": "code",
   "execution_count": 1,
   "id": "88e6622d",
   "metadata": {},
   "outputs": [],
   "source": [
    "import pyvisa"
   ]
  },
  {
   "cell_type": "code",
   "execution_count": 2,
   "id": "d61114ee",
   "metadata": {},
   "outputs": [],
   "source": [
    "rm = pyvisa.ResourceManager()"
   ]
  },
  {
   "cell_type": "code",
   "execution_count": 3,
   "id": "69c2a1ef",
   "metadata": {},
   "outputs": [
    {
     "data": {
      "text/plain": [
       "('ASRL1::INSTR', 'GPIB0::14::INSTR')"
      ]
     },
     "execution_count": 3,
     "metadata": {},
     "output_type": "execute_result"
    }
   ],
   "source": [
    "rm.list_resources()"
   ]
  },
  {
   "cell_type": "code",
   "execution_count": 4,
   "id": "b8903777",
   "metadata": {},
   "outputs": [],
   "source": [
    "pwr = rm.open_resource('GPIB0::14::INSTR')"
   ]
  },
  {
   "cell_type": "code",
   "execution_count": 8,
   "id": "ac7ec461",
   "metadata": {},
   "outputs": [
    {
     "data": {
      "text/plain": [
       "'0E0\\n'"
      ]
     },
     "execution_count": 8,
     "metadata": {},
     "output_type": "execute_result"
    }
   ],
   "source": [
    "pwr.query(\"VOUT?\")"
   ]
  },
  {
   "cell_type": "code",
   "execution_count": 9,
   "id": "8f11870a",
   "metadata": {},
   "outputs": [],
   "source": [
    "pwr.close()"
   ]
  },
  {
   "cell_type": "code",
   "execution_count": null,
   "id": "362cca53",
   "metadata": {},
   "outputs": [],
   "source": []
  }
 ],
 "metadata": {
  "kernelspec": {
   "display_name": ".venv",
   "language": "python",
   "name": "python3"
  },
  "language_info": {
   "codemirror_mode": {
    "name": "ipython",
    "version": 3
   },
   "file_extension": ".py",
   "mimetype": "text/x-python",
   "name": "python",
   "nbconvert_exporter": "python",
   "pygments_lexer": "ipython3",
   "version": "3.10.5"
  }
 },
 "nbformat": 4,
 "nbformat_minor": 5
}
