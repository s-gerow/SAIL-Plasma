{
 "cells": [
  {
   "cell_type": "code",
   "execution_count": 1,
   "id": "33e89689",
   "metadata": {},
   "outputs": [],
   "source": [
    "import nidaqmx\n",
    "from nidaqmx.constants import TerminalConfiguration, DigitalDriveType"
   ]
  },
  {
   "cell_type": "code",
   "execution_count": null,
   "id": "eecc9ecf",
   "metadata": {},
   "outputs": [],
   "source": [
    "ao_task = nidaqmx.Task()\n",
    "ai_task = nidaqmx.Task()\n"
   ]
  },
  {
   "cell_type": "code",
   "execution_count": null,
   "id": "4256d7cf",
   "metadata": {},
   "outputs": [
    {
     "data": {
      "text/plain": [
       "DOChannel(name=NI_DAQ/port1/line1)"
      ]
     },
     "execution_count": 3,
     "metadata": {},
     "output_type": "execute_result"
    }
   ],
   "source": [
    "ao_task.ao_channels.add_ao_voltage_chan(\"NI_DAQ/ao1\", name_to_assign_to_channel=\"SetPointInput\", min_val=0, max_val=5)\n",
    "ai_task.ai_channels.add_ai_voltage_chan(\"NI_DAQ/ai3\", name_to_assign_to_channel=\"ValveTestPoint\", min_val=0, max_val=5, terminal_config=nidaqmx.constants.TerminalConfiguration.RSE)\n",
    "ai_task.ai_channels.add_ai_voltage_chan(\"NI_DAQ/ai7\", name_to_assign_to_channel=\"FlowSignal\", min_val=0, max_val=5, terminal_config=nidaqmx.constants.TerminalConfiguration.RSE)\n"
   ]
  },
  {
   "cell_type": "code",
   "execution_count": null,
   "id": "3a8e3104",
   "metadata": {},
   "outputs": [
    {
     "name": "stdout",
     "output_type": "stream",
     "text": [
      "DigitalDriveType.ACTIVE_DRIVE\n"
     ]
    }
   ],
   "source": [
    "do_task = nidaqmx.Task()\n",
    "#do_task.do_channels.add_do_chan(\"NI_DAQ/port1/line0\")\n",
    "#do_task.do_channels.add_do_chan(\"NI_DAQ/port1/line1\")\n",
    "#do_task.do_channels.add_do_chan(\"NI_DAQ/port1/line2\")\n",
    "print(do_task.channels.do_output_drive_type)\n",
    "do_task.close()"
   ]
  },
  {
   "cell_type": "code",
   "execution_count": 42,
   "id": "ded1790d",
   "metadata": {},
   "outputs": [
    {
     "data": {
      "text/plain": [
       "1"
      ]
     },
     "execution_count": 42,
     "metadata": {},
     "output_type": "execute_result"
    }
   ],
   "source": [
    "#valve open\n",
    "do_task.write([False, True], auto_start=True, timeout=3)"
   ]
  },
  {
   "cell_type": "code",
   "execution_count": 48,
   "id": "8bc2554f",
   "metadata": {},
   "outputs": [
    {
     "data": {
      "text/plain": [
       "1"
      ]
     },
     "execution_count": 48,
     "metadata": {},
     "output_type": "execute_result"
    }
   ],
   "source": [
    "#valve close\n",
    "do_task.write([True, False], auto_start=True, timeout=3)"
   ]
  },
  {
   "cell_type": "code",
   "execution_count": 45,
   "id": "6c5c589f",
   "metadata": {},
   "outputs": [
    {
     "data": {
      "text/plain": [
       "1"
      ]
     },
     "execution_count": 45,
     "metadata": {},
     "output_type": "execute_result"
    }
   ],
   "source": [
    "#flow rate\n",
    "ao_task.write(0, auto_start=True, timeout=3)"
   ]
  },
  {
   "cell_type": "code",
   "execution_count": 51,
   "id": "d6478b47",
   "metadata": {},
   "outputs": [
    {
     "data": {
      "text/plain": [
       "[0.2959593246341683, 0.6700669863494113]"
      ]
     },
     "execution_count": 51,
     "metadata": {},
     "output_type": "execute_result"
    }
   ],
   "source": [
    "#[Valve test (valve open/close), flow signal output]\n",
    "ai_task.read()"
   ]
  },
  {
   "cell_type": "code",
   "execution_count": 52,
   "id": "37c078e1",
   "metadata": {},
   "outputs": [],
   "source": [
    "ai_task.close()\n",
    "ao_task.close()\n",
    "do_task.close()"
   ]
  },
  {
   "cell_type": "markdown",
   "id": "621341af",
   "metadata": {},
   "source": [
    "testing gate control with DAQ"
   ]
  },
  {
   "cell_type": "code",
   "execution_count": 1,
   "id": "5f0afa96",
   "metadata": {},
   "outputs": [],
   "source": [
    "import nidaqmx\n",
    "import time"
   ]
  },
  {
   "cell_type": "code",
   "execution_count": 73,
   "id": "e6a75209",
   "metadata": {},
   "outputs": [],
   "source": [
    "with nidaqmx.Task() as task:\n",
    "    task.do_channels.add_do_chan(\"NI_DAQ/port0/line3\")\n",
    "    task.do_channels.add_do_chan(\"NI_DAQ/port0/line4\")\n",
    "    task.write([False, False], auto_start=True, timeout=3)\n",
    "    task.write([False, True], auto_start=True, timeout=3)\n",
    "    #task.write([True, False], auto_start=True, timeout=3)\n",
    "    "
   ]
  },
  {
   "cell_type": "code",
   "execution_count": 2,
   "id": "3490d7ee",
   "metadata": {},
   "outputs": [],
   "source": [
    "with nidaqmx.Task() as task:\n",
    "    task.do_channels.add_do_chan(\"NI_DAQ/port0/line0\")\n",
    "    task.do_channels.add_do_chan(\"NI_DAQ/port0/line1\")\n",
    "    task.write([False, False], auto_start=True, timeout=3)"
   ]
  },
  {
   "cell_type": "code",
   "execution_count": 67,
   "id": "f3458b5c",
   "metadata": {},
   "outputs": [],
   "source": [
    "import numpy as np"
   ]
  },
  {
   "cell_type": "code",
   "execution_count": 41,
   "id": "27fb29a4",
   "metadata": {},
   "outputs": [
    {
     "data": {
      "text/plain": [
       "array([0., 1., 2., 3., 4., 5., 6., 7., 8., 9.])"
      ]
     },
     "execution_count": 41,
     "metadata": {},
     "output_type": "execute_result"
    }
   ],
   "source": [
    "np.linspace(start=0, stop=10, num=10, endpoint=False)"
   ]
  },
  {
   "cell_type": "code",
   "execution_count": 69,
   "id": "f3684481",
   "metadata": {},
   "outputs": [
    {
     "name": "stdout",
     "output_type": "stream",
     "text": [
      "trial: 0\n",
      "pressure: 0.0\n",
      "10\n",
      "trial: 1\n",
      "pressure: 1.0\n",
      "10\n",
      "trial: 2\n",
      "pressure: 2.0\n",
      "10\n",
      "trial: 3\n",
      "pressure: 3.0\n",
      "10\n",
      "trial: 4\n",
      "pressure: 4.0\n",
      "10\n",
      "trial: 5\n",
      "pressure: 5.0\n",
      "10\n",
      "trial: 6\n",
      "pressure: 6.0\n",
      "10\n",
      "trial: 7\n",
      "pressure: 7.0\n",
      "10\n",
      "trial: 8\n",
      "pressure: 8.0\n",
      "10\n",
      "trial: 9\n",
      "pressure: 9.0\n",
      "10\n"
     ]
    }
   ],
   "source": [
    "array = np.linspace(start=0, stop=10, num=10, endpoint=False)\n",
    "for trial, pressure in enumerate(array):\n",
    "    print(f\"trial: {trial}\\npressure: {pressure}\")\n",
    "    print(len(array))"
   ]
  },
  {
   "cell_type": "code",
   "execution_count": 25,
   "id": "868c1cd5",
   "metadata": {},
   "outputs": [],
   "source": [
    "#up\n",
    "do_task = nidaqmx.Task()\n",
    "do_task.do_channels.add_do_chan(\"NI_DAQ/port1/line2\")\n",
    "do_task.do_channels.add_do_chan(\"NI_DAQ/port1/line1\")\n",
    "do_task.write([True,False],auto_start=True, timeout=3)\n",
    "time.sleep(0.5)\n",
    "for x in range(400):\n",
    "    do_task.write([True,False],auto_start=True,timeout=10)\n",
    "    time.sleep(.0000025)\n",
    "    do_task.write([False,False],auto_start=True,timeout=10)\n",
    "    time.sleep(0.0000025)\n",
    "do_task.close()"
   ]
  },
  {
   "cell_type": "code",
   "execution_count": null,
   "id": "a9fefbba",
   "metadata": {},
   "outputs": [],
   "source": [
    "#down\n",
    "do_task = nidaqmx.Task()\n",
    "do_task.do_channels.add_do_chan(\"NI_DAQ/port1/line2\") #PUL\n",
    "do_task.do_channels.add_do_chan(\"NI_DAQ/port1/line1\") #Dir\n",
    "do_task.write([True,False],auto_start=True, timeout=3)\n",
    "time.sleep(.00001)\n",
    "for x in range(400):\n",
    "    do_task.write([True,True],auto_start=True,timeout=10)\n",
    "    time.sleep(.0000025)\n",
    "    do_task.write([False,True],auto_start=True,timeout=10)\n",
    "    time.sleep(0.0000025)\n",
    "do_task.close()"
   ]
  },
  {
   "cell_type": "code",
   "execution_count": 28,
   "id": "a43635fd",
   "metadata": {},
   "outputs": [],
   "source": [
    "do_task = nidaqmx.Task()\n",
    "do_task.do_channels.add_do_chan(\"NI_DAQ/port1/line2\") #PUL\n",
    "do_task.do_channels.add_do_chan(\"NI_DAQ/port1/line1\") #Dir\n",
    "do_task.write([True,True],auto_start=True, timeout=3)\n",
    "time.sleep(30)\n",
    "do_task.write([False,False],auto_start=True,timeout=10)\n",
    "do_task.close()"
   ]
  },
  {
   "cell_type": "code",
   "execution_count": 47,
   "id": "50f42e49",
   "metadata": {},
   "outputs": [],
   "source": [
    "import nidaqmx\n",
    "import time\n",
    "\n",
    "# NI USB-6002: PUL = port1/line2, DIR = port1/line1\n",
    "do_task = nidaqmx.Task()\n",
    "do_task.do_channels.add_do_chan(\"NI_DAQ/port1/line1\")  # DIR\n",
    "do_task.do_channels.add_do_chan(\"NI_DAQ/port1/line2\")  # PUL\n",
    "# Change direction here: True (down) or False (up)\n",
    "direction = True  # Toggle this to reverse motor direction\n",
    "\n",
    "# Set DIR before stepping\n",
    "do_task.write([direction, False], auto_start=True)\n",
    "time.sleep(0.00001)  # ≥5 µs DIR setup time\n",
    "\n",
    "# Generate 400 step pulses (1.8°/step motor = 0.5 rev)\n",
    "for _ in range(3200):\n",
    "    do_task.write([direction, True], auto_start=True)   # PUL HIGH\n",
    "    time.sleep(0.000005)\n",
    "    do_task.write([direction, False], auto_start=True)  # PUL LOW\n",
    "    time.sleep(0.000005)\n",
    "\n",
    "do_task.close()"
   ]
  },
  {
   "cell_type": "code",
   "execution_count": 48,
   "id": "7ee55b2d",
   "metadata": {},
   "outputs": [],
   "source": [
    "import pyvisa"
   ]
  },
  {
   "cell_type": "code",
   "execution_count": 58,
   "id": "7a96ec13",
   "metadata": {},
   "outputs": [
    {
     "data": {
      "text/plain": [
       "('USB0::0x05E6::0x6500::04386498::INSTR',\n",
       " 'USB0::0xF4EC::0xEE38::SDSMMFCD4R9625::INSTR',\n",
       " 'ASRL1::INSTR',\n",
       " 'ASRL4::INSTR')"
      ]
     },
     "execution_count": 58,
     "metadata": {},
     "output_type": "execute_result"
    }
   ],
   "source": [
    "rm = pyvisa.ResourceManager()\n",
    "rm.list_resources()"
   ]
  },
  {
   "cell_type": "code",
   "execution_count": 59,
   "id": "54fba786",
   "metadata": {},
   "outputs": [
    {
     "data": {
      "text/plain": [
       "{'USB0::0x05E6::0x6500::04386498::INSTR': ResourceInfo(interface_type=<InterfaceType.usb: 7>, interface_board_number=0, resource_class='INSTR', resource_name='USB0::0x05E6::0x6500::04386498::0::INSTR', alias='Digital_Multimeter'),\n",
       " 'USB0::0xF4EC::0xEE38::SDSMMFCD4R9625::INSTR': ResourceInfo(interface_type=<InterfaceType.usb: 7>, interface_board_number=0, resource_class='INSTR', resource_name='USB0::0xF4EC::0xEE38::SDSMMFCD4R9625::0::INSTR', alias='Oscilloscope'),\n",
       " 'ASRL1::INSTR': ResourceInfo(interface_type=<InterfaceType.asrl: 4>, interface_board_number=1, resource_class='INSTR', resource_name='ASRL1::INSTR', alias='CD_reader'),\n",
       " 'ASRL4::INSTR': ResourceInfo(interface_type=<InterfaceType.asrl: 4>, interface_board_number=4, resource_class='INSTR', resource_name='ASRL4::INSTR', alias='Power_TR')}"
      ]
     },
     "execution_count": 59,
     "metadata": {},
     "output_type": "execute_result"
    }
   ],
   "source": [
    "rm.list_resources_info()"
   ]
  },
  {
   "cell_type": "code",
   "execution_count": 60,
   "id": "8f9526c2",
   "metadata": {},
   "outputs": [],
   "source": [
    "osc = rm.open_resource(\"USB0::0xF4EC::0xEE38::SDSMMFCD4R9625::INSTR\")"
   ]
  },
  {
   "cell_type": "code",
   "execution_count": 64,
   "id": "52d8c35d",
   "metadata": {},
   "outputs": [
    {
     "data": {
      "text/plain": [
       "0.0"
      ]
     },
     "execution_count": 64,
     "metadata": {},
     "output_type": "execute_result"
    }
   ],
   "source": [
    "float(osc.query(\"C1:OFST?\"))"
   ]
  },
  {
   "cell_type": "code",
   "execution_count": 65,
   "id": "e1358cf7",
   "metadata": {},
   "outputs": [],
   "source": [
    "osc.close()"
   ]
  },
  {
   "cell_type": "code",
   "execution_count": 74,
   "id": "848a2ba1",
   "metadata": {},
   "outputs": [
    {
     "name": "stdout",
     "output_type": "stream",
     "text": [
      "2\n"
     ]
    }
   ],
   "source": [
    "trial=1\n",
    "trial+=1\n",
    "print(trial)"
   ]
  },
  {
   "cell_type": "code",
   "execution_count": null,
   "id": "d0eec495",
   "metadata": {},
   "outputs": [],
   "source": []
  }
 ],
 "metadata": {
  "kernelspec": {
   "display_name": ".venv",
   "language": "python",
   "name": "python3"
  },
  "language_info": {
   "codemirror_mode": {
    "name": "ipython",
    "version": 3
   },
   "file_extension": ".py",
   "mimetype": "text/x-python",
   "name": "python",
   "nbconvert_exporter": "python",
   "pygments_lexer": "ipython3",
   "version": "3.10.5"
  }
 },
 "nbformat": 4,
 "nbformat_minor": 5
}
