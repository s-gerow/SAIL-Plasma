{
 "cells": [
  {
   "cell_type": "markdown",
   "metadata": {},
   "source": [
    "# Curve Fit to Paschen Data"
   ]
  },
  {
   "cell_type": "code",
   "execution_count": 27,
   "metadata": {},
   "outputs": [],
   "source": [
    "import numpy as np\n",
    "import pandas as pd\n",
    "from tkinter import filedialog as fd\n",
    "import matplotlib.pyplot as plt"
   ]
  },
  {
   "cell_type": "code",
   "execution_count": 28,
   "metadata": {},
   "outputs": [],
   "source": [
    "filename = fd.askopenfilename(title=\"Open...\", filetypes=[(\"CSV Files\", \"*.csv\"), (\"Excel Files\", \"*.xlxs\")])"
   ]
  },
  {
   "cell_type": "code",
   "execution_count": 29,
   "metadata": {},
   "outputs": [
    {
     "name": "stdout",
     "output_type": "stream",
     "text": [
      "              Time  D_Y(Osc)    V_in  V(Volts)  Current (Amp)  p_Exact(Torr)  \\\n",
      "0   2/6/2025 14:53     0.288  41.517  506.2561          0.079       3.513268   \n",
      "1   2/6/2025 14:37     0.288  40.513  488.1775          0.077       3.224734   \n",
      "2   2/6/2025 14:23     0.288  41.517  505.8847          0.079       3.501557   \n",
      "3   2/6/2025 14:11     0.288  40.527  488.1731          0.077       3.288766   \n",
      "4   2/6/2025 13:59     0.288  40.018  479.6436          0.076       2.882951   \n",
      "5   2/6/2025 13:44     0.288  36.027  418.8770          0.069       1.645862   \n",
      "6   2/6/2025 13:34     0.288  39.013  463.0955          0.074       2.746195   \n",
      "7   2/6/2025 13:20     0.288  39.508  471.0265          0.075       2.853160   \n",
      "8   2/6/2025 12:48     0.288  39.013  462.8725          0.074       2.616896   \n",
      "9   2/6/2025 12:34     0.288  39.013  462.8466          0.074       2.550760   \n",
      "10  2/6/2025 12:24     0.288  43.017  517.8516          0.082       3.037767   \n",
      "11  2/6/2025 11:34     0.288  38.518  455.1647          0.073       2.455132   \n",
      "12  2/6/2025 11:23     0.288  40.499  487.7681          0.077       2.351719   \n",
      "13  2/6/2025 10:53     0.288  36.523  425.8846          0.070       1.913400   \n",
      "14  2/6/2025 10:41     0.288  37.527  440.2541          0.072       1.944889   \n",
      "15  2/6/2025 10:28     0.288  36.027  418.9218          0.069       1.856071   \n",
      "16  2/6/2025 10:16     0.288  35.518  412.2334          0.068       1.436897   \n",
      "17  2/6/2025 10:10     0.288  38.022  447.6371          0.072       1.703005   \n",
      "18   2/6/2025 10:0     0.288  42.013  502.5428          0.080       2.123631   \n",
      "19  2/5/2025 17:29     0.288  43.526  544.6937          0.082       1.624027   \n",
      "20  2/5/2025 17:22     0.288  38.518  419.7000          0.073       1.493972   \n",
      "21  2/4/2025 13:56     0.288  35.023  405.7308          0.067       1.467060   \n",
      "22  2/4/2025 13:45     0.288  41.036  496.6444          0.078       1.375863   \n",
      "23  2/4/2025 13:41     0.288  27.042  314.9594          0.052       1.245651   \n",
      "24   2/4/2025 13:3     0.288  38.545  455.4932          0.073       1.259592   \n",
      "25  2/4/2025 12:43     0.288  36.550  426.2303          0.070       1.047505   \n",
      "26  2/4/2025 12:31     0.288  39.013  463.0981          0.074       0.976937   \n",
      "27   2/4/2025 12:3     0.288  40.031  477.1148          0.076       0.995597   \n",
      "28  2/4/2025 11:49     0.288  43.526  543.9045          0.083       1.038605   \n",
      "29  2/3/2025 17:53     0.288  39.522  470.8984          0.075       0.712456   \n",
      "30  2/3/2025 17:40     0.288  38.036  447.3684          0.072       0.656375   \n",
      "31  2/3/2025 17:32     0.288  44.531  566.6924          0.084       0.479211   \n",
      "32  2/3/2025 17:20     0.288  46.044  605.3605          0.087       0.458346   \n",
      "33   2/3/2025 17:5     0.288  45.535  590.1204          0.086       0.241966   \n",
      "34  2/3/2025 16:55     0.288  47.517  656.8925          0.089       0.262737   \n",
      "\n",
      "    p_Predict(Torr)  dis (cm)      d(V)      d(p)  d(d)     d(pd)  \n",
      "0              3.50       0.5  0.000506  0.351327   0.1  0.526990  \n",
      "1              3.25       0.5  0.000488  0.322473   0.1  0.483710  \n",
      "2              3.50       0.5  0.000506  0.350156   0.1  0.525234  \n",
      "3              3.25       0.5  0.000488  0.328877   0.1  0.493315  \n",
      "4              3.00       0.5  0.000480  0.288295   0.1  0.432443  \n",
      "5              3.00       0.5  0.000419  0.164586   0.1  0.246879  \n",
      "6              2.75       0.5  0.000463  0.274619   0.1  0.411929  \n",
      "7              2.75       0.5  0.000471  0.285316   0.1  0.427974  \n",
      "8              2.50       0.5  0.000463  0.261690   0.1  0.392534  \n",
      "9              2.50       0.5  0.000463  0.255076   0.1  0.382614  \n",
      "10             3.00       0.5  0.000518  0.303777   0.1  0.455665  \n",
      "11             2.25       0.5  0.000455  0.245513   0.1  0.368270  \n",
      "12             2.25       0.5  0.000488  0.235172   0.1  0.352758  \n",
      "13             2.00       0.5  0.000426  0.191340   0.1  0.287010  \n",
      "14             2.00       0.5  0.000440  0.194489   0.1  0.291733  \n",
      "15             2.00       0.5  0.000419  0.185607   0.1  0.278411  \n",
      "16             1.75       0.5  0.000412  0.143690   0.1  0.215535  \n",
      "17             1.75       0.5  0.000448  0.170301   0.1  0.255451  \n",
      "18             1.75       0.5  0.000503  0.212363   0.1  0.318545  \n",
      "19             1.50       0.5  0.000545  0.162403   0.1  0.243604  \n",
      "20             1.50       0.5  0.000420  0.149397   0.1  0.224096  \n",
      "21             1.50       0.5  0.000406  0.146706   0.1  0.220059  \n",
      "22             1.25       0.5  0.000497  0.137586   0.1  0.206379  \n",
      "23             1.25       0.5  0.000315  0.124565   0.1  0.186848  \n",
      "24             1.25       0.5  0.000455  0.125959   0.1  0.188939  \n",
      "25             1.00       0.5  0.000426  0.104750   0.1  0.157126  \n",
      "26             1.00       0.5  0.000463  0.097694   0.1  0.146541  \n",
      "27             1.00       0.5  0.000477  0.099560   0.1  0.149339  \n",
      "28             1.00       0.5  0.000544  0.103861   0.1  0.155791  \n",
      "29             0.75       0.5  0.000471  0.071246   0.1  0.106868  \n",
      "30             0.75       0.5  0.000447  0.065637   0.1  0.098456  \n",
      "31             0.50       0.5  0.000567  0.047921   0.1  0.071882  \n",
      "32             0.50       0.5  0.000605  0.045835   0.1  0.068752  \n",
      "33             0.25       0.5  0.000590  0.024197   0.1  0.036295  \n",
      "34             0.25       0.5  0.000657  0.026274   0.1  0.039411  \n"
     ]
    }
   ],
   "source": [
    "lab_data = pd.read_csv(filename)\n",
    "\n",
    "print(lab_data)"
   ]
  },
  {
   "cell_type": "code",
   "execution_count": 30,
   "metadata": {},
   "outputs": [
    {
     "name": "stdout",
     "output_type": "stream",
     "text": [
      "[1.75663402 1.61236685 1.75077872 1.64438279 1.44147564 0.82293102\n",
      " 1.37309732 1.42657991 1.30844793 1.27537985 1.51888341 1.22756576\n",
      " 1.17585967 0.95670024 0.97244471 0.92803531 0.71844836 0.85150256\n",
      " 1.06181543 0.81201362 0.74698619 0.73353014 0.68793146 0.62282568\n",
      " 0.62979606 0.52375247 0.48846851 0.4977983  0.51930254 0.35622813\n",
      " 0.32818741 0.23960557 0.22917285 0.12098295 0.1313686 ]\n"
     ]
    }
   ],
   "source": [
    "p = lab_data.iloc[:,5].values\n",
    "d = lab_data.iloc[:,7].values\n",
    "v = lab_data.iloc[:,3].values\n",
    "\n",
    "p_d = p*d\n",
    "print(p_d)"
   ]
  },
  {
   "cell_type": "code",
   "execution_count": 31,
   "metadata": {},
   "outputs": [
    {
     "data": {
      "text/plain": [
       "[<matplotlib.lines.Line2D at 0x1d441e70610>]"
      ]
     },
     "execution_count": 31,
     "metadata": {},
     "output_type": "execute_result"
    },
    {
     "data": {
      "image/png": "[encoded data removed]",
      "text/plain": [
       "<Figure size 640x480 with 1 Axes>"
      ]
     },
     "metadata": {},
     "output_type": "display_data"
    }
   ],
   "source": [
    "plt.plot(p_d, v, 'o')"
   ]
  },
  {
   "cell_type": "markdown",
   "metadata": {},
   "source": []
  }
 ],
 "metadata": {
  "kernelspec": {
   "display_name": ".venv",
   "language": "python",
   "name": "python3"
  },
  "language_info": {
   "codemirror_mode": {
    "name": "ipython",
    "version": 3
   },
   "file_extension": ".py",
   "mimetype": "text/x-python",
   "name": "python",
   "nbconvert_exporter": "python",
   "pygments_lexer": "ipython3",
   "version": "3.10.5"
  }
 },
 "nbformat": 4,
 "nbformat_minor": 2
}
