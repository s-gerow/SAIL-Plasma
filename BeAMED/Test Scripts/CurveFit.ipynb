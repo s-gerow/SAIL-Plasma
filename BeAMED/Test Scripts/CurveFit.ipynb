{
 "cells": [
  {
   "cell_type": "markdown",
   "metadata": {},
   "source": [
    "# Curve Fit to Paschen Data"
   ]
  },
  {
   "cell_type": "code",
   "execution_count": 6,
   "metadata": {},
   "outputs": [],
   "source": [
    "import numpy as np\n",
    "import pandas as pd\n",
    "from tkinter import filedialog as fd"
   ]
  },
  {
   "cell_type": "code",
   "execution_count": 7,
   "metadata": {},
   "outputs": [],
   "source": [
    "filename = fd.askopenfilename(title=\"Open...\", filetypes=[(\"CSV Files\", \"*.csv\"), (\"Excel Files\", \"*.xlxs\")])"
   ]
  },
  {
   "cell_type": "code",
   "execution_count": 8,
   "metadata": {},
   "outputs": [
    {
     "name": "stdout",
     "output_type": "stream",
     "text": [
      "              Time  D_Y(Osc)    V_in  V(Volts)  Current (Amp)  p_Exact(Torr)  \\\n",
      "0    2/4/2025 13:3     0.288  38.545  455.4932          0.073       1.259592   \n",
      "1   2/4/2025 12:43     0.288  36.550  426.2303          0.070       1.047505   \n",
      "2   2/4/2025 12:31     0.288  39.013  463.0981          0.074       0.976937   \n",
      "3    2/4/2025 12:3     0.288  40.031  477.1148          0.076       0.995597   \n",
      "4   2/4/2025 11:49     0.288  43.526  543.9045          0.083       1.038605   \n",
      "5   2/3/2025 17:53     0.288  39.522  470.8984          0.075       0.712456   \n",
      "6   2/3/2025 17:40     0.288  38.036  447.3684          0.072       0.656375   \n",
      "7   2/3/2025 17:32     0.288  44.531  566.6924          0.084       0.479211   \n",
      "8   2/3/2025 17:20     0.288  46.044  605.3605          0.087       0.458346   \n",
      "9    2/3/2025 17:5     0.288  45.535  590.1204          0.086       0.241966   \n",
      "10  2/3/2025 16:55     0.288  47.517  656.8925          0.089       0.262737   \n",
      "\n",
      "    p_Predict(Torr)  dis (cm)      d(V)      d(p)  d(d)     d(pd)  \n",
      "0              1.25       0.5  0.000455  0.125959   0.1  0.188939  \n",
      "1              1.00       0.5  0.000426  0.104750   0.1  0.157126  \n",
      "2              1.00       0.5  0.000463  0.097694   0.1  0.146541  \n",
      "3              1.00       0.5  0.000477  0.099560   0.1  0.149339  \n",
      "4              1.00       0.5  0.000544  0.103861   0.1  0.155791  \n",
      "5              0.75       0.5  0.000471  0.071246   0.1  0.106868  \n",
      "6              0.75       0.5  0.000447  0.065637   0.1  0.098456  \n",
      "7              0.50       0.5  0.000567  0.047921   0.1  0.071882  \n",
      "8              0.50       0.5  0.000605  0.045835   0.1  0.068752  \n",
      "9              0.25       0.5  0.000590  0.024197   0.1  0.036295  \n",
      "10             0.25       0.5  0.000657  0.026274   0.1  0.039411  \n"
     ]
    }
   ],
   "source": [
    "lab_data = pd.read_csv(filename)\n",
    "\n",
    "print(lab_data)"
   ]
  },
  {
   "cell_type": "markdown",
   "metadata": {},
   "source": []
  }
 ],
 "metadata": {
  "kernelspec": {
   "display_name": ".venv",
   "language": "python",
   "name": "python3"
  },
  "language_info": {
   "codemirror_mode": {
    "name": "ipython",
    "version": 3
   },
   "file_extension": ".py",
   "mimetype": "text/x-python",
   "name": "python",
   "nbconvert_exporter": "python",
   "pygments_lexer": "ipython3",
   "version": "3.10.5"
  }
 },
 "nbformat": 4,
 "nbformat_minor": 2
}
