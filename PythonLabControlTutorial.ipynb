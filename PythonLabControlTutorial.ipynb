{
 "cells": [
  {
   "cell_type": "markdown",
   "id": "6581b09e",
   "metadata": {},
   "source": [
    "# Controling Lab Equipment with Python Tutorial"
   ]
  },
  {
   "cell_type": "markdown",
   "id": "8fbfa085",
   "metadata": {},
   "source": [
    "We can use Python to control programmable lab equipment instead of using proprietary software such as NI-MAX or LABVIEW."
   ]
  },
  {
   "cell_type": "markdown",
   "id": "c11caa78",
   "metadata": {},
   "source": [
    "## Libraries"
   ]
  },
  {
   "cell_type": "markdown",
   "id": "8286fd9a",
   "metadata": {},
   "source": [
    "* PyVISA\n",
    "* nidaqmx\n",
    "* threading"
   ]
  },
  {
   "cell_type": "markdown",
   "id": "daa9acec",
   "metadata": {},
   "source": [
    "### PyVISA (https://pyvisa.readthedocs.io/en/latest/)"
   ]
  },
  {
   "cell_type": "markdown",
   "id": "5de0a64c",
   "metadata": {},
   "source": [
    "The PyVISA library is a Python wrapper for the VISA library which already exists for C, Visual Basic, and G (LABVIEW). It allows you to communicate with instrumentation systems which use USB, ethernet, GPIB, VXI, PXI, or serial interfaces [1]. While the specific programing commands will be dependent on the device, PyVISA provides a library to communicate with any devices which can be connected to the computer. For example, we can control a Tektronix Oscilloscope to read the screen.\n"
   ]
  },
  {
   "cell_type": "markdown",
   "id": "829bfa64",
   "metadata": {},
   "source": [
    "This particular oscilloscope is the Tektronix MDO34, for any given programmable device you will need to know its VISA communication ID and its programming commands. IEEE 488.2 mandated specific protocol and data formats but not command interfaces. To fix this problem the Standard Commands for Programmable Instruments (SCPI) was developed. All programmable devices will use at a minimum, the common commands from this set, in addition to following the required command format. I will breifly go over the command format, though all programming manuals will also do that.\n",
    "\n",
    "A command can either perform an operation (set) or request information (query), in either case it will take the following form:\n",
    "```\n",
    "[:]Header:[Subfunction] Argument[;]\n",
    "```\n",
    "The semicolon at the end is optional but allows you to chain commands in a single line. Normally the colon at the beginning is optional, but when chaining commands, it is required:\n",
    "```\n",
    ":Header:[Subfunction] Argument; :Header;[Subfunction] Argument\n",
    "```\n",
    "The argument is only for set operations which require it. A query does not have an argument and takes the form:\n",
    "```\n",
    "[:]Header:[Subfunction]?\n",
    "```\n",
    "and will get a return in the form\n",
    "```\n",
    ":Header:[Subfunction] value[;]\n",
    "```\n",
    "If multiple queries are chained with semicolons, so will the output.\n",
    "\n",
    "Some functions have subfunctions within them, if they do, that is when the optional subfunction section is used.\n",
    "\n",
    "The final command syntax rule to know is that commands can be shortened based on their capitalized letters. For example, Aquisition commands for an oscilloscope are aquired and processed into waveforms. The aquire header is found in the programming manual to be ```ACQuire``` and the acquisition mode is ```MODe``` with possible arguments of: ```SAMple```, ```PEAKdetect```, ```HIRes```, ```AVErage```, ```ENVelope```. While I wont go into detail on the meaning of each of those, if I wanted to acquire data from an oscilloscope input in Hi Res mode I would write:\n",
    "\n",
    "```\n",
    "ACQuire:MODe HIRes\n",
    "```\n",
    "\n",
    "Or to query the mode I can write:\n",
    "\n",
    "```\n",
    "ACQuire:MODe?\n",
    "```\n",
    "These can both be shortened by only using the capitalized words:\n",
    "```\n",
    "ACQ:MOD HIR\n",
    "ACQ:MOD?\n",
    "```\n",
    "\n",
    "For specific device commands I recommend to find a \"programming manual\" for the device, which usually can be found at the manufacturer's website. In this case we have this one: https://download.tek.com/manual/3-MDO-Oscilloscope-Programmer-Manual-077149800.pdf."
   ]
  },
  {
   "cell_type": "markdown",
   "id": "2d8271c7",
   "metadata": {},
   "source": [
    "### Example"
   ]
  },
  {
   "cell_type": "markdown",
   "id": "291a9fca",
   "metadata": {},
   "source": [
    "To start, we can install the needed libraries, your computer will also need USB Test & Measurement Class specification (USBTMC) to be able to communicate over USB. This is not an issue for Windows machines, but Linux, and especially MACOS will struggle."
   ]
  },
  {
   "cell_type": "code",
   "execution_count": 8,
   "id": "bb7cc701",
   "metadata": {},
   "outputs": [
    {
     "name": "stdout",
     "output_type": "stream",
     "text": [
      "Requirement already satisfied: pyvisa in ./.venv/lib/python3.12/site-packages (1.15.0)\n",
      "Requirement already satisfied: typing_extensions>=4.0.0 in ./.venv/lib/python3.12/site-packages (from pyvisa) (4.13.2)\n",
      "Note: you may need to restart the kernel to use updated packages.\n"
     ]
    }
   ],
   "source": [
    "pip install pyvisa"
   ]
  },
  {
   "cell_type": "markdown",
   "id": "c4f7f59d",
   "metadata": {},
   "source": [
    "You will also likely need the backend libraries: pyvisa-py will provide the background for the visa communication and zeroconf will help with more advanced resource discovery."
   ]
  },
  {
   "cell_type": "code",
   "execution_count": 14,
   "id": "ec4d4c35",
   "metadata": {},
   "outputs": [
    {
     "name": "stdout",
     "output_type": "stream",
     "text": [
      "Requirement already satisfied: pyvisa-py in ./.venv/lib/python3.12/site-packages (0.8.0)\n",
      "Requirement already satisfied: pyvisa>=1.15.0 in ./.venv/lib/python3.12/site-packages (from pyvisa-py) (1.15.0)\n",
      "Requirement already satisfied: typing_extensions in ./.venv/lib/python3.12/site-packages (from pyvisa-py) (4.13.2)\n",
      "Note: you may need to restart the kernel to use updated packages.\n"
     ]
    }
   ],
   "source": [
    "pip install pyvisa-py"
   ]
  },
  {
   "cell_type": "code",
   "execution_count": 28,
   "id": "41652e53",
   "metadata": {},
   "outputs": [
    {
     "name": "stdout",
     "output_type": "stream",
     "text": [
      "Requirement already satisfied: zeroconf in ./.venv/lib/python3.12/site-packages (0.147.0)\n",
      "Requirement already satisfied: ifaddr>=0.1.7 in ./.venv/lib/python3.12/site-packages (from zeroconf) (0.2.0)\n",
      "Note: you may need to restart the kernel to use updated packages.\n"
     ]
    }
   ],
   "source": [
    "pip install zeroconf"
   ]
  },
  {
   "cell_type": "markdown",
   "id": "c25f506f",
   "metadata": {},
   "source": [
    "Next we can import the library"
   ]
  },
  {
   "cell_type": "code",
   "execution_count": 8,
   "id": "07d26086",
   "metadata": {},
   "outputs": [],
   "source": [
    "import pyvisa"
   ]
  },
  {
   "cell_type": "markdown",
   "id": "28a0a293",
   "metadata": {},
   "source": [
    "And now we can start to communicate with devices. To see VISA compatible devices connected to your computer you will need to first create a resource manager. The resource manager allows you to see, open, and communicate with VISA devices."
   ]
  },
  {
   "cell_type": "code",
   "execution_count": 11,
   "id": "b92862bd",
   "metadata": {},
   "outputs": [],
   "source": [
    "rm = pyvisa.ResourceManager()"
   ]
  },
  {
   "cell_type": "markdown",
   "id": "66fe3b54",
   "metadata": {},
   "source": [
    "Once you have done that, you can find the current connected devices with the ```list_resources``` method"
   ]
  },
  {
   "cell_type": "code",
   "execution_count": 12,
   "id": "35031a15",
   "metadata": {},
   "outputs": [
    {
     "data": {
      "text/plain": [
       "()"
      ]
     },
     "execution_count": 12,
     "metadata": {},
     "output_type": "execute_result"
    }
   ],
   "source": [
    "rm.list_resources()\n"
   ]
  },
  {
   "cell_type": "markdown",
   "id": "9212eb38",
   "metadata": {},
   "source": [
    "At this point we can open the device we want. When we open the device we will want to assign it to an object to send it commands later. We can open a device with the resrouce manager method ```open_resource('resource name')```, where the resource name is the string listed in the above list which we want to use."
   ]
  },
  {
   "cell_type": "code",
   "execution_count": 20,
   "id": "991e2a2e",
   "metadata": {},
   "outputs": [
    {
     "ename": "IndexError",
     "evalue": "tuple index out of range",
     "output_type": "error",
     "traceback": [
      "\u001b[31m---------------------------------------------------------------------------\u001b[39m",
      "\u001b[31mIndexError\u001b[39m                                Traceback (most recent call last)",
      "\u001b[36mCell\u001b[39m\u001b[36m \u001b[39m\u001b[32mIn[20]\u001b[39m\u001b[32m, line 1\u001b[39m\n\u001b[32m----> \u001b[39m\u001b[32m1\u001b[39m oscilloscope = rm.open_resource(\u001b[43mrl\u001b[49m\u001b[43m[\u001b[49m\u001b[32;43m0\u001b[39;49m\u001b[43m]\u001b[49m)\n",
      "\u001b[31mIndexError\u001b[39m: tuple index out of range"
     ]
    }
   ],
   "source": [
    "oscilloscope = rm.open_resource(rl[0])"
   ]
  },
  {
   "cell_type": "markdown",
   "id": "b2decb91",
   "metadata": {},
   "source": [
    "Once we have a device we can query to get its name and make sure that we are working on the right device. The ```*IDN``` command is a common command which all VISA devices will understand. There a number of other common commands denoted by an *, they can be found in any device programming manual. When sending these common commands, regardless of if they are in series with a semi-colon, they do not have a colon to start."
   ]
  },
  {
   "cell_type": "code",
   "execution_count": 15,
   "id": "48244623",
   "metadata": {},
   "outputs": [
    {
     "ename": "VisaIOError",
     "evalue": "VI_ERROR_TMO (-1073807339): Timeout expired before operation completed.",
     "output_type": "error",
     "traceback": [
      "\u001b[0;31m---------------------------------------------------------------------------\u001b[0m",
      "\u001b[0;31mVisaIOError\u001b[0m                               Traceback (most recent call last)",
      "Cell \u001b[0;32mIn[15], line 1\u001b[0m\n\u001b[0;32m----> 1\u001b[0m \u001b[43moscilloscope\u001b[49m\u001b[38;5;241;43m.\u001b[39;49m\u001b[43mquery\u001b[49m\u001b[43m(\u001b[49m\u001b[38;5;124;43m'\u001b[39;49m\u001b[38;5;124;43m*IDN?\u001b[39;49m\u001b[38;5;124;43m'\u001b[39;49m\u001b[43m)\u001b[49m\n",
      "File \u001b[0;32m~/Desktop/Programming/github/SAIL-Plasma/.venv/lib/python3.12/site-packages/pyvisa/resources/messagebased.py:647\u001b[0m, in \u001b[0;36mMessageBasedResource.query\u001b[0;34m(self, message, delay)\u001b[0m\n\u001b[1;32m    644\u001b[0m \u001b[38;5;28;01mif\u001b[39;00m delay \u001b[38;5;241m>\u001b[39m \u001b[38;5;241m0.0\u001b[39m:\n\u001b[1;32m    645\u001b[0m     time\u001b[38;5;241m.\u001b[39msleep(delay)\n\u001b[0;32m--> 647\u001b[0m \u001b[38;5;28;01mreturn\u001b[39;00m \u001b[38;5;28;43mself\u001b[39;49m\u001b[38;5;241;43m.\u001b[39;49m\u001b[43mread\u001b[49m\u001b[43m(\u001b[49m\u001b[43m)\u001b[49m\n",
      "File \u001b[0;32m~/Desktop/Programming/github/SAIL-Plasma/.venv/lib/python3.12/site-packages/pyvisa/resources/messagebased.py:485\u001b[0m, in \u001b[0;36mMessageBasedResource.read\u001b[0;34m(self, termination, encoding)\u001b[0m\n\u001b[1;32m    483\u001b[0m \u001b[38;5;28;01mif\u001b[39;00m termination \u001b[38;5;129;01mis\u001b[39;00m \u001b[38;5;28;01mNone\u001b[39;00m:\n\u001b[1;32m    484\u001b[0m     termination \u001b[38;5;241m=\u001b[39m \u001b[38;5;28mself\u001b[39m\u001b[38;5;241m.\u001b[39m_read_termination\n\u001b[0;32m--> 485\u001b[0m     message \u001b[38;5;241m=\u001b[39m \u001b[38;5;28;43mself\u001b[39;49m\u001b[38;5;241;43m.\u001b[39;49m\u001b[43m_read_raw\u001b[49m\u001b[43m(\u001b[49m\u001b[43m)\u001b[49m\u001b[38;5;241m.\u001b[39mdecode(enco)\n\u001b[1;32m    486\u001b[0m \u001b[38;5;28;01melse\u001b[39;00m:\n\u001b[1;32m    487\u001b[0m     \u001b[38;5;28;01mwith\u001b[39;00m \u001b[38;5;28mself\u001b[39m\u001b[38;5;241m.\u001b[39mread_termination_context(termination):\n",
      "File \u001b[0;32m~/Desktop/Programming/github/SAIL-Plasma/.venv/lib/python3.12/site-packages/pyvisa/resources/messagebased.py:441\u001b[0m, in \u001b[0;36mMessageBasedResource._read_raw\u001b[0;34m(self, size)\u001b[0m\n\u001b[1;32m    434\u001b[0m     \u001b[38;5;28;01mwhile\u001b[39;00m status \u001b[38;5;241m==\u001b[39m loop_status:\n\u001b[1;32m    435\u001b[0m         logger\u001b[38;5;241m.\u001b[39mdebug(\n\u001b[1;32m    436\u001b[0m             \u001b[38;5;124m\"\u001b[39m\u001b[38;5;132;01m%s\u001b[39;00m\u001b[38;5;124m - reading \u001b[39m\u001b[38;5;132;01m%d\u001b[39;00m\u001b[38;5;124m bytes (last status \u001b[39m\u001b[38;5;132;01m%r\u001b[39;00m\u001b[38;5;124m)\u001b[39m\u001b[38;5;124m\"\u001b[39m,\n\u001b[1;32m    437\u001b[0m             \u001b[38;5;28mself\u001b[39m\u001b[38;5;241m.\u001b[39m_resource_name,\n\u001b[1;32m    438\u001b[0m             size,\n\u001b[1;32m    439\u001b[0m             status,\n\u001b[1;32m    440\u001b[0m         )\n\u001b[0;32m--> 441\u001b[0m         chunk, status \u001b[38;5;241m=\u001b[39m \u001b[38;5;28;43mself\u001b[39;49m\u001b[38;5;241;43m.\u001b[39;49m\u001b[43mvisalib\u001b[49m\u001b[38;5;241;43m.\u001b[39;49m\u001b[43mread\u001b[49m\u001b[43m(\u001b[49m\u001b[38;5;28;43mself\u001b[39;49m\u001b[38;5;241;43m.\u001b[39;49m\u001b[43msession\u001b[49m\u001b[43m,\u001b[49m\u001b[43m \u001b[49m\u001b[43msize\u001b[49m\u001b[43m)\u001b[49m\n\u001b[1;32m    442\u001b[0m         ret\u001b[38;5;241m.\u001b[39mextend(chunk)\n\u001b[1;32m    443\u001b[0m \u001b[38;5;28;01mexcept\u001b[39;00m errors\u001b[38;5;241m.\u001b[39mVisaIOError \u001b[38;5;28;01mas\u001b[39;00m e:\n",
      "File \u001b[0;32m~/Desktop/Programming/github/SAIL-Plasma/.venv/lib/python3.12/site-packages/pyvisa_py/highlevel.py:520\u001b[0m, in \u001b[0;36mPyVisaLibrary.read\u001b[0;34m(self, session, count)\u001b[0m\n\u001b[1;32m    514\u001b[0m \u001b[38;5;28;01mexcept\u001b[39;00m \u001b[38;5;167;01mKeyError\u001b[39;00m:\n\u001b[1;32m    515\u001b[0m     \u001b[38;5;28;01mreturn\u001b[39;00m (\n\u001b[1;32m    516\u001b[0m         \u001b[38;5;124mb\u001b[39m\u001b[38;5;124m\"\u001b[39m\u001b[38;5;124m\"\u001b[39m,\n\u001b[1;32m    517\u001b[0m         \u001b[38;5;28mself\u001b[39m\u001b[38;5;241m.\u001b[39mhandle_return_value(session, StatusCode\u001b[38;5;241m.\u001b[39merror_invalid_object),\n\u001b[1;32m    518\u001b[0m     )\n\u001b[0;32m--> 520\u001b[0m \u001b[38;5;28;01mreturn\u001b[39;00m data, \u001b[38;5;28;43mself\u001b[39;49m\u001b[38;5;241;43m.\u001b[39;49m\u001b[43mhandle_return_value\u001b[49m\u001b[43m(\u001b[49m\u001b[43msession\u001b[49m\u001b[43m,\u001b[49m\u001b[43m \u001b[49m\u001b[43mstatus_code\u001b[49m\u001b[43m)\u001b[49m\n",
      "File \u001b[0;32m~/Desktop/Programming/github/SAIL-Plasma/.venv/lib/python3.12/site-packages/pyvisa/highlevel.py:251\u001b[0m, in \u001b[0;36mVisaLibraryBase.handle_return_value\u001b[0;34m(self, session, status_code)\u001b[0m\n\u001b[1;32m    248\u001b[0m     \u001b[38;5;28mself\u001b[39m\u001b[38;5;241m.\u001b[39m_last_status_in_session[session] \u001b[38;5;241m=\u001b[39m rv\n\u001b[1;32m    250\u001b[0m \u001b[38;5;28;01mif\u001b[39;00m rv \u001b[38;5;241m<\u001b[39m \u001b[38;5;241m0\u001b[39m:\n\u001b[0;32m--> 251\u001b[0m     \u001b[38;5;28;01mraise\u001b[39;00m errors\u001b[38;5;241m.\u001b[39mVisaIOError(rv)\n\u001b[1;32m    253\u001b[0m \u001b[38;5;28;01mif\u001b[39;00m rv \u001b[38;5;129;01min\u001b[39;00m \u001b[38;5;28mself\u001b[39m\u001b[38;5;241m.\u001b[39missue_warning_on:\n\u001b[1;32m    254\u001b[0m     \u001b[38;5;28;01mif\u001b[39;00m session \u001b[38;5;129;01mand\u001b[39;00m rv \u001b[38;5;129;01mnot\u001b[39;00m \u001b[38;5;129;01min\u001b[39;00m \u001b[38;5;28mself\u001b[39m\u001b[38;5;241m.\u001b[39m_ignore_warning_in_session[session]:\n",
      "\u001b[0;31mVisaIOError\u001b[0m: VI_ERROR_TMO (-1073807339): Timeout expired before operation completed."
     ]
    }
   ],
   "source": [
    "oscilloscope.query('*IDN?')"
   ]
  },
  {
   "cell_type": "code",
   "execution_count": 4,
   "id": "80291ac1",
   "metadata": {},
   "outputs": [
    {
     "ename": "NameError",
     "evalue": "name 'oscilloscope' is not defined",
     "output_type": "error",
     "traceback": [
      "\u001b[31m---------------------------------------------------------------------------\u001b[39m",
      "\u001b[31mNameError\u001b[39m                                 Traceback (most recent call last)",
      "\u001b[36mCell\u001b[39m\u001b[36m \u001b[39m\u001b[32mIn[4]\u001b[39m\u001b[32m, line 1\u001b[39m\n\u001b[32m----> \u001b[39m\u001b[32m1\u001b[39m \u001b[43moscilloscope\u001b[49m.close()\n\u001b[32m      2\u001b[39m rm.close()\n",
      "\u001b[31mNameError\u001b[39m: name 'oscilloscope' is not defined"
     ]
    }
   ],
   "source": [
    "oscilloscope.close()\n",
    "rm.close()"
   ]
  },
  {
   "cell_type": "markdown",
   "id": "cc499724",
   "metadata": {},
   "source": [
    "## NI-DAQmx (https://nidaqmx-python.readthedocs.io/en/stable/#installation)\n"
   ]
  },
  {
   "cell_type": "markdown",
   "id": "54efc1af",
   "metadata": {},
   "source": [
    "In the case of National Instruments (NI) Data Aquisition Devices (DAQs), we cannot use VISA as the devices use a different comunnication API.The nidaqmx python package allows you to communicate with NI DAQs through Python on Windows or Linux machines, (MAC devices may work but will require a lot more effort with installing correct drivers and may not be fully compatable). It requires the computer to have the NI-DAQmx driver installed in order to identify and communicate with the device. If you have the correct drivers and a physical or virtual NI-DAQ is connected to the computer, then you are able to program it using Python."
   ]
  },
  {
   "cell_type": "markdown",
   "id": "37979e42",
   "metadata": {},
   "source": [
    "To do this we will first install the library"
   ]
  },
  {
   "cell_type": "code",
   "execution_count": 1,
   "id": "333e808d",
   "metadata": {},
   "outputs": [
    {
     "name": "stdout",
     "output_type": "stream",
     "text": [
      "Requirement already satisfied: nidaqmx in ./.venv/lib/python3.12/site-packages (1.0.2)\n",
      "Requirement already satisfied: click>=8.0.0 in ./.venv/lib/python3.12/site-packages (from nidaqmx) (8.2.0)\n",
      "Requirement already satisfied: deprecation>=2.1 in ./.venv/lib/python3.12/site-packages (from nidaqmx) (2.1.0)\n",
      "Requirement already satisfied: hightime<0.3.0,>=0.2.2 in ./.venv/lib/python3.12/site-packages (from nidaqmx) (0.2.2)\n",
      "Requirement already satisfied: numpy>=1.26 in ./.venv/lib/python3.12/site-packages (from nidaqmx) (2.2.5)\n",
      "Requirement already satisfied: python-decouple>=3.8 in ./.venv/lib/python3.12/site-packages (from nidaqmx) (3.8)\n",
      "Requirement already satisfied: requests>=2.25.0 in ./.venv/lib/python3.12/site-packages (from nidaqmx) (2.32.3)\n",
      "Requirement already satisfied: tzlocal<6.0,>=5.0 in ./.venv/lib/python3.12/site-packages (from nidaqmx) (5.3.1)\n",
      "Requirement already satisfied: packaging in ./.venv/lib/python3.12/site-packages (from deprecation>=2.1->nidaqmx) (25.0)\n",
      "Requirement already satisfied: charset-normalizer<4,>=2 in ./.venv/lib/python3.12/site-packages (from requests>=2.25.0->nidaqmx) (3.4.2)\n",
      "Requirement already satisfied: idna<4,>=2.5 in ./.venv/lib/python3.12/site-packages (from requests>=2.25.0->nidaqmx) (3.10)\n",
      "Requirement already satisfied: urllib3<3,>=1.21.1 in ./.venv/lib/python3.12/site-packages (from requests>=2.25.0->nidaqmx) (2.4.0)\n",
      "Requirement already satisfied: certifi>=2017.4.17 in ./.venv/lib/python3.12/site-packages (from requests>=2.25.0->nidaqmx) (2025.4.26)\n",
      "Note: you may need to restart the kernel to use updated packages.\n"
     ]
    }
   ],
   "source": [
    "pip install nidaqmx"
   ]
  },
  {
   "cell_type": "markdown",
   "id": "1fe55b9d",
   "metadata": {},
   "source": [
    "Then import"
   ]
  },
  {
   "cell_type": "code",
   "execution_count": 4,
   "id": "11e5a61b",
   "metadata": {},
   "outputs": [],
   "source": [
    "import nidaqmx"
   ]
  },
  {
   "cell_type": "markdown",
   "id": "be63c37b",
   "metadata": {},
   "source": [
    "At this point we can connect and control an NI-DAQ. Using this library, all commands you send to a DAQ are done using a ```Task()``` object. This object is a collection of channels which represent the measurements you want to take. For most devices, you will only have one task, thus it is reasonable to use:"
   ]
  },
  {
   "cell_type": "code",
   "execution_count": 6,
   "id": "afc13d86",
   "metadata": {},
   "outputs": [
    {
     "ename": "DaqNotSupportedError",
     "evalue": "NI-DAQmx Python is not supported on this platform: darwin. Please direct any questions or feedback to National Instruments.",
     "output_type": "error",
     "traceback": [
      "\u001b[31m---------------------------------------------------------------------------\u001b[39m",
      "\u001b[31mDaqNotSupportedError\u001b[39m                      Traceback (most recent call last)",
      "\u001b[36mCell\u001b[39m\u001b[36m \u001b[39m\u001b[32mIn[6]\u001b[39m\u001b[32m, line 1\u001b[39m\n\u001b[32m----> \u001b[39m\u001b[32m1\u001b[39m task = \u001b[43mnidaqmx\u001b[49m\u001b[43m.\u001b[49m\u001b[43mTask\u001b[49m\u001b[43m(\u001b[49m\u001b[43m)\u001b[49m\n\u001b[32m      2\u001b[39m task.close()\n",
      "\u001b[36mFile \u001b[39m\u001b[32m~/Desktop/Programming/github/SAIL-Plasma/.venv/lib/python3.12/site-packages/nidaqmx/task/_task.py:92\u001b[39m, in \u001b[36mTask.__init__\u001b[39m\u001b[34m(self, new_task_name, grpc_options)\u001b[39m\n\u001b[32m     86\u001b[39m     \u001b[38;5;28;01mraise\u001b[39;00m DaqError(\n\u001b[32m     87\u001b[39m         \u001b[33mf\u001b[39m\u001b[33m'\u001b[39m\u001b[33mUnsupported session name: \u001b[39m\u001b[33m\"\u001b[39m\u001b[38;5;132;01m{\u001b[39;00mgrpc_options.session_name\u001b[38;5;132;01m}\u001b[39;00m\u001b[33m\"\u001b[39m\u001b[33m. If a session name is specified, it must match the task name.\u001b[39m\u001b[33m'\u001b[39m,\n\u001b[32m     88\u001b[39m         DAQmxErrors.UNKNOWN,\n\u001b[32m     89\u001b[39m         task_name=new_task_name)\n\u001b[32m     91\u001b[39m \u001b[38;5;28mself\u001b[39m._interpreter = utils._select_interpreter(grpc_options)\n\u001b[32m---> \u001b[39m\u001b[32m92\u001b[39m \u001b[38;5;28mself\u001b[39m._handle, \u001b[38;5;28mself\u001b[39m._close_on_exit = \u001b[38;5;28;43mself\u001b[39;49m\u001b[43m.\u001b[49m\u001b[43m_interpreter\u001b[49m\u001b[43m.\u001b[49m\u001b[43mcreate_task\u001b[49m\u001b[43m(\u001b[49m\u001b[43mnew_task_name\u001b[49m\u001b[43m)\u001b[49m\n\u001b[32m     94\u001b[39m \u001b[38;5;28mself\u001b[39m._initialize(\u001b[38;5;28mself\u001b[39m._handle, \u001b[38;5;28mself\u001b[39m._interpreter)\n",
      "\u001b[36mFile \u001b[39m\u001b[32m~/Desktop/Programming/github/SAIL-Plasma/.venv/lib/python3.12/site-packages/nidaqmx/_library_interpreter.py:1825\u001b[39m, in \u001b[36mLibraryInterpreter.create_task\u001b[39m\u001b[34m(self, session_name)\u001b[39m\n\u001b[32m   1822\u001b[39m new_session_initialized = \u001b[38;5;28;01mTrue\u001b[39;00m\n\u001b[32m   1823\u001b[39m task = lib_importer.task_handle(\u001b[32m0\u001b[39m)\n\u001b[32m-> \u001b[39m\u001b[32m1825\u001b[39m cfunc = \u001b[43mlib_importer\u001b[49m\u001b[43m.\u001b[49m\u001b[43mwindll\u001b[49m.DAQmxCreateTask\n\u001b[32m   1826\u001b[39m \u001b[38;5;28;01mif\u001b[39;00m cfunc.argtypes \u001b[38;5;129;01mis\u001b[39;00m \u001b[38;5;28;01mNone\u001b[39;00m:\n\u001b[32m   1827\u001b[39m     \u001b[38;5;28;01mwith\u001b[39;00m cfunc.arglock:\n",
      "\u001b[36mFile \u001b[39m\u001b[32m~/Desktop/Programming/github/SAIL-Plasma/.venv/lib/python3.12/site-packages/nidaqmx/_lib.py:146\u001b[39m, in \u001b[36mDaqLibImporter.windll\u001b[39m\u001b[34m(self)\u001b[39m\n\u001b[32m    143\u001b[39m \u001b[38;5;129m@property\u001b[39m\n\u001b[32m    144\u001b[39m \u001b[38;5;28;01mdef\u001b[39;00m\u001b[38;5;250m \u001b[39m\u001b[34mwindll\u001b[39m(\u001b[38;5;28mself\u001b[39m):\n\u001b[32m    145\u001b[39m     \u001b[38;5;28;01mif\u001b[39;00m \u001b[38;5;28mself\u001b[39m._windll \u001b[38;5;129;01mis\u001b[39;00m \u001b[38;5;28;01mNone\u001b[39;00m:\n\u001b[32m--> \u001b[39m\u001b[32m146\u001b[39m         \u001b[38;5;28;43mself\u001b[39;49m\u001b[43m.\u001b[49m\u001b[43m_import_lib\u001b[49m\u001b[43m(\u001b[49m\u001b[43m)\u001b[49m\n\u001b[32m    147\u001b[39m     \u001b[38;5;28;01mreturn\u001b[39;00m \u001b[38;5;28mself\u001b[39m._windll\n",
      "\u001b[36mFile \u001b[39m\u001b[32m~/Desktop/Programming/github/SAIL-Plasma/.venv/lib/python3.12/site-packages/nidaqmx/_lib.py:224\u001b[39m, in \u001b[36mDaqLibImporter._import_lib\u001b[39m\u001b[34m(self)\u001b[39m\n\u001b[32m    222\u001b[39m         \u001b[38;5;28;01mraise\u001b[39;00m DaqNotFoundError(_DAQ_NOT_FOUND_MESSAGE)\n\u001b[32m    223\u001b[39m \u001b[38;5;28;01melse\u001b[39;00m:\n\u001b[32m--> \u001b[39m\u001b[32m224\u001b[39m     \u001b[38;5;28;01mraise\u001b[39;00m DaqNotSupportedError(_DAQ_NOT_SUPPORTED_MESSAGE.format(sys.platform))\n\u001b[32m    226\u001b[39m \u001b[38;5;28mself\u001b[39m._windll = DaqFunctionImporter(windll)\n\u001b[32m    227\u001b[39m \u001b[38;5;28mself\u001b[39m._cdll = DaqFunctionImporter(cdll)\n",
      "\u001b[31mDaqNotSupportedError\u001b[39m: NI-DAQmx Python is not supported on this platform: darwin. Please direct any questions or feedback to National Instruments."
     ]
    }
   ],
   "source": [
    "task = nidaqmx.Task()\n",
    "task.close()"
   ]
  },
  {
   "cell_type": "markdown",
   "id": "f26705b6",
   "metadata": {},
   "source": [
    "This task will then be open forever until you close it, not closing the task can cause issues; thus, it can be easier to do this:"
   ]
  },
  {
   "cell_type": "code",
   "execution_count": 7,
   "id": "f1467793",
   "metadata": {},
   "outputs": [
    {
     "ename": "DaqNotSupportedError",
     "evalue": "NI-DAQmx Python is not supported on this platform: darwin. Please direct any questions or feedback to National Instruments.",
     "output_type": "error",
     "traceback": [
      "\u001b[31m---------------------------------------------------------------------------\u001b[39m",
      "\u001b[31mDaqNotSupportedError\u001b[39m                      Traceback (most recent call last)",
      "\u001b[36mCell\u001b[39m\u001b[36m \u001b[39m\u001b[32mIn[7]\u001b[39m\u001b[32m, line 1\u001b[39m\n\u001b[32m----> \u001b[39m\u001b[32m1\u001b[39m \u001b[38;5;28;01mwith\u001b[39;00m \u001b[43mnidaqmx\u001b[49m\u001b[43m.\u001b[49m\u001b[43mTask\u001b[49m\u001b[43m(\u001b[49m\u001b[43m)\u001b[49m \u001b[38;5;28;01mas\u001b[39;00m task:\n\u001b[32m      2\u001b[39m     \u001b[38;5;28;01mpass\u001b[39;00m\n",
      "\u001b[36mFile \u001b[39m\u001b[32m~/Desktop/Programming/github/SAIL-Plasma/.venv/lib/python3.12/site-packages/nidaqmx/task/_task.py:92\u001b[39m, in \u001b[36mTask.__init__\u001b[39m\u001b[34m(self, new_task_name, grpc_options)\u001b[39m\n\u001b[32m     86\u001b[39m     \u001b[38;5;28;01mraise\u001b[39;00m DaqError(\n\u001b[32m     87\u001b[39m         \u001b[33mf\u001b[39m\u001b[33m'\u001b[39m\u001b[33mUnsupported session name: \u001b[39m\u001b[33m\"\u001b[39m\u001b[38;5;132;01m{\u001b[39;00mgrpc_options.session_name\u001b[38;5;132;01m}\u001b[39;00m\u001b[33m\"\u001b[39m\u001b[33m. If a session name is specified, it must match the task name.\u001b[39m\u001b[33m'\u001b[39m,\n\u001b[32m     88\u001b[39m         DAQmxErrors.UNKNOWN,\n\u001b[32m     89\u001b[39m         task_name=new_task_name)\n\u001b[32m     91\u001b[39m \u001b[38;5;28mself\u001b[39m._interpreter = utils._select_interpreter(grpc_options)\n\u001b[32m---> \u001b[39m\u001b[32m92\u001b[39m \u001b[38;5;28mself\u001b[39m._handle, \u001b[38;5;28mself\u001b[39m._close_on_exit = \u001b[38;5;28;43mself\u001b[39;49m\u001b[43m.\u001b[49m\u001b[43m_interpreter\u001b[49m\u001b[43m.\u001b[49m\u001b[43mcreate_task\u001b[49m\u001b[43m(\u001b[49m\u001b[43mnew_task_name\u001b[49m\u001b[43m)\u001b[49m\n\u001b[32m     94\u001b[39m \u001b[38;5;28mself\u001b[39m._initialize(\u001b[38;5;28mself\u001b[39m._handle, \u001b[38;5;28mself\u001b[39m._interpreter)\n",
      "\u001b[36mFile \u001b[39m\u001b[32m~/Desktop/Programming/github/SAIL-Plasma/.venv/lib/python3.12/site-packages/nidaqmx/_library_interpreter.py:1825\u001b[39m, in \u001b[36mLibraryInterpreter.create_task\u001b[39m\u001b[34m(self, session_name)\u001b[39m\n\u001b[32m   1822\u001b[39m new_session_initialized = \u001b[38;5;28;01mTrue\u001b[39;00m\n\u001b[32m   1823\u001b[39m task = lib_importer.task_handle(\u001b[32m0\u001b[39m)\n\u001b[32m-> \u001b[39m\u001b[32m1825\u001b[39m cfunc = \u001b[43mlib_importer\u001b[49m\u001b[43m.\u001b[49m\u001b[43mwindll\u001b[49m.DAQmxCreateTask\n\u001b[32m   1826\u001b[39m \u001b[38;5;28;01mif\u001b[39;00m cfunc.argtypes \u001b[38;5;129;01mis\u001b[39;00m \u001b[38;5;28;01mNone\u001b[39;00m:\n\u001b[32m   1827\u001b[39m     \u001b[38;5;28;01mwith\u001b[39;00m cfunc.arglock:\n",
      "\u001b[36mFile \u001b[39m\u001b[32m~/Desktop/Programming/github/SAIL-Plasma/.venv/lib/python3.12/site-packages/nidaqmx/_lib.py:146\u001b[39m, in \u001b[36mDaqLibImporter.windll\u001b[39m\u001b[34m(self)\u001b[39m\n\u001b[32m    143\u001b[39m \u001b[38;5;129m@property\u001b[39m\n\u001b[32m    144\u001b[39m \u001b[38;5;28;01mdef\u001b[39;00m\u001b[38;5;250m \u001b[39m\u001b[34mwindll\u001b[39m(\u001b[38;5;28mself\u001b[39m):\n\u001b[32m    145\u001b[39m     \u001b[38;5;28;01mif\u001b[39;00m \u001b[38;5;28mself\u001b[39m._windll \u001b[38;5;129;01mis\u001b[39;00m \u001b[38;5;28;01mNone\u001b[39;00m:\n\u001b[32m--> \u001b[39m\u001b[32m146\u001b[39m         \u001b[38;5;28;43mself\u001b[39;49m\u001b[43m.\u001b[49m\u001b[43m_import_lib\u001b[49m\u001b[43m(\u001b[49m\u001b[43m)\u001b[49m\n\u001b[32m    147\u001b[39m     \u001b[38;5;28;01mreturn\u001b[39;00m \u001b[38;5;28mself\u001b[39m._windll\n",
      "\u001b[36mFile \u001b[39m\u001b[32m~/Desktop/Programming/github/SAIL-Plasma/.venv/lib/python3.12/site-packages/nidaqmx/_lib.py:224\u001b[39m, in \u001b[36mDaqLibImporter._import_lib\u001b[39m\u001b[34m(self)\u001b[39m\n\u001b[32m    222\u001b[39m         \u001b[38;5;28;01mraise\u001b[39;00m DaqNotFoundError(_DAQ_NOT_FOUND_MESSAGE)\n\u001b[32m    223\u001b[39m \u001b[38;5;28;01melse\u001b[39;00m:\n\u001b[32m--> \u001b[39m\u001b[32m224\u001b[39m     \u001b[38;5;28;01mraise\u001b[39;00m DaqNotSupportedError(_DAQ_NOT_SUPPORTED_MESSAGE.format(sys.platform))\n\u001b[32m    226\u001b[39m \u001b[38;5;28mself\u001b[39m._windll = DaqFunctionImporter(windll)\n\u001b[32m    227\u001b[39m \u001b[38;5;28mself\u001b[39m._cdll = DaqFunctionImporter(cdll)\n",
      "\u001b[31mDaqNotSupportedError\u001b[39m: NI-DAQmx Python is not supported on this platform: darwin. Please direct any questions or feedback to National Instruments."
     ]
    }
   ],
   "source": [
    "with nidaqmx.Task() as task:\n",
    "    pass"
   ]
  },
  {
   "cell_type": "markdown",
   "id": "ebc071c3",
   "metadata": {},
   "source": [
    "which automatically closes the task when the internal code is completed.\n",
    "\n",
    "Great, now we need to control the DAQ. To do this, we must open a channel. A virtual channel in Python here corresponds to a physical port on your DAQ. There are four types of channels in the nidaqmx ```Task()```: analog in, analog out, digital in, and digital out. We can create these channels if we know the name of the DAQ and what physical channel we want to use. We can also designate acceptable ranges, terminal configuration, or scaling. \n",
    "\n",
    "For example, here we create two analog input channels, one using differential mode and the other using referenced single ended (ie, reference to ground)."
   ]
  },
  {
   "cell_type": "code",
   "execution_count": null,
   "id": "31bf0dc8",
   "metadata": {},
   "outputs": [],
   "source": [
    "with nidaqmx.Task() as task:\n",
    "    task.ai_channels.add_ai_voltage_chan(\"DAQ/ai0\", min_val=0, max_val=10, terminal_config=nidaqmx.TerminalConfiguration.DIFF)\n",
    "    task.ai_channels.add_ai_voltage_chan(\"DAQ/ai1\", min_val=0, max_val=10, terminal_config=nidaqmx.TerminalConfiguration.RSE)"
   ]
  },
  {
   "cell_type": "markdown",
   "id": "09d1d6d9",
   "metadata": {},
   "source": [
    "## Threading"
   ]
  },
  {
   "cell_type": "markdown",
   "id": "d2296a9f",
   "metadata": {},
   "source": [
    "References\n",
    "\n",
    "[1] https://pyvisa.readthedocs.io/en/latest/\n",
    "\n",
    "[2] https://nidaqmx-python.readthedocs.io/en/stable/#installation\n"
   ]
  },
  {
   "cell_type": "markdown",
   "id": "cee7e895",
   "metadata": {},
   "source": []
  }
 ],
 "metadata": {
  "kernelspec": {
   "display_name": ".venv",
   "language": "python",
   "name": "python3"
  },
  "language_info": {
   "codemirror_mode": {
    "name": "ipython",
    "version": 3
   },
   "file_extension": ".py",
   "mimetype": "text/x-python",
   "name": "python",
   "nbconvert_exporter": "python",
   "pygments_lexer": "ipython3",
   "version": "3.12.5"
  }
 },
 "nbformat": 4,
 "nbformat_minor": 5
}
