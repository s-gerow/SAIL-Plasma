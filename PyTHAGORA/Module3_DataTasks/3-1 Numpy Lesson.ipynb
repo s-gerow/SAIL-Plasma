{
 "cells": [
  {
   "cell_type": "markdown",
   "metadata": {},
   "source": [
    "*As of Project PyTHAGORA Alpha Release 7/24/2024, this project/lesson is known to be incomplete, early updates should include the creation and testing of this lesson.*"
   ]
  },
  {
   "cell_type": "markdown",
   "metadata": {},
   "source": [
    "Importing Modules\n",
    "\n",
    "Introduction to Numpy\n",
    "    the array\n",
    "    multidemensional arrays\n",
    "    append\n",
    "    delete\n",
    "    sort\n",
    "    slice\n",
    "    ndim\n",
    "    size\n",
    "    shape\n",
    "    dtype\n",
    "\n",
    "    reshape\n",
    "    concatenate\n",
    "    stack\n",
    "    transpose\n",
    "    reverse\n",
    "    flattening\n",
    "\n",
    "    basic arrays\n",
    "        zeros\n",
    "        ones\n",
    "        linespace\n",
    "        random\n",
    "        arrange\n",
    "        empty\n",
    "\n",
    "    conditional printing\n",
    "    standard math\n",
    "        add/divide/multiply/subtract\n",
    "        sum\n",
    "\n",
    "    min, max, mean,\n",
    "    matrix methods\n",
    "        dot\n",
    "        cross\n",
    "        inverse\n",
    "    vectorization\n"
   ]
  },
  {
   "cell_type": "code",
   "execution_count": null,
   "metadata": {},
   "outputs": [],
   "source": []
  }
 ],
 "metadata": {
  "language_info": {
   "name": "python"
  }
 },
 "nbformat": 4,
 "nbformat_minor": 2
}
