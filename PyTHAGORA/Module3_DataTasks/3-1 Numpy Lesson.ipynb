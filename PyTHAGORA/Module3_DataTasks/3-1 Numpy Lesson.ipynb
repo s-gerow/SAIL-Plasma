{
 "cells": [
  {
   "cell_type": "markdown",
   "metadata": {},
   "source": [
    "*As of Project PyTHAGORA Alpha Release 7/24/2024, this project/lesson is known to be incomplete, early updates should include the creation and testing of this lesson.*"
   ]
  },
  {
   "cell_type": "markdown",
   "metadata": {},
   "source": [
    "# Packages\n",
    "\n",
    "In [1d-1 Functions](../Module1_BaseTrack/1d-1%20Functions.ipynb), I very breifly mentioned packages, modules, and libraries. These are openly available bundles of code that fulfill some programming need. In many cases, if you are attempting to solve a complex problem in Python, it has already been done for you in a package. As such, for many people, the first step in a Python project is first determining if someone else has solved the problem already; and if they have, can you use their package in your project, or do you need to reimplement the solution to fit your specific needs? In Module 1, I taught you (hopefully) most of the Python knowledge you will need to solve many problems. However, if you are industry or research bound, you will likely need more than just generic Python; with Module 2 I hope to teach you the basics of several \"foundational\" Python packages that I have encountered.\n",
    "\n",
    "To start, recall from Module 1 how to import a module: `import [module name]`. In all projects and lessons up to now you have only used packaged that come pre-built into Python such as `math`, `time`, `logging`, `os`, and `IO`. These packages are so fundamental that they are included in the Python build so that everyone automatically has access to them and when a new Python release comes out, they are already compatible. Any other packages you need you will first need to download to your machine. If you are not familiar with this process, it can get confusing so I will be sure to include ample links to external resources."
   ]
  },
  {
   "cell_type": "markdown",
   "metadata": {},
   "source": [
    "## Where are Packages?"
   ]
  },
  {
   "cell_type": "markdown",
   "metadata": {},
   "source": [
    "Before I tell you how to install a package, I want to explore a bit more about the Python enviornment, what a pacakge is, and how you access it. This part of the lesson will get a bit more complicated and specific than lessons in the previous module got, if you would prefer to skip the mumbo jumbo and get to the programming, you are welcome to skip to [**Installing Packages**](#installing-packages).\n",
    "\n",
    "Many computers that you can buy pre-set up will come with some sort of Python installation already. Most Linux systems and MAC OS X systems are ready to run Python scripts right out of the box, Windows systems are less consistent. In the case that you are on a system that has a version of Python pre-installed, that version will be located in your system files alongside other necessary files. For example, by using `which -a python3` in my terminal on my mac I get the following output:\n",
    "\n",
    "```\n",
    "% which -a python3\n",
    "/opt/homebrew/bin/python3\n",
    "/usr/bin/python3\n",
    "```\n",
    "\n",
    "This course will not teach you to use your terminal or command line, but what this command does is query the system for all (-a) instances of python3 files on the computer. The response, for me, is that there is a python3 installation located in `/usr/bin` (this is the default installation for Macs) and also /opt/homebrew/bin (this is the version I installed using homebrew). \n",
    "\n",
    "These Python folders will hold all the information necessary for your computer to run a .py file, including packages. Unfortunately, package developers do not always update a package immediately after a new Python version is released. If the new Python version is released and somehow breaks a package you need, you have a few options: install an older version of Python and continue to operate on that version until the package you need is updated, join the development team for the package you need and see through the update yourself, rebuild the functions you need on your own, or destroy your computer and cry.\n",
    "\n",
    "A great option that Python provides is the virtual enviornment; this is an installation of Python which is self contained and separate from the other installations on your device. You can create a virtual enviornment of any Python version you want, install as many packages as you want for that version, and run python files using that enviornment. Then, when you want to switch to a different project which needs a different Python version, you can switch back to the default, or a different virtual enviornment altogether, and do not need to be concerned about version conflicts. This is what I recommend you do.\n",
    "\n",
    "\n"
   ]
  },
  {
   "cell_type": "markdown",
   "metadata": {},
   "source": [
    "### Creating a Virtual Enviornment"
   ]
  },
  {
   "cell_type": "markdown",
   "metadata": {},
   "source": [
    "If you are working through these lessons on Google Colab you do not need to create a virtual enviornment as Google Colab does that for you; nonetheless, I recommend you read through the following section to create virtual enviornments on your own device so that you are able to use a different ODE than Google Colab in future projects.\n",
    "\n",
    "*Coming Soon*"
   ]
  },
  {
   "cell_type": "markdown",
   "metadata": {},
   "source": [
    "## Installing Packages"
   ]
  },
  {
   "cell_type": "markdown",
   "metadata": {},
   "source": [
    "Importing Modules\n",
    "\n",
    "Introduction to Numpy\n",
    "    the array\n",
    "    multidemensional arrays\n",
    "    append\n",
    "    delete\n",
    "    sort\n",
    "    slice\n",
    "    ndim\n",
    "    size\n",
    "    shape\n",
    "    dtype\n",
    "\n",
    "    reshape\n",
    "    concatenate\n",
    "    stack\n",
    "    transpose\n",
    "    reverse\n",
    "    flattening\n",
    "\n",
    "    basic arrays\n",
    "        zeros\n",
    "        ones\n",
    "        linespace\n",
    "        random\n",
    "        arrange\n",
    "        empty\n",
    "\n",
    "    conditional printing\n",
    "    standard math\n",
    "        add/divide/multiply/subtract\n",
    "        sum\n",
    "\n",
    "    min, max, mean,\n",
    "    matrix methods\n",
    "        dot\n",
    "        cross\n",
    "        inverse\n",
    "    vectorization\n"
   ]
  },
  {
   "cell_type": "code",
   "execution_count": null,
   "metadata": {},
   "outputs": [],
   "source": []
  }
 ],
 "metadata": {
  "language_info": {
   "name": "python"
  }
 },
 "nbformat": 4,
 "nbformat_minor": 2
}
