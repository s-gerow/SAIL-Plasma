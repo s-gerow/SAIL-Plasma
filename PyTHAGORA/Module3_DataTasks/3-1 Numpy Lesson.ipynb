{
 "cells": [
  {
   "cell_type": "markdown",
   "metadata": {},
   "source": [
    "*As of Project PyTHAGORA Alpha Release 7/24/2024, this project/lesson is known to be incomplete, early updates should include the creation and testing of this lesson.*"
   ]
  },
  {
   "cell_type": "markdown",
   "metadata": {},
   "source": [
    "# Packages\n",
    "\n",
    "In [1d-1 Functions](../Module1_BaseTrack/1d-1%20Functions.ipynb), I very breifly mentioned packages, modules, and libraries. These are openly available bundles of code that fulfill some programming need. In many cases, if you are attempting to solve a complex problem in Python, it has already been done for you in a package. As such, for many people, the first step in a Python project is first determining if someone else has solved the problem already; and if they have, can you use their package in your project, or do you need to reimplement the solution to fit your specific needs? In Module 1, I taught you (hopefully) most of the Python knowledge you will need to solve many problems. However, if you are industry or research bound, you will likely need more than just generic Python; with Module 2 I hope to teach you the basics of several \"foundational\" Python packages that I have encountered.\n",
    "\n",
    "To start, recall from Module 1 how to import a module: `import [module name]`. In all projects and lessons up to now you have only used packaged that come pre-built into Python such as `math`, `time`, `logging`, `os`, and `IO`. These packages are so fundamental that they are included in the Python build so that everyone automatically has access to them and when a new Python release comes out, they are already compatible. Any other packages you need you will first need to download to your machine. If you are not familiar with this process, it can get confusing so I will be sure to include ample links to external resources."
   ]
  },
  {
   "cell_type": "markdown",
   "metadata": {},
   "source": [
    "## Where are Packages?"
   ]
  },
  {
   "cell_type": "markdown",
   "metadata": {},
   "source": [
    "Before I tell you how to install a package, I want to explore a bit more about the Python enviornment, what a pacakge is, and how you access it. This part of the lesson will get a bit more complicated and specific than lessons in the previous module got, if you would prefer to skip the mumbo jumbo and get to the programming, you are welcome to skip to [**Installing Packages**](#installing-packages).\n",
    "\n",
    "Many computers that you can buy pre-set up will come with some sort of Python installation already. Most Linux systems and MAC OS X systems are ready to run Python scripts right out of the box, Windows systems are less consistent. In the case that you are on a system that has a version of Python pre-installed, that version will be located in your system files alongside other necessary files. For example, by using `which -a python3` in my terminal on my mac I get the following output:\n",
    "\n",
    "```\n",
    "% which -a python3\n",
    "/opt/homebrew/bin/python3\n",
    "/usr/bin/python3\n",
    "```\n",
    "\n",
    "This course will not teach you to use your terminal or command line, but what this command does is query the system for all (-a) instances of python3 files on the computer. The response, for me, is that there is a python3 installation located in `/usr/bin` (this is the default installation for Macs) and also /opt/homebrew/bin (this is the version I installed using homebrew). \n",
    "\n",
    "These Python folders will hold all the information necessary for your computer to run a .py file, including packages. Unfortunately, package developers do not always update a package immediately after a new Python version is released. If the new Python version is released and somehow breaks a package you need, you have a few options: install an older version of Python and continue to operate on that version until the package you need is updated, join the development team for the package you need and see through the update yourself, rebuild the functions you need on your own, or destroy your computer and cry.\n",
    "\n",
    "A great option that Python provides is the virtual enviornment; this is an installation of Python which is self contained and separate from the other installations on your device. You can create a virtual enviornment of any Python version you want, install as many packages as you want for that version, and run python files using that enviornment. Then, when you want to switch to a different project which needs a different Python version, you can switch back to the default, or a different virtual enviornment altogether, and do not need to be concerned about version conflicts. This is what I recommend you do.\n",
    "\n",
    "\n"
   ]
  },
  {
   "cell_type": "markdown",
   "metadata": {},
   "source": [
    "### Creating a Virtual Enviornment"
   ]
  },
  {
   "cell_type": "markdown",
   "metadata": {},
   "source": [
    "If you are working through these lessons on Google Colab you do not need to create a virtual enviornment as Google Colab does that for you; nonetheless, I recommend you read through the following section to create virtual enviornments on your own device so that you are able to use a different ODE than Google Colab in future projects.\n",
    "\n",
    "*Coming Soon*"
   ]
  },
  {
   "cell_type": "markdown",
   "metadata": {},
   "source": [
    "## Installing Packages"
   ]
  },
  {
   "cell_type": "markdown",
   "metadata": {},
   "source": [
    "Once you have a virtual enviornment set up, or otherwise know where you would like a package installed, you can install a package using pip. Pip is the package installer for python, any package whiich is on the Python Package Index (PyPI) can be installed using pip. This is done by typeing pip install followed by the name of the package in a code cell of a jupyter notebook or in the terminal line of your computer with a Python enviornment activated. For example:\n",
    "\n",
    "```\n",
    "(.venv) %pip install numpy\n",
    "```\n",
    "\n",
    "will install the necessary files for the numpy pacakge to my .venv virtual enviornment that is activated. Now whenever I use this enviornment I can simply import numpy with no issue as it is already installed."
   ]
  },
  {
   "cell_type": "code",
   "execution_count": null,
   "metadata": {},
   "outputs": [],
   "source": [
    "pip install numpy"
   ]
  },
  {
   "cell_type": "markdown",
   "metadata": {},
   "source": [
    "# Numpy"
   ]
  },
  {
   "cell_type": "markdown",
   "metadata": {},
   "source": [
    "Numpy is the most fundamental package for scientific Python applications. It introduces more powerful array objects and numerical computation tools. If you are familiar with MATLAB, which operates entirely in vectors and matrices, you will recognize much of what Numpy brings to Python. In this lesson I will show you the basics of how to work with Numpy arrays and some examples of their use. To start, you will need to import numpy. This is is done by typing `import` followed by the string `numpy`. Like this:\n",
    "\n",
    "`import numpy`\n",
    "\n",
    "Numpy is a long name and in order to use many of the functions you will need to directly reference the package (e.g. numpy.array), this can get tedious so many people use the `as` keyword to 'rename' the numpy module to 'np' like this:\n",
    "\n",
    "`import numpy as np`\n",
    "\n",
    "This means that to use numpy objects and methods you can type `np.array` instead of `numpy.array`. In this lesson and any subsequent uses of the module I will do this."
   ]
  },
  {
   "cell_type": "code",
   "execution_count": 2,
   "metadata": {},
   "outputs": [],
   "source": [
    "import numpy as np"
   ]
  },
  {
   "cell_type": "markdown",
   "metadata": {},
   "source": [
    "## The Array"
   ]
  },
  {
   "cell_type": "markdown",
   "metadata": {},
   "source": [
    "At the heart of numpy is vectorization. If you are familiar with MATLAB, then you are aware of data vectorization. MATLAB stores all information in arrays, so a single integer is actually an array of size 1, which holds an integer in its first index. This quality makes matlab incredibly good at storing large ammounts of data and working with in in an array format, including: dot and cross products, matrix identities, transposing or transforming data, and also simple element-wise math on large arrays of data. Python on its own does not have these capabilities. Storing information in lists is both time and resource heavy as well as just not optimized for vast datasets. Numpy, however, fills that gap excellently; Numpy provides Python with vectorization and array capabilities that it normally does not have. The C-base for Numpy also makes it incredibly quick, making Python with Numpy a great choice for people needing to do data analysis on large amounts of data like astronomers."
   ]
  },
  {
   "cell_type": "markdown",
   "metadata": {},
   "source": [
    "The fundamental aspect of numpy is the numpy array. To create a numpy array there are a slew of pre-made constructors for basic arrays such as an array of zeros or ones, or we can utilize the array constructor "
   ]
  },
  {
   "cell_type": "code",
   "execution_count": 5,
   "metadata": {},
   "outputs": [
    {
     "name": "stdout",
     "output_type": "stream",
     "text": [
      "Array from a list\n",
      "[0, 1, 2, 3, 4, 5, 6]\n",
      "[0 1 2 3 4 5 6]\n",
      "From scratch\n",
      "[0 1 2 3 4 5 6]\n",
      "All Zeros or Ones\n",
      "[0. 0. 0.] \n",
      " [1. 1. 1. 1. 1.]\n"
     ]
    }
   ],
   "source": [
    "#From a list\n",
    "print(\"Array from a list\")\n",
    "old_list = [0,1,2,3,4,5,6]\n",
    "print(old_list)\n",
    "\n",
    "new_array = np.array(old_list)\n",
    "print(new_array)\n",
    "\n",
    "#From scratch\n",
    "print(\"From scratch\")\n",
    "another_array = np.array([0,1,2,3,4,5,6])\n",
    "print(another_array)\n",
    "\n",
    "#zeros or ones\n",
    "print(\"All Zeros or Ones\")\n",
    "zeros = np.zeros(3)\n",
    "ones = np.ones(5)\n",
    "print(zeros, \"\\n\", ones)\n"
   ]
  },
  {
   "cell_type": "markdown",
   "metadata": {},
   "source": [
    "The great thing about numpy is that the arrays are not restricted to 1 dimensional. You can create arrays of any number of dimensions. For example, lets create a 2D array of all zeros with 2 rows and 3 columns. We can do that using the ```zeros()``` constructor"
   ]
  },
  {
   "cell_type": "code",
   "execution_count": 7,
   "metadata": {},
   "outputs": [
    {
     "name": "stdout",
     "output_type": "stream",
     "text": [
      "[[0. 0. 0.]\n",
      " [0. 0. 0.]]\n"
     ]
    }
   ],
   "source": [
    "twodzeros = np.zeros((2,3))\n",
    "print(twodzeros)"
   ]
  },
  {
   "cell_type": "markdown",
   "metadata": {},
   "source": [
    "Or, if we wanted we could keep going, here is a 3D array:"
   ]
  },
  {
   "cell_type": "code",
   "execution_count": 9,
   "metadata": {},
   "outputs": [
    {
     "name": "stdout",
     "output_type": "stream",
     "text": [
      "[[[0. 0. 0.]\n",
      "  [0. 0. 0.]\n",
      "  [0. 0. 0.]]\n",
      "\n",
      " [[0. 0. 0.]\n",
      "  [0. 0. 0.]\n",
      "  [0. 0. 0.]]]\n"
     ]
    }
   ],
   "source": [
    "threedzeros = np.zeros((2,3,3))\n",
    "print(threedzeros)"
   ]
  },
  {
   "cell_type": "markdown",
   "metadata": {},
   "source": [
    "and 4D:"
   ]
  },
  {
   "cell_type": "code",
   "execution_count": 10,
   "metadata": {},
   "outputs": [
    {
     "name": "stdout",
     "output_type": "stream",
     "text": [
      "[[[[0. 0.]\n",
      "   [0. 0.]\n",
      "   [0. 0.]]\n",
      "\n",
      "  [[0. 0.]\n",
      "   [0. 0.]\n",
      "   [0. 0.]]\n",
      "\n",
      "  [[0. 0.]\n",
      "   [0. 0.]\n",
      "   [0. 0.]]]\n",
      "\n",
      "\n",
      " [[[0. 0.]\n",
      "   [0. 0.]\n",
      "   [0. 0.]]\n",
      "\n",
      "  [[0. 0.]\n",
      "   [0. 0.]\n",
      "   [0. 0.]]\n",
      "\n",
      "  [[0. 0.]\n",
      "   [0. 0.]\n",
      "   [0. 0.]]]]\n"
     ]
    }
   ],
   "source": [
    "fourdzeros = np.zeros((2,3,3,2))\n",
    "print(fourdzeros)"
   ]
  },
  {
   "cell_type": "markdown",
   "metadata": {},
   "source": [
    "Ultimately, you will probably not need to ever create a 4D array and will primarily work in one or two dimensions. Regardless though, you can imagine the power that numpy has to be able to store and manipulate arrays of n dimensions. Our goal in this lesson is to learn how to create, manipulate, and use numpy arrays; then, in future lessons we can learn some applications of numpy arrays, such as in data aquisition or analysis."
   ]
  },
  {
   "cell_type": "markdown",
   "metadata": {},
   "source": [
    "## Basic Array Manipulation"
   ]
  },
  {
   "cell_type": "markdown",
   "metadata": {},
   "source": [
    "Essentially, despite the more complicated appearence, an arrays is just a Python list. It has a size which can be appended to, sliced, sorted, or removed from, all in much the same way as you would do so to a normal Python list. To start, lets just create a simple 1 dimensional array."
   ]
  },
  {
   "cell_type": "code",
   "execution_count": null,
   "metadata": {},
   "outputs": [],
   "source": [
    "#create a numpy array using one of the methods listed above\n"
   ]
  },
  {
   "cell_type": "markdown",
   "metadata": {},
   "source": [
    "##### Answer key"
   ]
  },
  {
   "cell_type": "code",
   "execution_count": 5,
   "metadata": {},
   "outputs": [],
   "source": [
    "new_array = np.array([4,5,6,7,8,9])"
   ]
  },
  {
   "cell_type": "markdown",
   "metadata": {},
   "source": [
    "### Append"
   ]
  },
  {
   "cell_type": "markdown",
   "metadata": {},
   "source": [
    "Now that you have an array, you cna start to manipulate it. Let's append some new data to it. This can be done using the ```.append()``` method. This method takes several arguments: the array you are appending to, the data to append, and the axis over which to append to. The first two are sel-explanatory but the axis needs clarification. If you have a 2D array, there are two axes: x (0, rows) and y (1, columns). If you wish to append new data to a 2D array you will need to identify which axis you want to append along: 1 will add data in the x direction, or extend the rows by adding more columns; and 0 will add data in the y direction, or extend the columns by adding more rows. For example:"
   ]
  },
  {
   "cell_type": "code",
   "execution_count": 16,
   "metadata": {},
   "outputs": [
    {
     "name": "stdout",
     "output_type": "stream",
     "text": [
      "array:\n",
      " [[0 0 0 0]\n",
      " [1 1 1 1]]\n",
      "append axis 0:\n",
      " [[0 0 0 0]\n",
      " [1 1 1 1]\n",
      " [0 0 0 0]\n",
      " [1 1 1 1]]\n",
      "append axis 1:\n",
      " [[0 0 0 0 0 0 0 0]\n",
      " [1 1 1 1 1 1 1 1]]\n"
     ]
    }
   ],
   "source": [
    "twodarray = np.array([[0,0,0,0], [1,1,1,1]])\n",
    "print(\"array:\\n\", twodarray)\n",
    "print(\"append axis 0:\\n\", np.append(twodarray, [[0,0,0,0],[1,1,1,1]], 0))\n",
    "print(\"append axis 1:\\n\", np.append(twodarray, [[0,0,0,0],[1,1,1,1]], 1))"
   ]
  },
  {
   "cell_type": "markdown",
   "metadata": {},
   "source": [
    "For now we will focus on 1D arrays. Using the method outlined above, append a list of new numbers to your array, then print the array variable."
   ]
  },
  {
   "cell_type": "code",
   "execution_count": null,
   "metadata": {},
   "outputs": [],
   "source": [
    "#Append a list of numbers to your array above.\n"
   ]
  },
  {
   "cell_type": "markdown",
   "metadata": {},
   "source": [
    "##### Answer Key"
   ]
  },
  {
   "cell_type": "code",
   "execution_count": 17,
   "metadata": {},
   "outputs": [
    {
     "name": "stdout",
     "output_type": "stream",
     "text": [
      "[4 5 6 7 8 9]\n"
     ]
    }
   ],
   "source": [
    "np.append(new_array, [1,2,3,4,5])\n",
    "print(new_array)"
   ]
  },
  {
   "cell_type": "markdown",
   "metadata": {},
   "source": [
    "#### In-Place vs not-In-Place"
   ]
  },
  {
   "cell_type": "markdown",
   "metadata": {},
   "source": [
    "You may notice that the value of the variable has not changed, and does not include your appended numbers. This is because the append method, like many numpy methods, does not operate \"in-place\". In place operations modify a variable where it is in storage. Because the append method is not in place, if you want to store the new changes you will need to either create a new variable or reassign the old one. For example:"
   ]
  },
  {
   "cell_type": "code",
   "execution_count": 18,
   "metadata": {},
   "outputs": [
    {
     "name": "stdout",
     "output_type": "stream",
     "text": [
      "arr:\n",
      " [2 3 4 4 5]\n",
      "arr:\n",
      " [2 3 4 4 5 3 4 5 6 6 7 7]\n"
     ]
    }
   ],
   "source": [
    "arr = np.array([2,3,4,4,5])\n",
    "print(\"arr:\\n\",arr)\n",
    "arr = np.append(arr, [3,4,5,6,6,7,7])\n",
    "print('arr:\\n',arr)"
   ]
  },
  {
   "cell_type": "markdown",
   "metadata": {},
   "source": [
    "### Concatenate"
   ]
  },
  {
   "cell_type": "markdown",
   "metadata": {},
   "source": [
    "A more powerful, but fundamentally similar, method is the ```np.concatenate``` method. This method combines arrays along a given axis. The primary difference between concatenate and append is that the append function "
   ]
  },
  {
   "cell_type": "markdown",
   "metadata": {},
   "source": [
    "Importing Modules\n",
    "\n",
    "Introduction to Numpy\n",
    "    the array\n",
    "    multidemensional arrays\n",
    "    append\n",
    "    delete\n",
    "    sort\n",
    "    slice\n",
    "    ndim\n",
    "    size\n",
    "    shape\n",
    "    dtype\n",
    "\n",
    "    reshape\n",
    "    concatenate\n",
    "    stack\n",
    "    transpose\n",
    "    reverse\n",
    "    flattening\n",
    "\n",
    "    basic arrays\n",
    "        zeros\n",
    "        ones\n",
    "        linespace\n",
    "        random\n",
    "        arrange\n",
    "        empty\n",
    "\n",
    "    conditional printing\n",
    "    standard math\n",
    "        add/divide/multiply/subtract\n",
    "        sum\n",
    "\n",
    "    min, max, mean,\n",
    "    matrix methods\n",
    "        dot\n",
    "        cross\n",
    "        inverse\n",
    "    vectorization\n"
   ]
  },
  {
   "cell_type": "code",
   "execution_count": 1,
   "metadata": {},
   "outputs": [
    {
     "name": "stdout",
     "output_type": "stream",
     "text": [
      "55\n"
     ]
    }
   ],
   "source": [
    "print(55)"
   ]
  },
  {
   "cell_type": "code",
   "execution_count": 24,
   "metadata": {},
   "outputs": [],
   "source": [
    "import numpy as np"
   ]
  },
  {
   "cell_type": "code",
   "execution_count": 25,
   "metadata": {},
   "outputs": [],
   "source": [
    "r1,r2,r3,i1,i2 = (2000, 2000, 4000, 0.002, 0.004)"
   ]
  },
  {
   "cell_type": "code",
   "execution_count": 26,
   "metadata": {},
   "outputs": [
    {
     "data": {
      "text/plain": [
       "array([0.002, 0.004])"
      ]
     },
     "execution_count": 26,
     "metadata": {},
     "output_type": "execute_result"
    }
   ],
   "source": [
    "Msol = np.array([i1, i2])\n",
    "Msol"
   ]
  },
  {
   "cell_type": "code",
   "execution_count": 47,
   "metadata": {},
   "outputs": [
    {
     "data": {
      "text/plain": [
       "array([[ 0.001  , -0.0005 ],\n",
       "       [-0.0005 ,  0.00075]])"
      ]
     },
     "execution_count": 47,
     "metadata": {},
     "output_type": "execute_result"
    }
   ],
   "source": [
    "Mr = np.array([[(r1+r2)/(r1*r2),-1/r2],[-1/r2, (r2+r3)/(r2*r3)]])\n",
    "Mr"
   ]
  },
  {
   "cell_type": "code",
   "execution_count": 34,
   "metadata": {},
   "outputs": [
    {
     "data": {
      "text/plain": [
       "array([[ 750., -500.],\n",
       "       [ 500., 1000.]])"
      ]
     },
     "execution_count": 34,
     "metadata": {},
     "output_type": "execute_result"
    }
   ],
   "source": []
  },
  {
   "cell_type": "code",
   "execution_count": 48,
   "metadata": {},
   "outputs": [
    {
     "data": {
      "text/plain": [
       "array([ 7., 10.])"
      ]
     },
     "execution_count": 48,
     "metadata": {},
     "output_type": "execute_result"
    }
   ],
   "source": [
    "np.linalg.solve(Mr, Msol)"
   ]
  },
  {
   "cell_type": "code",
   "execution_count": null,
   "metadata": {},
   "outputs": [],
   "source": []
  }
 ],
 "metadata": {
  "kernelspec": {
   "display_name": ".venv",
   "language": "python",
   "name": "python3"
  },
  "language_info": {
   "codemirror_mode": {
    "name": "ipython",
    "version": 3
   },
   "file_extension": ".py",
   "mimetype": "text/x-python",
   "name": "python",
   "nbconvert_exporter": "python",
   "pygments_lexer": "ipython3",
   "version": "3.10.5"
  }
 },
 "nbformat": 4,
 "nbformat_minor": 2
}
