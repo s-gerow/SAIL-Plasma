{
 "cells": [
  {
   "cell_type": "markdown",
   "metadata": {},
   "source": [
    "*As of Project PyTHAGORA Alpha Release 7/24/2024, this project/lesson is known to be incomplete, early updates should include the creation and testing of this lesson.*"
   ]
  },
  {
   "cell_type": "markdown",
   "metadata": {},
   "source": [
    "# Sympy"
   ]
  },
  {
   "cell_type": "markdown",
   "metadata": {},
   "source": [
    "Sympy is a module that can be used to do symbolic math such as solving systems of equations with multiple unknowns, finding derivatives and integrals of functions, and matrix methods. Performing symbolic calculations can be incredibly useful if you need to solve complex equations but do not have all of the needed information."
   ]
  },
  {
   "cell_type": "markdown",
   "metadata": {},
   "source": [
    "In this lesson I will show you a few real world examples where using Sympy to solve an equation is helpful."
   ]
  },
  {
   "cell_type": "markdown",
   "metadata": {},
   "source": [
    "## Basics"
   ]
  },
  {
   "cell_type": "markdown",
   "metadata": {},
   "source": [
    "To start, you will need to `import sympy` in order to use its functionality. We will also `import math` to use some of the math functions."
   ]
  },
  {
   "cell_type": "code",
   "execution_count": 3,
   "metadata": {},
   "outputs": [],
   "source": [
    "from sympy import *\n",
    "import math"
   ]
  },
  {
   "cell_type": "markdown",
   "metadata": {},
   "source": [
    "To create an equation you first need to create some `sympy.symbols` to represent the values in the equation. To create one you type the desired object name equal to `sympy.symbols('value')` where the value in the quotes is the variable that you want to appear in the equation. This accepts all letters of the english alphabet as well as the greek alphabet."
   ]
  },
  {
   "cell_type": "code",
   "execution_count": 4,
   "metadata": {},
   "outputs": [],
   "source": [
    "#create two variables, pi and r\n",
    "pi, r = symbols('pi r')\n"
   ]
  },
  {
   "cell_type": "markdown",
   "metadata": {},
   "source": [
    "Before you print anything you should first call `init_printing()` to set up printing. Alternatively, you can call `init_session()` which will initialize a few common symbols and call 'init_printing()' for you."
   ]
  },
  {
   "cell_type": "code",
   "execution_count": 5,
   "metadata": {},
   "outputs": [
    {
     "name": "stdout",
     "output_type": "stream",
     "text": [
      "IPython console for SymPy 1.13.2 (Python 3.12.5-64-bit) (ground types: python)\n",
      "\n",
      "These commands were executed:\n",
      ">>> from sympy import *\n",
      ">>> x, y, z, t = symbols('x y z t')\n",
      ">>> k, m, n = symbols('k m n', integer=True)\n",
      ">>> f, g, h = symbols('f g h', cls=Function)\n",
      ">>> init_printing()\n",
      "\n",
      "Documentation can be found at https://docs.sympy.org/1.13.2/\n",
      "\n"
     ]
    }
   ],
   "source": [
    "init_session()"
   ]
  },
  {
   "cell_type": "markdown",
   "metadata": {},
   "source": [
    "When printing with sympy there are a lot of options you will need to consider:\n",
    "\n",
    "If you are using your terminal, you must have LaTeX installed on your computer for it to render using Tex, otherwise it will render using unicode or ASCII. \n",
    "\n",
    "When you use the `print()` function, it will print the string form of any expression passed into it. This can also be acheived with `str()`.\n",
    "\n",
    "To avoid this in the IPython Notebooks (any jupyter notebooks) simply do not use a print function at all, the variables and expressions will be displayed automatically in LaTeX. Alternatively, you can use pprint which will display expressions using unicode."
   ]
  },
  {
   "cell_type": "code",
   "execution_count": 6,
   "metadata": {},
   "outputs": [
    {
     "name": "stdout",
     "output_type": "stream",
     "text": [
      "   2\n",
      "π⋅r \n",
      "pi*r**2\n"
     ]
    },
    {
     "data": {
      "image/png": "[encoded data removed]",
      "text/latex": [
       "$\\displaystyle \\pi r^{2}$"
      ],
      "text/plain": [
       "   2\n",
       "π⋅r "
      ]
     },
     "execution_count": 6,
     "metadata": {},
     "output_type": "execute_result"
    }
   ],
   "source": [
    "#Pretty Printing Unicode\n",
    "pprint(pi*r**2)\n",
    "#String Printing\n",
    "print(pi*r**2)\n",
    "#LaTeX Printing\n",
    "pi*r**2"
   ]
  },
  {
   "cell_type": "markdown",
   "metadata": {},
   "source": [
    "If you would like to copy your output to a document and it supports LaTeX, you can use the `Latex()` function to output the latex form of your expression:"
   ]
  },
  {
   "cell_type": "code",
   "execution_count": 7,
   "metadata": {},
   "outputs": [
    {
     "data": {
      "text/plain": [
       "'\\\\pi r^{2}'"
      ]
     },
     "execution_count": 7,
     "metadata": {},
     "output_type": "execute_result"
    }
   ],
   "source": [
    "latex(pi*r**2)"
   ]
  },
  {
   "cell_type": "markdown",
   "metadata": {},
   "source": [
    "In addition to symbols, you can also create expressions."
   ]
  },
  {
   "cell_type": "code",
   "execution_count": 8,
   "metadata": {},
   "outputs": [
    {
     "data": {
      "image/png": "[encoded data removed]",
      "text/latex": [
       "$\\displaystyle \\pi r^{2}$"
      ],
      "text/plain": [
       "   2\n",
       "π⋅r "
      ]
     },
     "execution_count": 8,
     "metadata": {},
     "output_type": "execute_result"
    }
   ],
   "source": [
    "expr = pi*r**2\n",
    "expr"
   ]
  },
  {
   "cell_type": "markdown",
   "metadata": {},
   "source": [
    "## Operations"
   ]
  },
  {
   "cell_type": "markdown",
   "metadata": {},
   "source": [
    "#### **math.sqrt vs sympy.sqrt**\n",
    "\n",
    "Sympy exists to provide you with the ability to symbolically solve expressions without needing numbers, this allows for a different approach to certain mathmatical operations. The `sqrt()` function is a perfect example. \n",
    "\n",
    "With the `math` package, `sqrt` will output as precise of an answer as can be contained in a floating point object. This is useful if you are looking for a numerical answer, but sympy provides an alternative: instead of the closest approximation of an exact answer, it will provide you with a more symbolically exact answer. For example, here is the square root of 8 as given by `math.sqrt()` and `sympy.sqrt`"
   ]
  },
  {
   "cell_type": "code",
   "execution_count": 9,
   "metadata": {},
   "outputs": [
    {
     "name": "stdout",
     "output_type": "stream",
     "text": [
      "2.8284271247461903\n"
     ]
    },
    {
     "data": {
      "image/png": "[encoded data removed]",
      "text/latex": [
       "$\\displaystyle 2 \\sqrt{2}$"
      ],
      "text/plain": [
       "2⋅√2"
      ]
     },
     "execution_count": 9,
     "metadata": {},
     "output_type": "execute_result"
    }
   ],
   "source": [
    "import math\n",
    "\n",
    "print(math.sqrt(8)) #math module, floating point decimal \n",
    "sqrt(8)             #sympy module, 'exact' solution"
   ]
  },
  {
   "cell_type": "markdown",
   "metadata": {},
   "source": [
    "#### **Simple Expression Operations**"
   ]
  },
  {
   "cell_type": "markdown",
   "metadata": {},
   "source": [
    "Say you have some expression:\n",
    "\n",
    "$x^2 + 4x$\n",
    "\n",
    "And another expression:\n",
    "\n",
    "$y^2 - 4x$\n",
    "\n",
    "If you were to add the two expressions together, you would get:\n",
    "\n",
    "$x^2 + y^2$\n",
    "\n",
    "Well, using sympy, you can do exactly that."
   ]
  },
  {
   "cell_type": "code",
   "execution_count": 10,
   "metadata": {},
   "outputs": [
    {
     "data": {
      "image/png": "[encoded data removed]",
      "text/latex": [
       "$\\displaystyle x^{2} + y^{2}$"
      ],
      "text/plain": [
       " 2    2\n",
       "x  + y "
      ]
     },
     "execution_count": 10,
     "metadata": {},
     "output_type": "execute_result"
    }
   ],
   "source": [
    "exp1 = x**2 + 4*x\n",
    "exp2 = y**2 - 4*x\n",
    "exp1+exp2"
   ]
  },
  {
   "cell_type": "markdown",
   "metadata": {},
   "source": [
    "You can also multiply entire expressions:"
   ]
  },
  {
   "cell_type": "code",
   "execution_count": 11,
   "metadata": {},
   "outputs": [
    {
     "data": {
      "image/png": "[encoded data removed]",
      "text/latex": [
       "$\\displaystyle \\left(- 4 x + y^{2}\\right) \\left(x^{2} + 4 x\\right)$"
      ],
      "text/plain": [
       "⎛        2⎞ ⎛ 2      ⎞\n",
       "⎝-4⋅x + y ⎠⋅⎝x  + 4⋅x⎠"
      ]
     },
     "execution_count": 11,
     "metadata": {},
     "output_type": "execute_result"
    }
   ],
   "source": [
    "exp1*exp2"
   ]
  },
  {
   "cell_type": "markdown",
   "metadata": {},
   "source": [
    "But wait, this is not the most useful form. Luckily sympy has a factor and expand method to fix that."
   ]
  },
  {
   "cell_type": "code",
   "execution_count": 12,
   "metadata": {},
   "outputs": [
    {
     "data": {
      "image/png": "[encoded data removed]",
      "text/latex": [
       "$\\displaystyle - 4 x^{3} + x^{2} y^{2} - 16 x^{2} + 4 x y^{2}$"
      ],
      "text/plain": [
       "     3    2  2       2        2\n",
       "- 4⋅x  + x ⋅y  - 16⋅x  + 4⋅x⋅y "
      ]
     },
     "execution_count": 12,
     "metadata": {},
     "output_type": "execute_result"
    }
   ],
   "source": [
    "exp3 = expand(exp1*exp2)\n",
    "exp3"
   ]
  },
  {
   "cell_type": "code",
   "execution_count": 13,
   "metadata": {},
   "outputs": [
    {
     "data": {
      "image/png": "[encoded data removed]",
      "text/latex": [
       "$\\displaystyle - x \\left(x + 4\\right) \\left(4 x - y^{2}\\right)$"
      ],
      "text/plain": [
       "           ⎛       2⎞\n",
       "-x⋅(x + 4)⋅⎝4⋅x - y ⎠"
      ]
     },
     "execution_count": 13,
     "metadata": {},
     "output_type": "execute_result"
    }
   ],
   "source": [
    "factor(exp3)"
   ]
  },
  {
   "cell_type": "markdown",
   "metadata": {},
   "source": [
    "#### **Advanced Symbolic Mathmatics**"
   ]
  },
  {
   "cell_type": "markdown",
   "metadata": {},
   "source": [
    "In addition to basic mathmatical methods, we can also use more complex operations such as integrals and derivatives."
   ]
  },
  {
   "cell_type": "code",
   "execution_count": 14,
   "metadata": {},
   "outputs": [
    {
     "data": {
      "image/png": "[encoded data removed]",
      "text/latex": [
       "$\\displaystyle 2 x + 4$"
      ],
      "text/plain": [
       "2⋅x + 4"
      ]
     },
     "execution_count": 14,
     "metadata": {},
     "output_type": "execute_result"
    }
   ],
   "source": [
    "diff(exp1)"
   ]
  },
  {
   "cell_type": "markdown",
   "metadata": {},
   "source": [
    "If the expression contains only one variable, the `diff()` function will automatically take the derivative with respect to the variable contained within the expression. If you would like to integrate with respect to a different variable, that can be passed as an additional argument:"
   ]
  },
  {
   "cell_type": "code",
   "execution_count": 15,
   "metadata": {},
   "outputs": [
    {
     "data": {
      "image/png": "[encoded data removed]",
      "text/latex": [
       "$\\displaystyle 0$"
      ],
      "text/plain": [
       "0"
      ]
     },
     "execution_count": 15,
     "metadata": {},
     "output_type": "execute_result"
    }
   ],
   "source": [
    "diff(exp1, y)"
   ]
  },
  {
   "cell_type": "markdown",
   "metadata": {},
   "source": [
    "If the expression contains two different variables, you will need to pass the second argument to specify the variable you are differentiating with respect to. Otherwise you will get a `ValueError`."
   ]
  },
  {
   "cell_type": "code",
   "execution_count": 16,
   "metadata": {},
   "outputs": [
    {
     "data": {
      "image/png": "[encoded data removed]",
      "text/latex": [
       "$\\displaystyle \\left( 2 y, \\  -4\\right)$"
      ],
      "text/plain": [
       "(2⋅y, -4)"
      ]
     },
     "execution_count": 16,
     "metadata": {},
     "output_type": "execute_result"
    }
   ],
   "source": [
    "diff(exp2, y), diff(exp2, x)"
   ]
  },
  {
   "cell_type": "markdown",
   "metadata": {},
   "source": [
    "Integrals work in a similar way:"
   ]
  },
  {
   "cell_type": "code",
   "execution_count": 17,
   "metadata": {},
   "outputs": [
    {
     "data": {
      "image/png": "[encoded data removed]",
      "text/latex": [
       "$\\displaystyle \\left( - 2 x^{2} + x y^{2}, \\  - 4 x y + \\frac{y^{3}}{3}\\right)$"
      ],
      "text/plain": [
       "⎛                         3⎞\n",
       "⎜     2      2           y ⎟\n",
       "⎜- 2⋅x  + x⋅y , -4⋅x⋅y + ──⎟\n",
       "⎝                        3 ⎠"
      ]
     },
     "execution_count": 17,
     "metadata": {},
     "output_type": "execute_result"
    }
   ],
   "source": [
    "integrate(exp2, x), integrate(exp2, y)"
   ]
  },
  {
   "cell_type": "markdown",
   "metadata": {},
   "source": [
    "You can also add limits to an integral by passing a tuple as the second argument like this: (var of integration, lower limit, upper limit)."
   ]
  },
  {
   "cell_type": "code",
   "execution_count": 18,
   "metadata": {},
   "outputs": [
    {
     "data": {
      "image/png": "[encoded data removed]",
      "text/latex": [
       "$\\displaystyle 10 y^{2} - 200$"
      ],
      "text/plain": [
       "    2      \n",
       "10⋅y  - 200"
      ]
     },
     "execution_count": 18,
     "metadata": {},
     "output_type": "execute_result"
    }
   ],
   "source": [
    "integrate(exp2, (x, 0, 10))"
   ]
  },
  {
   "cell_type": "markdown",
   "metadata": {},
   "source": [
    "You can even use infinity as a limit with '-oo' or 'oo' (two letter \"o\"s):"
   ]
  },
  {
   "cell_type": "code",
   "execution_count": 19,
   "metadata": {},
   "outputs": [
    {
     "data": {
      "image/png": "[encoded data removed]",
      "text/latex": [
       "$\\displaystyle \\left\\langle -2, 2\\right\\rangle$"
      ],
      "text/plain": [
       "<-2, 2>"
      ]
     },
     "execution_count": 19,
     "metadata": {},
     "output_type": "execute_result"
    }
   ],
   "source": [
    "integrate(sin(x), (x, -oo, oo))"
   ]
  },
  {
   "cell_type": "markdown",
   "metadata": {},
   "source": [
    "The list goes on: solving differential equations, finding limits, solving systems of equations, finding eigenvalues, cross products, and dot products are all additional options. I am going to work through some real world equations to demonstrate the power of symbolic computing in Python and demonstrate each of these functions in more depth."
   ]
  },
  {
   "cell_type": "markdown",
   "metadata": {},
   "source": [
    "## Position, Velocity, and Acceleration"
   ]
  },
  {
   "cell_type": "markdown",
   "metadata": {},
   "source": [
    "Consider an object in motion who's acceleration is given by $a(t) = a$"
   ]
  },
  {
   "cell_type": "code",
   "execution_count": 20,
   "metadata": {},
   "outputs": [
    {
     "data": {
      "image/png": "[encoded data removed]",
      "text/latex": [
       "$\\displaystyle a$"
      ],
      "text/plain": [
       "a"
      ]
     },
     "execution_count": 20,
     "metadata": {},
     "output_type": "execute_result"
    }
   ],
   "source": [
    "a, v0, x0, v, a = symbols('a, v0, x0, v, a')\n",
    "a_t = a\n",
    "a_t"
   ]
  },
  {
   "cell_type": "markdown",
   "metadata": {},
   "source": [
    "The acceleration of an object is the change in the objects velocity over time:\n",
    "\n",
    "$a = \\frac{\\Delta v}{\\Delta t}$\n",
    "\n",
    "If you consider an infinitely small change in velocity over some infinitely small change in time instead of the finite change represented by $\\Delta$, we can use the small change $\\delta$.\n",
    "\n",
    "$a = \\frac{\\delta v}{\\delta t}$\n",
    "\n",
    "In other words, acceleration is the time derivative of velocity. Knowing this, we can get an expression for velocity by integrating acceleration with respect to time."
   ]
  },
  {
   "cell_type": "code",
   "execution_count": 21,
   "metadata": {},
   "outputs": [
    {
     "data": {
      "image/png": "[encoded data removed]",
      "text/latex": [
       "$\\displaystyle a t$"
      ],
      "text/plain": [
       "a⋅t"
      ]
     },
     "execution_count": 21,
     "metadata": {},
     "output_type": "execute_result"
    }
   ],
   "source": [
    "v_t = integrate(a_t, t)\n",
    "v_t"
   ]
  },
  {
   "cell_type": "markdown",
   "metadata": {},
   "source": [
    "Similarly, we know that velocity is the time derivative of position and as such we can get a "
   ]
  },
  {
   "cell_type": "code",
   "execution_count": 32,
   "metadata": {},
   "outputs": [
    {
     "data": {
      "image/png": "[encoded data removed]",
      "text/latex": [
       "$\\displaystyle \\frac{d}{d t} f{\\left(t \\right)}$"
      ],
      "text/plain": [
       "d       \n",
       "──(f(t))\n",
       "dt      "
      ]
     },
     "execution_count": 32,
     "metadata": {},
     "output_type": "execute_result"
    }
   ],
   "source": [
    "#Testing\n",
    "\n"
   ]
  },
  {
   "cell_type": "markdown",
   "metadata": {},
   "source": [
    "Outline:\n",
    "\n",
    "solve ODE\n",
    "matrix multiplication\n",
    "    dot/cross products\n",
    "integrals/derivatives\n",
    "determinants\n",
    "\n",
    "systems of equations\n"
   ]
  }
 ],
 "metadata": {
  "kernelspec": {
   "display_name": ".venv",
   "language": "python",
   "name": "python3"
  },
  "language_info": {
   "codemirror_mode": {
    "name": "ipython",
    "version": 3
   },
   "file_extension": ".py",
   "mimetype": "text/x-python",
   "name": "python",
   "nbconvert_exporter": "python",
   "pygments_lexer": "ipython3",
   "version": "3.12.5"
  }
 },
 "nbformat": 4,
 "nbformat_minor": 2
}
