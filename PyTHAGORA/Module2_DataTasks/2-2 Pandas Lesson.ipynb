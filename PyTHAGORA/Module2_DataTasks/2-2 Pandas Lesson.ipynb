{
 "cells": [
  {
   "cell_type": "code",
   "execution_count": null,
   "metadata": {},
   "outputs": [],
   "source": []
  },
  {
   "cell_type": "markdown",
   "metadata": {},
   "source": [
    "Pandas Outline\n",
    "\n",
    "create\n",
    "\n",
    "import\n",
    "\n",
    "export\n",
    "\n",
    "tabular data: csv, xlxs, tab\n",
    "    read_*\n",
    "    to_*\n",
    "\n",
    "Dataframe\n",
    "+numpy\n",
    "\n",
    "filtering data\n",
    "indexing data by type, label, value\n",
    "\n",
    ".plot\n",
    "\n",
    "mean mediam min max\n",
    "\n",
    "reshape: melt,pivot\n",
    "\n",
    "join/merge\n",
    "\n"
   ]
  }
 ],
 "metadata": {
  "language_info": {
   "name": "python"
  }
 },
 "nbformat": 4,
 "nbformat_minor": 2
}
