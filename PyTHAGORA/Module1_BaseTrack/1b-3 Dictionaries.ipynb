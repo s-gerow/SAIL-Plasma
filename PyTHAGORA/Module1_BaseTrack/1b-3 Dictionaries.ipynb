{
 "cells": [
  {
   "cell_type": "markdown",
   "metadata": {},
   "source": [
    "*As of Project PyTHAGORA Alpha Release 7/24/2024, this project/lesson is known to be incomplete, early updates should include the creation and testing of this lesson.*\n",
    "\n",
    "*Updated 8/14/2024*"
   ]
  },
  {
   "cell_type": "markdown",
   "metadata": {
    "id": "GIXUZFwaP1go"
   },
   "source": [
    "# Dictionaries\n",
    "The final container object that we are going to look at is the dictionary. A dictionary is similar to a list except it contains more information related to each item within it. Each item in a dictionary can be attached to a value describing it, this pair of values is called a 'key-value pair'"
   ]
  },
  {
   "cell_type": "markdown",
   "metadata": {
    "id": "d7Scw6GjW6HD"
   },
   "source": [
    "## Creating a Dictionary\n",
    "A dictionary is created much like a list but it has a few more specifcs. Instead of square brackets [], dictionaries use curly brackets {}. Each key value pair is separated by a comma , and each value in the pair is separated by a colon. Let's look at an example containing some words and their definitions."
   ]
  },
  {
   "cell_type": "code",
   "execution_count": 106,
   "metadata": {
    "colab": {
     "base_uri": "https://localhost:8080/"
    },
    "executionInfo": {
     "elapsed": 2,
     "status": "ok",
     "timestamp": 1710813071131,
     "user": {
      "displayName": "Seth G",
      "userId": "15300733208633403854"
     },
     "user_tz": 240
    },
    "id": "A1iP69UiPxub",
    "outputId": "aa0900a9-7150-4c41-9dee-28cd87dac48f"
   },
   "outputs": [],
   "source": [
    "definitions = {'doe':'a deer, a female deer', 'ray':'a drop of golden sun', 'me': 'a name I call myself'}"
   ]
  },
  {
   "cell_type": "markdown",
   "metadata": {
    "id": "-nwrEWq0aAto"
   },
   "source": [
    "The dictionary stores each word as a 'key' and the definition as a 'value'. Each of these values can be any type of data, though generally it is best practice to keep your keys as strings describing the associated value. In later lessons we will use dictionaries a lot more, in the heliophysics community they are used extensively to store meta-data. Meta-data is data about data; if I give you an array of points and time stamps but do not tell you which is which, you will have a hard time deciphering the data. A dictionary containing variable labels and a description of the variable becomes important for the distribution of data through a community.\n",
    "\n",
    "For example this is what some of the metadata might look like for positional data of a satellite orbiting earth."
   ]
  },
  {
   "cell_type": "code",
   "execution_count": 107,
   "metadata": {
    "id": "myjSUMN3Z7B9"
   },
   "outputs": [],
   "source": [
    "metadata = {'Instrument Name': 'Satellite 1',\n",
    "            'Julian Date': 2460531.13852,\n",
    "            'x-pos': 'km',\n",
    "            'y-pos': 'km',\n",
    "            'z-pos': 'km',}"
   ]
  },
  {
   "cell_type": "markdown",
   "metadata": {},
   "source": [
    "Now, someone who received the data will know a little bit about the context of the data, instead of just having to figure it out.\n",
    "\n"
   ]
  },
  {
   "cell_type": "markdown",
   "metadata": {},
   "source": [
    "## Indexing a Dictionary"
   ]
  },
  {
   "cell_type": "markdown",
   "metadata": {},
   "source": [
    "If you want to retrieve any of these values to do something with them, maybe label a plot automatically, you can do so by indexing the dictionary much like you would a list or tuple: the dictionary name, followed by quare brackets containing the item you would like to retreive. The main difference is that you cannot index a dictionary with numbers, this is because dictionaries are orderless. The orderless quality of dictionaries means that in order to index a certain value you must do so with the key, not a number."
   ]
  },
  {
   "cell_type": "code",
   "execution_count": 108,
   "metadata": {},
   "outputs": [
    {
     "data": {
      "text/plain": [
       "'Satellite 1'"
      ]
     },
     "execution_count": 108,
     "metadata": {},
     "output_type": "execute_result"
    }
   ],
   "source": [
    "metadata['Instrument Name']"
   ]
  },
  {
   "cell_type": "markdown",
   "metadata": {},
   "source": [
    "Alternatively you can use the `get()` or `__getitem__()` method like this:"
   ]
  },
  {
   "cell_type": "code",
   "execution_count": 109,
   "metadata": {},
   "outputs": [
    {
     "name": "stdout",
     "output_type": "stream",
     "text": [
      "Satellite 1\n",
      "Satellite 1\n"
     ]
    }
   ],
   "source": [
    "print(metadata.__getitem__('Instrument Name'))\n",
    "print(metadata.get('Instrument Name'))"
   ]
  },
  {
   "cell_type": "markdown",
   "metadata": {},
   "source": [
    "If you did want an ordered version of a dictionary that you can subscript, you can use the `list()` function which changes an iterable object into a list, which can then be subscripted as normal.\n",
    "\n",
    "If you do `list(metadata)`, it mimics `list(metadata.keys())` and will only list the 'keys' in the dictionary, leaving off the 'values'. If you want to access the values in list form you will need to use the values() method as well. If you want both of them together, `list(metadata.items())` will create a list of tuples where each tuple contains a key and value together."
   ]
  },
  {
   "cell_type": "code",
   "execution_count": 135,
   "metadata": {},
   "outputs": [
    {
     "name": "stdout",
     "output_type": "stream",
     "text": [
      "['Instrument Name', 'Julian Date', 'x-pos', 'y-pos', 'z-pos', 'latitude', 'longitude']\n",
      "['Instrument Name', 'Julian Date', 'x-pos', 'y-pos', 'z-pos', 'latitude', 'longitude']\n",
      "['Satellite 1', 2460531.13852, 'km', 'km', 'km', 29.21081, -81.02283]\n",
      "[('Instrument Name', 'Satellite 1'), ('Julian Date', 2460531.13852), ('x-pos', 'km'), ('y-pos', 'km'), ('z-pos', 'km'), ('latitude', 29.21081), ('longitude', -81.02283)]\n"
     ]
    }
   ],
   "source": [
    "print(list(metadata))\n",
    "print(list(metadata.keys()))\n",
    "print(list(metadata.values()))\n",
    "print(list(metadata.items()))"
   ]
  },
  {
   "cell_type": "markdown",
   "metadata": {},
   "source": [
    "**Dictionary"
   ]
  },
  {
   "cell_type": "markdown",
   "metadata": {},
   "source": [
    "## Changing a Dictionary"
   ]
  },
  {
   "cell_type": "markdown",
   "metadata": {},
   "source": [
    "A dictionary can also have the data within it, let's add that to the above dictionary using a few different methods."
   ]
  },
  {
   "cell_type": "markdown",
   "metadata": {},
   "source": [
    "### Adding to a Dictionary"
   ]
  },
  {
   "cell_type": "markdown",
   "metadata": {},
   "source": [
    "**Square Brackets**\n",
    "\n",
    "If you want to add something to a dictionary, there are a few different ways to do that. The easiest way to append to a dictionary is to \"index\" the missing value with square bracket notation and set it equal to a value.\n",
    "\n"
   ]
  },
  {
   "cell_type": "code",
   "execution_count": 111,
   "metadata": {},
   "outputs": [
    {
     "ename": "KeyError",
     "evalue": "'data'",
     "output_type": "error",
     "traceback": [
      "\u001b[0;31m---------------------------------------------------------------------------\u001b[0m",
      "\u001b[0;31mKeyError\u001b[0m                                  Traceback (most recent call last)",
      "Cell \u001b[0;32mIn[111], line 1\u001b[0m\n\u001b[0;32m----> 1\u001b[0m \u001b[43mmetadata\u001b[49m\u001b[43m[\u001b[49m\u001b[38;5;124;43m'\u001b[39;49m\u001b[38;5;124;43mdata\u001b[39;49m\u001b[38;5;124;43m'\u001b[39;49m\u001b[43m]\u001b[49m\n",
      "\u001b[0;31mKeyError\u001b[0m: 'data'"
     ]
    }
   ],
   "source": [
    "metadata['data']"
   ]
  },
  {
   "cell_type": "markdown",
   "metadata": {},
   "source": [
    "If you run the code line above, you will get an error that the key 'data' does not exist. "
   ]
  },
  {
   "cell_type": "markdown",
   "metadata": {},
   "source": [
    "If you aren't sure if a key is in a dictionary and want to check without raising an error. You can do this with with the `__contains__()` method by typing the name of the dicitonary followed by `.__contains__('key')`. This will return True or False if the key name you passed is contained in the dictionary. Let's try that instead."
   ]
  },
  {
   "cell_type": "code",
   "execution_count": 112,
   "metadata": {},
   "outputs": [
    {
     "data": {
      "text/plain": [
       "False"
      ]
     },
     "execution_count": 112,
     "metadata": {},
     "output_type": "execute_result"
    }
   ],
   "source": [
    "metadata.__contains__('data')"
   ]
  },
  {
   "cell_type": "markdown",
   "metadata": {},
   "source": [
    "Now we know there is no data contained within this metadata dictionary. Generally, data and metadata will be stored in different files and/or different variables so this is good; but for this example we are going to add a key-value pair to store some data. We can do this by setting `metadata['data']` equal to the data we want to add."
   ]
  },
  {
   "cell_type": "code",
   "execution_count": 113,
   "metadata": {},
   "outputs": [
    {
     "name": "stdout",
     "output_type": "stream",
     "text": [
      "[[1, 1, 1], [2, 1, 1], [1, 2, 2], [1, 1, 2], [2, 2, 2]]\n"
     ]
    }
   ],
   "source": [
    "metadata['data'] = [[1,1,1], [2,1,1], [1,2,2], [1,1,2], [2,2,2]]\n",
    "print(metadata['data'])"
   ]
  },
  {
   "cell_type": "markdown",
   "metadata": {},
   "source": [
    "**setdefault() Method**\n",
    "\n",
    "Alternatively, you could use the `setdefault()` method, which only adds the data if that key does not already exist. Let's give that a try."
   ]
  },
  {
   "cell_type": "code",
   "execution_count": 114,
   "metadata": {},
   "outputs": [
    {
     "data": {
      "text/plain": [
       "[[1, 1, 1], [2, 1, 1], [1, 2, 2], [1, 1, 2], [2, 2, 2]]"
      ]
     },
     "execution_count": 114,
     "metadata": {},
     "output_type": "execute_result"
    }
   ],
   "source": [
    "metadata.setdefault('data', [1,5,4])\n"
   ]
  },
  {
   "cell_type": "markdown",
   "metadata": {},
   "source": [
    "Notice that it returned the values already assigned to the ket 'data'. The `setdefault()` method is good for appending data only if it does not already exist.\n",
    "\n",
    "If we delete the 'data' item using the `__delitem__()` method and then try to `setdefault()`, we will find that it works just like before and appends the data."
   ]
  },
  {
   "cell_type": "code",
   "execution_count": 115,
   "metadata": {},
   "outputs": [
    {
     "data": {
      "text/plain": [
       "[1, 5, 4]"
      ]
     },
     "execution_count": 115,
     "metadata": {},
     "output_type": "execute_result"
    }
   ],
   "source": [
    "metadata.__delitem__('data')\n",
    "metadata.setdefault('data', [1,5,4])\n"
   ]
  },
  {
   "cell_type": "markdown",
   "metadata": {},
   "source": [
    "**__setitem__() Method**\n",
    "\n",
    "If you do not care that a key already exists, you can use the `__setitem__(key, value)` to either append a value or re-write a value in a dictionary."
   ]
  },
  {
   "cell_type": "code",
   "execution_count": 116,
   "metadata": {},
   "outputs": [
    {
     "name": "stdout",
     "output_type": "stream",
     "text": [
      "[1, 5, 4]\n",
      "[[1, 1, 1], [2, 2, 2], [3, 3, 3]]\n",
      "{'Instrument Name': 'Satellite 1', 'Julian Date': 2460531.13852, 'x-pos': 'km', 'y-pos': 'km', 'z-pos': 'km'}\n",
      "[[1, 0, 0]]\n"
     ]
    }
   ],
   "source": [
    "print(metadata['data'])\n",
    "metadata.__setitem__('data', [[1,1,1],[2,2,2],[3,3,3]])\n",
    "print(metadata['data'])\n",
    "metadata.__delitem__('data')\n",
    "print(metadata)\n",
    "metadata.__setitem__('data', [[1,0,0]])\n",
    "print(metadata['data'])"
   ]
  },
  {
   "cell_type": "markdown",
   "metadata": {},
   "source": [
    "**update() Method**\n",
    "\n",
    "If you would like to add multiple new key-value pairs to a dictionary you can do so with the `update()` method. When you use `update()`, you must use curly brackets inside the parenthesis to identify the key-value pairs."
   ]
  },
  {
   "cell_type": "code",
   "execution_count": 117,
   "metadata": {},
   "outputs": [
    {
     "name": "stdout",
     "output_type": "stream",
     "text": [
      "{'Instrument Name': 'Satellite 1', 'Julian Date': 2460531.13852, 'x-pos': 'km', 'y-pos': 'km', 'z-pos': 'km', 'data': [[1, 0, 0]], 'latitude': 29.21081, 'longitude': -81.02283}\n"
     ]
    }
   ],
   "source": [
    "metadata.update({'latitude': 29.21081000, 'longitude': -81.02283000})\n",
    "print(metadata)"
   ]
  },
  {
   "cell_type": "markdown",
   "metadata": {},
   "source": [
    "**dict() Constructor**\n",
    "\n",
    "Finally, if you would like to create a copy of the dictionary and then append new values to the copy you can do that using the `dict()` constuctor."
   ]
  },
  {
   "cell_type": "code",
   "execution_count": 118,
   "metadata": {},
   "outputs": [
    {
     "name": "stdout",
     "output_type": "stream",
     "text": [
      "{'Instrument Name': 'Satellite 1', 'Julian Date': 2460531.13852, 'x-pos': 'km', 'y-pos': 'km', 'z-pos': 'km', 'data': [[1, 0, 0]], 'latitude': 29.21081, 'longitude': -81.02283} \n",
      " {'Instrument Name': 'Satellite 1', 'Julian Date': 2460531.13852, 'x-pos': 'km', 'y-pos': 'km', 'z-pos': 'km', 'data': [[1, 0, 0]], 'latitude': 29.21081, 'longitude': -81.02283, 'date_used': '10/20/2090'}\n"
     ]
    }
   ],
   "source": [
    "copy_metadata = dict(metadata,date_used='10/20/2090')\n",
    "print(metadata, \"\\n\", copy_metadata)"
   ]
  },
  {
   "cell_type": "markdown",
   "metadata": {},
   "source": [
    "Now you have a copy of metadata with an additional key tagging when you used that data.\n",
    "\n",
    "**Constructors** *When you create a new object it calls a constructor to build the object, this constructor takes a set of inputs and uses them to build the attributes of the class is is designed to construct. For example, to build a dictionary you can eaither use the curly brackets with keys and values separated by colons and different pairs separated by commas, or you can use the constructor and pass values set equal to their keys like below.*   \n",
    "\n",
    "```\n",
    "my_dict = {'a':1, 'b':2, 'c':3}\n",
    "```   \n",
    "*Is the same as*   \n",
    "```\n",
    "my_dict = dict(a=1,b=2,c=3)\n",
    "```   \n",
    "*This is because when you create a dictionary using the curly bracket notation it is using `dict()` in the background to create the dictionary object.*\n",
    "\n",
    "*In the case above, `dict(metadata, date_used='10/20/2090')`, you are passing 'metadata' as an input into the dictionary constructor, so it will use everything contained in 'metadata' as well as the additional key-value pair provided to instantiate the dicitonary object 'copy_metadata' with the keys and values from 'metadata' and an additional attribute 'date_used'.*\n",
    "\n",
    "***Other Constructors** There is a correspoinding constructor for most classes. The `list()` constructor takes any iterable, such as a set, tuple, or other list and creates a list from it. The `set()` and `tuple()` constructors work in the same way.*"
   ]
  },
  {
   "cell_type": "markdown",
   "metadata": {},
   "source": [
    "### Removing From a Dictionary"
   ]
  },
  {
   "cell_type": "markdown",
   "metadata": {},
   "source": [
    "**Pop** \n",
    "\n",
    "You have already seen the `__delitem__()` method for removing a specific key-value pair from a dictionary. What if you wanted to do something with that key-value pair before deleting it? Just like lists, dictionaries have a `pop()` method which removes a value and returns that value to be used for something. For example, let's remove the 'data' value and reassign it to its own variable."
   ]
  },
  {
   "cell_type": "code",
   "execution_count": 119,
   "metadata": {},
   "outputs": [
    {
     "name": "stdout",
     "output_type": "stream",
     "text": [
      "[[1, 0, 0]] \n",
      " {'Instrument Name': 'Satellite 1', 'Julian Date': 2460531.13852, 'x-pos': 'km', 'y-pos': 'km', 'z-pos': 'km', 'latitude': 29.21081, 'longitude': -81.02283}\n"
     ]
    }
   ],
   "source": [
    "data = metadata.pop('data')\n",
    "print(data, \"\\n\", metadata)"
   ]
  },
  {
   "cell_type": "markdown",
   "metadata": {},
   "source": [
    "We can also use the `popitem()` method to do pop out both the key and value as a paired tuple. This method will only pop the last item in the dictionary."
   ]
  },
  {
   "cell_type": "code",
   "execution_count": 120,
   "metadata": {},
   "outputs": [
    {
     "name": "stdout",
     "output_type": "stream",
     "text": [
      "('date_used', '10/20/2090') \n",
      " {'Instrument Name': 'Satellite 1', 'Julian Date': 2460531.13852, 'x-pos': 'km', 'y-pos': 'km', 'z-pos': 'km', 'data': [[1, 0, 0]], 'latitude': 29.21081, 'longitude': -81.02283}\n"
     ]
    }
   ],
   "source": [
    "popped_tuple = copy_metadata.popitem()\n",
    "print(popped_tuple, \"\\n\", copy_metadata)"
   ]
  },
  {
   "cell_type": "markdown",
   "metadata": {},
   "source": [
    "**clear() Method**\n",
    "\n",
    "The `clear()` method will completely empty a dictionary if you feel that is something you need to do."
   ]
  },
  {
   "cell_type": "code",
   "execution_count": 122,
   "metadata": {},
   "outputs": [
    {
     "name": "stdout",
     "output_type": "stream",
     "text": [
      "{}\n"
     ]
    }
   ],
   "source": [
    "copy_metadata.clear()\n",
    "print(copy_metadata)"
   ]
  },
  {
   "cell_type": "markdown",
   "metadata": {},
   "source": [
    "## Additional Dictionary Methods"
   ]
  },
  {
   "cell_type": "markdown",
   "metadata": {},
   "source": [
    "Dictionaries act much like lists most of the time, so some of the methods we used on lists will look very similar. For instance, `len(dict)` works the same as it does for lists and will return the number of items in the dicitonary."
   ]
  },
  {
   "cell_type": "code",
   "execution_count": 123,
   "metadata": {},
   "outputs": [
    {
     "data": {
      "text/plain": [
       "7"
      ]
     },
     "execution_count": 123,
     "metadata": {},
     "output_type": "execute_result"
    }
   ],
   "source": [
    "len(metadata)"
   ]
  },
  {
   "cell_type": "markdown",
   "metadata": {},
   "source": [
    "Similar to how lists can be reversed with `list.reverse()`, dictionaries can also be reversed, though it is unfortunately not as simple as the list example."
   ]
  },
  {
   "cell_type": "code",
   "execution_count": 157,
   "metadata": {},
   "outputs": [
    {
     "name": "stdout",
     "output_type": "stream",
     "text": [
      "[1, 2, 3, 4]\n",
      "[4, 3, 2, 1]\n"
     ]
    }
   ],
   "source": [
    "mylist = [1,2,3,4]\n",
    "print(mylist)\n",
    "mylist.reverse()\n",
    "print(mylist)\n"
   ]
  },
  {
   "cell_type": "markdown",
   "metadata": {},
   "source": [
    "All dictionaries have a `__reversed__()` method which returns an reversed iterator. This object cannot be printed easily like above, so in order to print a reversed dictionary you will need to either turn it into a list or use a for loop. I will show both of these examples below but do not expect you to know what an iterator or for loop is until 1c-2: \"For Loops\"."
   ]
  },
  {
   "cell_type": "code",
   "execution_count": 164,
   "metadata": {},
   "outputs": [
    {
     "name": "stdout",
     "output_type": "stream",
     "text": [
      "Printing by converting iterator to a list: ['longitude', 'latitude', 'z-pos', 'y-pos', 'x-pos', 'Julian Date', 'Instrument Name']\n",
      "Printing using a for loop:\n",
      "| longitude\n",
      "| latitude\n",
      "| z-pos\n",
      "| y-pos\n",
      "| x-pos\n",
      "| Julian Date\n",
      "| Instrument Name\n"
     ]
    }
   ],
   "source": [
    "print(\n",
    "    \"Printing by converting iterator to a list:\",\n",
    "    list(\n",
    "        metadata.__reversed__()\n",
    "    )\n",
    ")\n",
    "\n",
    "print(\"Printing using a for loop:\")\n",
    "for i in reversed(metadata):\n",
    "    print(\"|\",i)"
   ]
  },
  {
   "cell_type": "markdown",
   "metadata": {},
   "source": [
    "Remember again that by default the dictionary object returns keys and so to get values or pairs you will need to use the `.values()` or `.items()` methods"
   ]
  },
  {
   "cell_type": "code",
   "execution_count": 166,
   "metadata": {},
   "outputs": [
    {
     "name": "stdout",
     "output_type": "stream",
     "text": [
      "Printing by converting iterator to a list: [-81.02283, 29.21081, 'km', 'km', 'km', 2460531.13852, 'Satellite 1']\n",
      "Printing using a for loop:\n",
      "| -81.02283\n",
      "| 29.21081\n",
      "| km\n",
      "| km\n",
      "| km\n",
      "| 2460531.13852\n",
      "| Satellite 1\n"
     ]
    }
   ],
   "source": [
    "print(\n",
    "    \"Printing by converting iterator to a list:\",\n",
    "    list(\n",
    "        metadata.values().__reversed__()\n",
    "    )\n",
    ")\n",
    "\n",
    "print(\"Printing using a for loop:\")\n",
    "for i in reversed(metadata.values()):\n",
    "    print(\"|\",i)"
   ]
  },
  {
   "cell_type": "code",
   "execution_count": 167,
   "metadata": {},
   "outputs": [
    {
     "name": "stdout",
     "output_type": "stream",
     "text": [
      "Printing by converting iterator to a list: [('longitude', -81.02283), ('latitude', 29.21081), ('z-pos', 'km'), ('y-pos', 'km'), ('x-pos', 'km'), ('Julian Date', 2460531.13852), ('Instrument Name', 'Satellite 1')]\n",
      "Printing using a for loop:\n",
      "| ('longitude', -81.02283)\n",
      "| ('latitude', 29.21081)\n",
      "| ('z-pos', 'km')\n",
      "| ('y-pos', 'km')\n",
      "| ('x-pos', 'km')\n",
      "| ('Julian Date', 2460531.13852)\n",
      "| ('Instrument Name', 'Satellite 1')\n"
     ]
    }
   ],
   "source": [
    "print(\n",
    "    \"Printing by converting iterator to a list:\",\n",
    "    list(\n",
    "        metadata.items().__reversed__()\n",
    "    )\n",
    ")\n",
    "\n",
    "print(\"Printing using a for loop:\")\n",
    "for i in reversed(metadata.items()):\n",
    "    print(\"|\",i)"
   ]
  },
  {
   "cell_type": "markdown",
   "metadata": {},
   "source": [
    "You have completed the lesson on dictionaries. This lesson concludes the section on containers. You can now move on to [1c-1 If Statements](https://colab.research.google.com/github/s-gerow/SAIL-Plasma/blob/main/PyTHAGORA/Module1_BaseTrack/1c-1%20If%20Statements.ipynb)."
   ]
  }
 ],
 "metadata": {
  "colab": {
   "authorship_tag": "ABX9TyMCqqo2TjVa2gIH4oTVJoli",
   "provenance": []
  },
  "kernelspec": {
   "display_name": ".venv",
   "language": "python",
   "name": "python3"
  },
  "language_info": {
   "codemirror_mode": {
    "name": "ipython",
    "version": 3
   },
   "file_extension": ".py",
   "mimetype": "text/x-python",
   "name": "python",
   "nbconvert_exporter": "python",
   "pygments_lexer": "ipython3",
   "version": "3.12.5"
  }
 },
 "nbformat": 4,
 "nbformat_minor": 0
}
