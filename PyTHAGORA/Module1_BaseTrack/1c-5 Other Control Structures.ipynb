{
 "cells": [
  {
   "cell_type": "markdown",
   "metadata": {},
   "source": [
    "*As of Project PyTHAGORA Alpha Release 7/24/2024, this project/lesson is known to be incomplete, early updates should include the creation and testing of this lesson.*\n",
    "\n",
    "*Updated 9/08/2024*"
   ]
  },
  {
   "cell_type": "markdown",
   "metadata": {},
   "source": [
    "# Other Control Structures"
   ]
  },
  {
   "cell_type": "markdown",
   "metadata": {},
   "source": [
    "Aside from the structures I have already taught you there are a few other statments and keywords that you will find useful but do not necessitate an entire lesson of their own. Here are those structures. There will not be a project detailing their use but I may use them in other future projects."
   ]
  },
  {
   "cell_type": "markdown",
   "metadata": {},
   "source": [
    "## Match-Case Statements"
   ]
  },
  {
   "cell_type": "markdown",
   "metadata": {},
   "source": [
    "If you are coming from another langauge such as C or MATLAB, you may have noticed the lack of a switch statement in this previous seciton. Python does not have a switch statement, but it does have an alternative that may be more powerful in some specfic cases. The match-case (and also the switch) statement works very much like an if-elif statement but has some more intricate logic behind it.\n",
    "\n",
    "While an if-elif statement looks simply for boolean values, the match-case statement looks for patterns and value matches. Because the difference is fairly minute in most cases, I will simply show an example where match-case is better and an example of where match-case is essentially the same. If you would like to read more about the intricacies here is the [PEP (Python Enhancement Proposal)](https://peps.python.org/pep-0636/) for match-case, as well as a few helpful articles I have found on the topic: \n",
    "\n",
    "[Ben Hoyt on PEP634-636](https://benhoyt.com/writings/python-pattern-matching/)   \n",
    "[Geeks for geeks on Match-Case](https://www.geeksforgeeks.org/python-match-case-statement/)\n",
    "\n",
    "\n",
    "\n",
    "*This course is not an in depth course into the interior workings of Python and as such these details are out of scope at the moment, maybe in future lessons we will cover more detailed concepts.*"
   ]
  },
  {
   "cell_type": "markdown",
   "metadata": {},
   "source": [
    "### How the match case works"
   ]
  },
  {
   "cell_type": "markdown",
   "metadata": {},
   "source": [
    "The match-case statement works by typing the word \"match\", followed by the object you are evaluating, then a colon. Within, the match, for each new comparison you can type \"case\" followed by the pattern you want it to match. If the object and the pattern match then Python will evaluate only that case statement. Much like an elif chain. \n",
    "\n",
    "Different from an elif chain, which require values and booleans to evaluate, a match case statement can evaluate a comparison based off of patterns. These patterns are detailed in the documentation [here](https://benhoyt.com/writings/python-pattern-matching/).\n",
    "\n",
    "In the Python documentation they provide this as an example:"
   ]
  },
  {
   "cell_type": "code",
   "execution_count": 34,
   "metadata": {},
   "outputs": [
    {
     "name": "stdout",
     "output_type": "stream",
     "text": [
      "Case 3, y: 200\n"
     ]
    }
   ],
   "source": [
    "flag = False\n",
    "\n",
    "match (100, 200): #Try changing 200 to 400, or changing flag to True to see what happens.\n",
    "\n",
    "   case (100, 300):  # Mismatch: 200 != 300\n",
    "\n",
    "       print('Case 1')\n",
    "\n",
    "   case (100, 200) if flag:  # Successful match, but guard fails\n",
    "\n",
    "       print('Case 2')\n",
    "\n",
    "   case (100, y):  # Matches and binds y to 200\n",
    "\n",
    "       print(f'Case 3, y: {y}')\n",
    "\n",
    "   case _:  # Pattern not attempted\n",
    "\n",
    "       print('Case 4, I match anything!')"
   ]
  },
  {
   "cell_type": "markdown",
   "metadata": {},
   "source": [
    "The object being compared is (100,200). The first case will only evaluate if the object were (100,300). The second case will only evaluate if the if statement is true, and if the object is (100,200). The third case will evaluate as long as the first value is 100, the second value can be anything and is assigned to the variable y. The final case is a default and will onyl be evaluated if all other cases do not, much like and else. \n",
    "\n",
    "This example can be easily remade using an if-elif chain with one exception. The if-elif chain cannot assign the value to y and case 3 will throw an error."
   ]
  },
  {
   "cell_type": "code",
   "execution_count": 35,
   "metadata": {},
   "outputs": [
    {
     "ename": "NameError",
     "evalue": "name 'x' is not defined",
     "output_type": "error",
     "traceback": [
      "\u001b[0;31m---------------------------------------------------------------------------\u001b[0m",
      "\u001b[0;31mNameError\u001b[0m                                 Traceback (most recent call last)",
      "Cell \u001b[0;32mIn[35], line 8\u001b[0m\n\u001b[1;32m      6\u001b[0m \u001b[38;5;28;01melif\u001b[39;00m thing \u001b[38;5;241m==\u001b[39m (\u001b[38;5;241m100\u001b[39m,\u001b[38;5;241m200\u001b[39m) \u001b[38;5;129;01mand\u001b[39;00m flag:\n\u001b[1;32m      7\u001b[0m     \u001b[38;5;28mprint\u001b[39m(\u001b[38;5;124m\"\u001b[39m\u001b[38;5;124mCase 2\u001b[39m\u001b[38;5;124m\"\u001b[39m)\n\u001b[0;32m----> 8\u001b[0m \u001b[38;5;28;01melif\u001b[39;00m thing \u001b[38;5;241m==\u001b[39m (\u001b[38;5;241m100\u001b[39m, \u001b[43mx\u001b[49m):\n\u001b[1;32m      9\u001b[0m     \u001b[38;5;28mprint\u001b[39m(\u001b[38;5;124mf\u001b[39m\u001b[38;5;124m\"\u001b[39m\u001b[38;5;124mCase 3, y:\u001b[39m\u001b[38;5;132;01m{\u001b[39;00mx\u001b[38;5;132;01m}\u001b[39;00m\u001b[38;5;124m\"\u001b[39m)\n\u001b[1;32m     10\u001b[0m \u001b[38;5;28;01melse\u001b[39;00m:\n",
      "\u001b[0;31mNameError\u001b[0m: name 'x' is not defined"
     ]
    }
   ],
   "source": [
    "flag = False\n",
    "thing = (100,200) #Try changing 200 to 400, or changing flag to True to see what happens.\n",
    "\n",
    "if thing == (100, 300):\n",
    "    print(\"Case 1\")\n",
    "elif thing == (100,200) and flag:\n",
    "    print(\"Case 2\")\n",
    "elif thing == (100, x):\n",
    "    print(f\"Case 3, y:{x}\")\n",
    "else:\n",
    "    print(\"Case 4, I match anything!\")"
   ]
  },
  {
   "cell_type": "markdown",
   "metadata": {},
   "source": [
    "*If you are curious about more applications and uses for match-case statements, explore the links I have provided above. If you feel as though this lesson can be expanded to include more details, please make an issue or pull request on the github page for [Project PyTHAGORA](https://github.com/s-gerow/SAIL-Plasma).*"
   ]
  },
  {
   "cell_type": "markdown",
   "metadata": {},
   "source": [
    "## List Comprehensions"
   ]
  },
  {
   "cell_type": "markdown",
   "metadata": {},
   "source": [
    "A list comprehension is a really quick way to make a new list based on the contents of a previous list. For example, say I have a list of bank transactions but I only want to know the ones greateer than $100. I could use a for loop and if statement like this:"
   ]
  },
  {
   "cell_type": "code",
   "execution_count": 1,
   "metadata": {},
   "outputs": [
    {
     "name": "stdout",
     "output_type": "stream",
     "text": [
      "[100, 500, 760]\n"
     ]
    }
   ],
   "source": [
    "transactions = [100, 500, 60, 5, 70, 40, 760]\n",
    "over_100 = []\n",
    "\n",
    "for i in transactions:\n",
    "    if i >= 100:\n",
    "        over_100.append(i)\n",
    "\n",
    "print(over_100)"
   ]
  },
  {
   "cell_type": "markdown",
   "metadata": {},
   "source": [
    "Or, using list comprehensions I could do all of that in a single line like this:"
   ]
  },
  {
   "cell_type": "code",
   "execution_count": 4,
   "metadata": {},
   "outputs": [
    {
     "name": "stdout",
     "output_type": "stream",
     "text": [
      "[]\n",
      "[100, 500, 760]\n"
     ]
    }
   ],
   "source": [
    "transactions = [100, 500, 60, 5, 70, 40, 760]\n",
    "over_100 = []\n",
    "\n",
    "print(over_100)\n",
    "\n",
    "over_100 = [x for x in transactions if x >= 100]\n",
    "\n",
    "print(over_100)"
   ]
  },
  {
   "cell_type": "markdown",
   "metadata": {},
   "source": [
    "The syntax to create a list comprehension is:\n",
    "\n",
    "`some_list = [value for value in iterable if condition == true]`\n",
    "\n",
    "In this case x is our value. The list will contain 'x' where 'x' is a value from another iterable that satisfies the if statement. So the list will iterate over the contents of 'transactions' and only append a value if it is greater than or equal to 100."
   ]
  },
  {
   "cell_type": "markdown",
   "metadata": {},
   "source": [
    "List comprehensions can get fairly complicated quickly by including more complicated iterables and more variables. For example, if I have a dictionary of students and their final grades, I can use a list comprehension to get a list of all the students who passed the class:"
   ]
  },
  {
   "cell_type": "code",
   "execution_count": 9,
   "metadata": {},
   "outputs": [
    {
     "name": "stdout",
     "output_type": "stream",
     "text": [
      "['frenchie', 'mm', 'hughie']\n"
     ]
    }
   ],
   "source": [
    "students_final_grades = {'frenchie': 75, 'mm': 90, 'butcher': 40, 'hughie': 70, 'kimiko': 50, 'john': 40, 'annie': 60}\n",
    "\n",
    "passed = [x for x,y in students_final_grades.items() if y > 69]\n",
    "\n",
    "print(passed)"
   ]
  },
  {
   "cell_type": "markdown",
   "metadata": {},
   "source": [
    "I could even include the student name and the grade they got:"
   ]
  },
  {
   "cell_type": "code",
   "execution_count": 10,
   "metadata": {},
   "outputs": [
    {
     "name": "stdout",
     "output_type": "stream",
     "text": [
      "[('frenchie', 75), ('mm', 90), ('hughie', 70)]\n"
     ]
    }
   ],
   "source": [
    "passed = []\n",
    "\n",
    "passed = [(x,y) for x,y in students_final_grades.items() if y > 69]\n",
    "\n",
    "print(passed)"
   ]
  },
  {
   "cell_type": "markdown",
   "metadata": {},
   "source": [
    "You can also modify the values in the first value clause. Say for instance I need to capitalize the names:"
   ]
  },
  {
   "cell_type": "code",
   "execution_count": 11,
   "metadata": {},
   "outputs": [
    {
     "name": "stdout",
     "output_type": "stream",
     "text": [
      "[('Frenchie', 75), ('Mm', 90), ('Hughie', 70)]\n"
     ]
    }
   ],
   "source": [
    "passed = []\n",
    "\n",
    "passed = [(x.title(),y) for x,y in students_final_grades.items() if y > 69]\n",
    "\n",
    "print(passed)"
   ]
  },
  {
   "cell_type": "markdown",
   "metadata": {},
   "source": [
    "Overall, list comprehensions can help shorten your code by a few lines but they can also get fairly complicated so if you find yourself adding in many intricate layers to your comprehension, it may just be easier to read and code a for loop."
   ]
  },
  {
   "cell_type": "markdown",
   "metadata": {},
   "source": [
    "## Do While"
   ]
  },
  {
   "cell_type": "markdown",
   "metadata": {},
   "source": [
    "If you are familiar with any other programming languages, you likely have used a do-while loop. This loop operates much like a while loop except it checks the boolean condition at the end.\n",
    "\n",
    "A while loop will first check a condition, then do a sequence, then repeat; always checking the condition before running the contained sequence. A do-while loop, on the other hand, will run the sequence, then check the condition, and then repeating. Thus in a do-while loop, you guarentee that the loop will run at least once no matter what, and that any additional runs will be dependent on some condition.\n",
    "\n",
    "Python does not have a native do-while loop; depsite that though, we can simulate a do-while with a while loop and an if statement. In order to make a while loop run no matter what we can use `while True:`. This statement will ensure that regardless of what happens before the loop, it will start. Then we can include some code, maybe take some input from a user. And at the end of our while loop we can write an if statement with a break condition to break the loop if we need. Here is an example:"
   ]
  },
  {
   "cell_type": "code",
   "execution_count": 2,
   "metadata": {},
   "outputs": [
    {
     "name": "stdout",
     "output_type": "stream",
     "text": [
      "5\n",
      "9\n",
      "18\n",
      "24\n",
      "47\n"
     ]
    }
   ],
   "source": [
    "value = 0\n",
    "while True:\n",
    "    value += int(input(\"enter a number\"))\n",
    "    print(value)\n",
    "    if value > 25:\n",
    "        break\n"
   ]
  },
  {
   "cell_type": "markdown",
   "metadata": {},
   "source": [
    "In this example we ask for a number before checking if value is greater than 25. Of course, since we start at zero the value will be less than 25 at the start so a normal while loop would have worked perfectly fine here but hopefully this demonstrates a potential application of a do-while loop."
   ]
  },
  {
   "cell_type": "markdown",
   "metadata": {},
   "source": [
    "## More Operators"
   ]
  },
  {
   "cell_type": "markdown",
   "metadata": {},
   "source": [
    "I have made use of a few operators over the lessons leading up to this one that I have not described in depth. The `in` and `is` operators. \n",
    "\n",
    "**In**\n",
    "\n",
    "The `in` operator checks if a given quantity is contained within an iterable object and evaulates True if it is and False if not. It is also used in a for loop but with a slightly different application.\n",
    "\n",
    "In a for loop, `in` is used to assign a value from an iterable to a variable. In all other cases the `in` operator is a boolean operator and returns either True or False. This means it can be used when working with lists and if statements. Instead of a for loop and if statement to check if a value is in a given iterable, you can use the `in` operator."
   ]
  },
  {
   "cell_type": "code",
   "execution_count": 5,
   "metadata": {},
   "outputs": [
    {
     "name": "stdout",
     "output_type": "stream",
     "text": [
      "True\n"
     ]
    }
   ],
   "source": [
    "\n",
    "num_list = [1,2,3,4,5,6]\n",
    "for i in num_list:\n",
    "    if i == 4:\n",
    "        print(True)\n",
    "        break\n"
   ]
  },
  {
   "cell_type": "code",
   "execution_count": 6,
   "metadata": {},
   "outputs": [
    {
     "name": "stdout",
     "output_type": "stream",
     "text": [
      "True\n"
     ]
    }
   ],
   "source": [
    "if 4 in num_list:\n",
    "    print(True)"
   ]
  },
  {
   "cell_type": "markdown",
   "metadata": {},
   "source": [
    "Since `in` is a boolean operator we can even just do:"
   ]
  },
  {
   "cell_type": "code",
   "execution_count": 7,
   "metadata": {},
   "outputs": [
    {
     "name": "stdout",
     "output_type": "stream",
     "text": [
      "True\n"
     ]
    }
   ],
   "source": [
    "print(4 in num_list)"
   ]
  },
  {
   "cell_type": "markdown",
   "metadata": {},
   "source": [
    "**Not in**\n",
    "\n",
    "This can be combined with the `not` operator which I taught you in [1c-1 If Statements](./1c-1%20If%20Statements.ipynb) to return True if something is not in a list:"
   ]
  },
  {
   "cell_type": "code",
   "execution_count": 8,
   "metadata": {},
   "outputs": [
    {
     "name": "stdout",
     "output_type": "stream",
     "text": [
      "True\n"
     ]
    }
   ],
   "source": [
    "print(7 not in num_list)"
   ]
  },
  {
   "cell_type": "markdown",
   "metadata": {},
   "source": [
    "**Comparison Assignment**\n",
    "\n",
    "    x = 10 if a > 4 else 20"
   ]
  },
  {
   "cell_type": "markdown",
   "metadata": {},
   "source": [
    "## Raises and Exceptions"
   ]
  },
  {
   "cell_type": "markdown",
   "metadata": {},
   "source": []
  },
  {
   "cell_type": "markdown",
   "metadata": {},
   "source": [
    "This lesson is currently incomplete. You can move on to [1d-1 Functions](./1d-1%20Functions.ipynb)."
   ]
  },
  {
   "cell_type": "markdown",
   "metadata": {},
   "source": []
  }
 ],
 "metadata": {
  "kernelspec": {
   "display_name": ".venv",
   "language": "python",
   "name": "python3"
  },
  "language_info": {
   "codemirror_mode": {
    "name": "ipython",
    "version": 3
   },
   "file_extension": ".py",
   "mimetype": "text/x-python",
   "name": "python",
   "nbconvert_exporter": "python",
   "pygments_lexer": "ipython3",
   "version": "3.12.5"
  }
 },
 "nbformat": 4,
 "nbformat_minor": 2
}
