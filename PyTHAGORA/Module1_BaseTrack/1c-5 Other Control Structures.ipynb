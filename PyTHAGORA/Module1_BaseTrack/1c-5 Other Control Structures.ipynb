{
 "cells": [
  {
   "cell_type": "markdown",
   "metadata": {},
   "source": [
    "*As of Project PyTHAGORA Alpha Release 7/24/2024, this project/lesson is known to be incomplete, early updates should include the creation and testing of this lesson.*\n",
    "\n",
    "*Updated 9/08/2024*"
   ]
  },
  {
   "cell_type": "markdown",
   "metadata": {},
   "source": [
    "# Other Control Structures"
   ]
  },
  {
   "cell_type": "markdown",
   "metadata": {},
   "source": [
    "Aside from the structures I have already taught you there are a few other statments and keywords that you will find useful but do not necessitate an entire lesson of their own. Here are those structures. There will not be a project detailing their use but I may use them in other future projects."
   ]
  },
  {
   "cell_type": "markdown",
   "metadata": {},
   "source": [
    "## Match-Case Statements"
   ]
  },
  {
   "cell_type": "markdown",
   "metadata": {},
   "source": [
    "If you are coming from another langauge such as C or MATLAB, you may have noticed the lack of a switch statement in this previous seciton. Python does not have a switch statement, but it does have an alternative that may be more powerful in some specfic cases. The match-case (and also the switch) statement works very much like an if-elif statement but has some more intricate logic behind it.\n",
    "\n",
    "While an if-elif statement looks simply for boolean values, the match-case statement looks for patterns and value matches. Because the difference is fairly minute in most cases, I will simply show an example where match-case is better and an example of where match-case is essentially the same. If you would like to read more about the intricacies here is the [PEP (Python Enhancement Proposal)](https://peps.python.org/pep-0636/) for match-case, as well as a few helpful articles I have found on the topic: \n",
    "\n",
    "[Ben Hoyt on PEP634-636](https://benhoyt.com/writings/python-pattern-matching/)   \n",
    "[Geeks for geeks on Match-Case](https://www.geeksforgeeks.org/python-match-case-statement/)\n",
    "\n",
    "\n",
    "\n",
    "*This course is not an in depth course into the interior workings of Python and as such these details are out of scope at the moment, maybe in future lessons we will cover more detailed concepts.*"
   ]
  },
  {
   "cell_type": "markdown",
   "metadata": {},
   "source": [
    "### How the match case works"
   ]
  },
  {
   "cell_type": "markdown",
   "metadata": {},
   "source": [
    "The match-case statement works by typing the word \"match\", followed by the object you are evaluating, then a colon. Within, the match, for each new comparison you can type \"case\" followed by the pattern you want it to match. If the object and the pattern match then Python will evaluate only that case statement. Much like an elif chain. \n",
    "\n",
    "Different from an elif chain, which require values and booleans to evaluate, a match case statement can evaluate a comparison based off of patterns. These patterns are detailed in the documentation [here](https://benhoyt.com/writings/python-pattern-matching/).\n",
    "\n",
    "In the Python documentation they provide this as an example:"
   ]
  },
  {
   "cell_type": "code",
   "execution_count": 34,
   "metadata": {},
   "outputs": [
    {
     "name": "stdout",
     "output_type": "stream",
     "text": [
      "Case 3, y: 200\n"
     ]
    }
   ],
   "source": [
    "flag = False\n",
    "\n",
    "match (100, 200): #Try changing 200 to 400, or changing flag to True to see what happens.\n",
    "\n",
    "   case (100, 300):  # Mismatch: 200 != 300\n",
    "\n",
    "       print('Case 1')\n",
    "\n",
    "   case (100, 200) if flag:  # Successful match, but guard fails\n",
    "\n",
    "       print('Case 2')\n",
    "\n",
    "   case (100, y):  # Matches and binds y to 200\n",
    "\n",
    "       print(f'Case 3, y: {y}')\n",
    "\n",
    "   case _:  # Pattern not attempted\n",
    "\n",
    "       print('Case 4, I match anything!')"
   ]
  },
  {
   "cell_type": "markdown",
   "metadata": {},
   "source": [
    "The object being compared is (100,200). The first case will only evaluate if the object were (100,300). The second case will only evaluate if the if statement is true, and if the object is (100,200). The third case will evaluate as long as the first value is 100, the second value can be anything and is assigned to the variable y. The final case is a default and will onyl be evaluated if all other cases do not, much like and else. \n",
    "\n",
    "This example can be easily remade using an if-elif chain with one exception. The if-elif chain cannot assign the value to y and case 3 will throw an error."
   ]
  },
  {
   "cell_type": "code",
   "execution_count": 35,
   "metadata": {},
   "outputs": [
    {
     "ename": "NameError",
     "evalue": "name 'x' is not defined",
     "output_type": "error",
     "traceback": [
      "\u001b[0;31m---------------------------------------------------------------------------\u001b[0m",
      "\u001b[0;31mNameError\u001b[0m                                 Traceback (most recent call last)",
      "Cell \u001b[0;32mIn[35], line 8\u001b[0m\n\u001b[1;32m      6\u001b[0m \u001b[38;5;28;01melif\u001b[39;00m thing \u001b[38;5;241m==\u001b[39m (\u001b[38;5;241m100\u001b[39m,\u001b[38;5;241m200\u001b[39m) \u001b[38;5;129;01mand\u001b[39;00m flag:\n\u001b[1;32m      7\u001b[0m     \u001b[38;5;28mprint\u001b[39m(\u001b[38;5;124m\"\u001b[39m\u001b[38;5;124mCase 2\u001b[39m\u001b[38;5;124m\"\u001b[39m)\n\u001b[0;32m----> 8\u001b[0m \u001b[38;5;28;01melif\u001b[39;00m thing \u001b[38;5;241m==\u001b[39m (\u001b[38;5;241m100\u001b[39m, \u001b[43mx\u001b[49m):\n\u001b[1;32m      9\u001b[0m     \u001b[38;5;28mprint\u001b[39m(\u001b[38;5;124mf\u001b[39m\u001b[38;5;124m\"\u001b[39m\u001b[38;5;124mCase 3, y:\u001b[39m\u001b[38;5;132;01m{\u001b[39;00mx\u001b[38;5;132;01m}\u001b[39;00m\u001b[38;5;124m\"\u001b[39m)\n\u001b[1;32m     10\u001b[0m \u001b[38;5;28;01melse\u001b[39;00m:\n",
      "\u001b[0;31mNameError\u001b[0m: name 'x' is not defined"
     ]
    }
   ],
   "source": [
    "flag = False\n",
    "thing = (100,200) #Try changing 200 to 400, or changing flag to True to see what happens.\n",
    "\n",
    "if thing == (100, 300):\n",
    "    print(\"Case 1\")\n",
    "elif thing == (100,200) and flag:\n",
    "    print(\"Case 2\")\n",
    "elif thing == (100, x):\n",
    "    print(f\"Case 3, y:{x}\")\n",
    "else:\n",
    "    print(\"Case 4, I match anything!\")"
   ]
  },
  {
   "cell_type": "markdown",
   "metadata": {},
   "source": [
    "*If you are curious about more applications and uses for match-case statements, explore the links I have provided above. If you feel as though this lesson can be expanded to include more details, please make an issue or pull request on the github page for [Project PyTHAGORA](https://github.com/s-gerow/SAIL-Plasma).*"
   ]
  },
  {
   "cell_type": "markdown",
   "metadata": {},
   "source": [
    "## List Comprehensions"
   ]
  },
  {
   "cell_type": "markdown",
   "metadata": {},
   "source": []
  },
  {
   "cell_type": "markdown",
   "metadata": {},
   "source": [
    "## Do While"
   ]
  },
  {
   "cell_type": "markdown",
   "metadata": {},
   "source": []
  },
  {
   "cell_type": "markdown",
   "metadata": {},
   "source": [
    "## More Operators\n",
    "\n",
    "In/not in\n",
    "\n",
    "Is/is not\n",
    "\n",
    "Bitwise assignment\n",
    "    =&, ect\n",
    "\n",
    "comparison assignment\n",
    "    x = 10 if a > 4 else 20\n",
    "\n",
    "XOR: exclusive or ^\n",
    "    idk about this one\n",
    "\n",
    "bitwise not\n"
   ]
  },
  {
   "cell_type": "markdown",
   "metadata": {},
   "source": []
  },
  {
   "cell_type": "markdown",
   "metadata": {},
   "source": [
    "## Raises and Exceptions"
   ]
  },
  {
   "cell_type": "markdown",
   "metadata": {},
   "source": []
  },
  {
   "cell_type": "markdown",
   "metadata": {},
   "source": [
    "This lesson currently does not exist while I complete the required materials for this Module. You can move on to [1d-1 Functions](./1d-1%20Functions.ipynb)."
   ]
  },
  {
   "cell_type": "markdown",
   "metadata": {},
   "source": []
  }
 ],
 "metadata": {
  "kernelspec": {
   "display_name": ".venv",
   "language": "python",
   "name": "python3"
  },
  "language_info": {
   "codemirror_mode": {
    "name": "ipython",
    "version": 3
   },
   "file_extension": ".py",
   "mimetype": "text/x-python",
   "name": "python",
   "nbconvert_exporter": "python",
   "pygments_lexer": "ipython3",
   "version": "3.12.4"
  }
 },
 "nbformat": 4,
 "nbformat_minor": 2
}
