{
 "cells": [
  {
   "cell_type": "markdown",
   "metadata": {},
   "source": [
    "*As of Project PyTHAGORA Alpha Release 7/24/2024, this project/lesson is known to be incomplete, early updates should include the creation and testing of this lesson.*"
   ]
  },
  {
   "cell_type": "code",
   "execution_count": null,
   "metadata": {},
   "outputs": [],
   "source": []
  },
  {
   "cell_type": "markdown",
   "metadata": {},
   "source": [
    "This lesson currently does not exist while we complete the required materials for this Module. You can move on to [1d-1 Functions](./1d-1%20Functions.ipynb)."
   ]
  }
 ],
 "metadata": {
  "language_info": {
   "name": "python"
  }
 },
 "nbformat": 4,
 "nbformat_minor": 2
}
