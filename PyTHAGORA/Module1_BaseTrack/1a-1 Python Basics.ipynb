{
 "cells": [
  {
   "cell_type": "markdown",
   "metadata": {},
   "source": [
    "*As of Project PyTHAGORA Alpha Release 7/24/2024, this project/lesson is being tested, changes and adjustments are likely.*\n",
    "\n",
    "*Updated: 9/08/2024*"
   ]
  },
  {
   "cell_type": "markdown",
   "metadata": {
    "id": "vn09Z0BjSBS3"
   },
   "source": [
    "# Python"
   ]
  },
  {
   "cell_type": "markdown",
   "metadata": {
    "id": "XHvLmOWjyoQz"
   },
   "source": [
    "## IDE: Integrated Development Enviornment\n",
    "\n"
   ]
  },
  {
   "cell_type": "markdown",
   "metadata": {
    "id": "eil4kI-sR31p"
   },
   "source": [
    "The pybricks portal and Google Colab are examples of integrated developement enviornments, (IDEs) an IDE is a coding enviornment which combines multiple coding activities into a single application. Within an IDE, you can write and run code and it will usually automatically identify errors that occured from running incorrect code, sometimes directing you to the specific line that contained the error. The more complex the IDE, the more you can do. JupyterLab is an example of a more complex IDE, within it you can switch between multiple programming languages as well as write in multiple different file types (.py or .ipynb), open localized terminals, get documentation help, and configure text files. If you are following this course on Google Classroom then you will make direct use of Pybricks and Google Colaboratory; but, if you downloaded this course from Github you are likely using a different IDE such as JupyterLab or Visual Studio Code.\n"
   ]
  },
  {
   "cell_type": "markdown",
   "metadata": {},
   "source": [
    "I will not delve into the specifics of choosing an IDE here but I will lay out my recommendations. If you are brand new to Python or programming and are not particularly comfortable with your computer, I recommend using the Google Colab IDE that this opens to if you use the Google Classroom version of this course. If you have a bit more experience with computers or programming I recommend the setup that I have currently. You will want to download Microsoft Visual Studio Code, in addition to the latest version of Python. Once you have done that, find the following VSCode extensions to install:\n",
    "\n",
    "* Python -*This is required as it will allow you to write and run Python (.py) files in VSCode*\n",
    "* Jupyter -*this will allow you to run and edit .ipynb (jupyter notebook) files in VSCode*\n",
    "* Jupyter Cell Tags and Jupyter Keymap -*these are not required but contain some quality of life improvements to the IDE for Jupyter Notebooks*\n",
    "* Jupyter Notebook Renderers -*this will allow VSCode to render the output of many Python outputs in a jupyter notebook such as plots, images, etc*\n",
    "\n",
    "With the above extensions you should be ready to work with python and notebook files in VSCode."
   ]
  },
  {
   "cell_type": "markdown",
   "metadata": {
    "id": "2GY3F0DoR5fk"
   },
   "source": [
    "## Errors\n"
   ]
  },
  {
   "cell_type": "markdown",
   "metadata": {
    "id": "iYXx09YYR-ED"
   },
   "source": [
    "I mentioned above that within an IDE you can see errors without needing to compile the code in a separate program, lets see an example of that, run the following code by hitting the little play button on the side of the module. Or by clicking into the code section and hitting Shift+Enter on your keyboard."
   ]
  },
  {
   "cell_type": "code",
   "execution_count": null,
   "metadata": {
    "colab": {
     "base_uri": "https://localhost:8080/",
     "height": 184
    },
    "executionInfo": {
     "elapsed": 205,
     "status": "error",
     "timestamp": 1718813837014,
     "user": {
      "displayName": "Seth G",
      "userId": "15300733208633403854"
     },
     "user_tz": 240
    },
    "id": "GkwVWaspynNM",
    "outputId": "35d2b213-ba4b-4896-b3ca-ee3309d91b7f"
   },
   "outputs": [],
   "source": [
    "message = helloworld\n",
    "\n",
    "print(message)"
   ]
  },
  {
   "cell_type": "markdown",
   "metadata": {
    "id": "g_NL-_CH1aNd"
   },
   "source": [
    "Let's break down the error message that appeared.\n",
    "\n"
   ]
  },
  {
   "cell_type": "markdown",
   "metadata": {
    "id": "ZwAgpp2tSiC7"
   },
   "source": [
    "### NameError\n",
    "The first part of the error message displays what type of error you are receiving, it is not important to know all of these (there are a lot), but it is helpful to look them up if you are not sure what they mean as they can tell you a lot about what went wrong in your code. In this case, NameError means that Python does not recognize a name in the code it was trying to execute."
   ]
  },
  {
   "cell_type": "markdown",
   "metadata": {
    "id": "r_dFTTyVSmaP"
   },
   "source": [
    "### Traceback (most recent call last)\n",
    "This part is simply explaining what you are seeing, a traceback is a list of all the lines of code that Python just ran, the parenthesis are explaining how to read the programs in the order they were ran, with the most recent one at the bottom. This looks just like how you input code.\n"
   ]
  },
  {
   "cell_type": "markdown",
   "metadata": {
    "id": "vrCzTzOwSoVP"
   },
   "source": [
    "### Error Location\n",
    "The next line shows where the error was found, in this cass in the first line. There will also likely be an arrow pointing to the error."
   ]
  },
  {
   "cell_type": "markdown",
   "metadata": {},
   "source": [
    "### Reading and Fixing an Error\n",
    "Error codes exist to give you an idea of what went wrong and where it might have been but they are fairly limited in scope, particularly as your code gets more complicated with multiple nested function calls and modules. Being able to read an error code and get started in the right direction for fixing the error is an important part of programming. \n",
    "\n",
    "In this case, our error code is telling us that ```name 'helloworld' is not defined```. This is at first misleading because helloworld is not a variable, its the message we want to send. Of course, Python does not know that, which is why there is an error; Python thinks that we have created a variable ```message``` and it has the same value as some other variable ```helloworld```. We can fix this error by placing double (\"\") or single ('') quotes around the word helloworld. Let's add a space between the two words while were at it too."
   ]
  },
  {
   "cell_type": "code",
   "execution_count": null,
   "metadata": {},
   "outputs": [],
   "source": [
    "message = 'hello world'\n",
    "\n",
    "print(message)"
   ]
  },
  {
   "cell_type": "markdown",
   "metadata": {
    "id": "jFP8hv-E6BXB"
   },
   "source": [
    "## Coding Basics\n",
    "With that little IDE and debugging lesson completed we can move on to some basic Python rules. Do not worry, we wil go over more complicated errors and how to avoid them or fix them later but you would never actually get to program anything if you tried to learn how to debug every error first.\n",
    "\n"
   ]
  },
  {
   "cell_type": "markdown",
   "metadata": {},
   "source": [
    "### The `print()` Function"
   ]
  },
  {
   "cell_type": "markdown",
   "metadata": {},
   "source": [
    "The print function might be the most used function in Python ever, or at the very least, my most used function in Python. The print functon takes an input and prints it to the terminal. "
   ]
  },
  {
   "cell_type": "markdown",
   "metadata": {},
   "source": [
    "**The Terminal** \n",
    "\n",
    "*The terminal is a text-based communication interface between you and your computer. On Windows (10 or 11) you can open the terminal by hitting the windows key or opening your start menu and typing \"cmd\". On Mac (macos Sonoma) you would do so by opening your Launchpad and typing \"Terminal\".*\n",
    "\n",
    "*To run a Python script that ends in .py you can either run from an interactive envionrment like JupyterLab or VScode or you can type python (sometimes python 3, this depends on the version of python and your system) followed by the name of the file into your terminal.*\n",
    "\n",
    "*If your program includes a print function in it, then the contents of the print function will be shown in the next line of the terminal.*\n",
    "\n",
    "*(The example below and other markdown examples throughout this course mimic the appearance of the Python Interactive Console in the terminal on mac, this can be accessed by typing just python3 in your terminal. Doing the same in the windows cmd will result in a similar looking output, though some small things will be different.)*\n",
    "```\n",
    "program.py\n",
    ">>>print(\"hello world\")\n",
    "```\n",
    "\n",
    "```\n",
    "user%mac-device ~ % python program.py\n",
    "hello world\n",
    "```\n",
    "\n",
    "*In these notebooks, when you click run (or hit shift+enter on your keyboard), terminal outputs like `print()` will appear below the code box.*\n"
   ]
  },
  {
   "cell_type": "markdown",
   "metadata": {},
   "source": [
    "The print function can take any input, let's go through variables and data types and take a look at their printed outputs.\n",
    "\n"
   ]
  },
  {
   "cell_type": "markdown",
   "metadata": {
    "id": "y2Ay2lbnS8xx"
   },
   "source": [
    "### Variables\n"
   ]
  },
  {
   "cell_type": "markdown",
   "metadata": {
    "id": "KPKIzBjjTAlD"
   },
   "source": [
    "A variable in Python is just like a variable in math, it is a symbol, or name, or letter that represents a value. In the above example we had a variable called ```message```, it could have easily been called ```word```,```str```,```x```,```4```, or ```variable_789``` but many of these possibilites are not useful for you or people reading your code in the future.\n",
    "\n",
    "When you initialize a variable, or when you type it for the first time, you write the name of the variable followed by an equals sign followed by the value you want that variable to represent. It is generally recomended that you name the variable according to what type of information it will be storing and use snake case. Snake case is a descriptive variable case where all words are written fully in lowercase and spaces are replaced by underscores (e.g., ```variable_name_here```). \n",
    "When Python runs the program and gets to the line with a variable in it, it associates the value on the right of the equal sign to that name. Then, when it sees that exact name again it knows that the name represents the value it was given before. Because of the nature of computer programming, variables are case sensitive, 'x' is a different variable than 'X' which is important to remember when you are naming or calling variables.\n",
    "\n"
   ]
  },
  {
   "cell_type": "markdown",
   "metadata": {
    "id": "-svpLDfGTCKC"
   },
   "source": [
    "#### Data Types\n",
    "\n"
   ]
  },
  {
   "cell_type": "markdown",
   "metadata": {
    "id": "2TAs-iuHTEpr"
   },
   "source": [
    "Python can work with a wide array of information and it is important to understand all of those types of information so you can use it properly and efficiently. Below we will go over a few of the simpler data-types you will encounter.\n",
    "\n"
   ]
  },
  {
   "cell_type": "markdown",
   "metadata": {
    "id": "K0In6AJFTGbw"
   },
   "source": [
    "##### Strings\n",
    "\n"
   ]
  },
  {
   "cell_type": "markdown",
   "metadata": {
    "id": "69ibkXUsTHm_"
   },
   "source": [
    "Even though there are many unique and interesting things you can do with a string, it is still probably the easiest data type in python. You have seen a string before, it is a collection of characters bracketed by either single or double quotation marks."
   ]
  },
  {
   "cell_type": "code",
   "execution_count": null,
   "metadata": {
    "colab": {
     "base_uri": "https://localhost:8080/"
    },
    "executionInfo": {
     "elapsed": 237,
     "status": "ok",
     "timestamp": 1707838711380,
     "user": {
      "displayName": "Seth G",
      "userId": "15300733208633403854"
     },
     "user_tz": 300
    },
    "id": "s8C3Evvw34L9",
    "outputId": "e9ffa495-9495-4151-f4bc-1408e1fb7462"
   },
   "outputs": [],
   "source": [
    "print('This is a string\\n') \n",
    "print(\"and this\")"
   ]
  },
  {
   "cell_type": "markdown",
   "metadata": {
    "id": "1FBcTMsZHCyV"
   },
   "source": [
    "There are dozens of methods that you can do to a string but we will not cover them all at once and will instead come back to them as we need them. Let's go over a few of the simpler ones.\n"
   ]
  },
  {
   "cell_type": "markdown",
   "metadata": {},
   "source": [
    "**LineBreak (\\n)** *The `\"\\n\"` in the line above represents a line break. When Python is printing a string and sees the \\n, it knows to stop printing on the current line and skip to the next one before continuing to print.*"
   ]
  },
  {
   "cell_type": "markdown",
   "metadata": {
    "id": "q_0smSCCTxCG"
   },
   "source": [
    "**Adding Strings**"
   ]
  },
  {
   "cell_type": "code",
   "execution_count": null,
   "metadata": {
    "colab": {
     "base_uri": "https://localhost:8080/"
    },
    "executionInfo": {
     "elapsed": 4,
     "status": "ok",
     "timestamp": 1715705997733,
     "user": {
      "displayName": "Seth G",
      "userId": "15300733208633403854"
     },
     "user_tz": 240
    },
    "id": "jLvnRixPICrw",
    "outputId": "b322cd12-06a4-47d2-f65d-3b5ccafa08f4"
   },
   "outputs": [],
   "source": [
    "first_name = 'Monty'\n",
    "last_name = 'Python'\n",
    "\n",
    "print(\"Hello my name is\" + first_name + \" \" + last_name)"
   ]
  },
  {
   "cell_type": "markdown",
   "metadata": {
    "id": "lW8VDqamIYdG"
   },
   "source": [
    "If you run the above code you may see something off. In between 'is' and 'Monty' there should be a space. Notice that in the first string provided to the print function it ends immediately after 'is' and in the first_name variable the string starts right at 'Monty'. When adding strings it is important to remember that Python will only work with the characters it is given, so you will have to provide all information to make a string look right to people. That includes spaces. That brings us to another important aspect of strings.\n",
    "\n",
    "Strings are made up of characters, this makes them sort of like a list (we will get to lists later). An important aspect of strings, and lists, is their length as it can be used to run a function over a number of different inputs. For example:"
   ]
  },
  {
   "cell_type": "code",
   "execution_count": null,
   "metadata": {
    "colab": {
     "base_uri": "https://localhost:8080/"
    },
    "executionInfo": {
     "elapsed": 3,
     "status": "ok",
     "timestamp": 1715706041586,
     "user": {
      "displayName": "Seth G",
      "userId": "15300733208633403854"
     },
     "user_tz": 240
    },
    "id": "agKiTvTwITk1",
    "outputId": "39a807f6-907f-4efe-c597-57fdb0e62c82"
   },
   "outputs": [],
   "source": [
    "length = len(last_name)\n",
    "print(type(last_name))\n",
    "print(type(length))\n",
    "for i in range(0, length):\n",
    "  print(last_name[i])"
   ]
  },
  {
   "cell_type": "markdown",
   "metadata": {
    "id": "DlY5rhtvL5pS"
   },
   "source": [
    "Lots of things to cover there but we will get to iterations and loops later as this is not a very efficient way to use them. For now, look at the type classes that were printed before the 'python' column.\n",
    "\n",
    "```last_name``` is a string object as revealed by the ```type()``` function and the variable created using the ```len()``` function is an integer object. The ```type()``` function will return a 3 letter string which represents the data type that was passed into the function. The ```len()``` function will return an integer number which represents the number of items in a list passed into the function. In this case it passed the number of characters contained in the word 'Python'.\n",
    "Next, look at the print function contained in the for loop. Notice it says ```last_name[i]```. In this case it is telling Python to look at the i-th character of the string ```last_name```. Take a look at this next example:"
   ]
  },
  {
   "cell_type": "code",
   "execution_count": null,
   "metadata": {
    "colab": {
     "base_uri": "https://localhost:8080/"
    },
    "executionInfo": {
     "elapsed": 119,
     "status": "ok",
     "timestamp": 1707847069250,
     "user": {
      "displayName": "Seth G",
      "userId": "15300733208633403854"
     },
     "user_tz": 300
    },
    "id": "l9pVO4NwmJAx",
    "outputId": "8805e006-4126-411e-e3cc-aaa48eef049a"
   },
   "outputs": [],
   "source": [
    "string = 'this is a long string'\n",
    "print(\"0: \" + string[0])\n",
    "print(\"4: \" + string[4])"
   ]
  },
  {
   "cell_type": "markdown",
   "metadata": {
    "id": "2N7Mdz-6mIB0"
   },
   "source": [
    "Notice that the 0th character in the string is 't', this is an important thing to note about Python: containers with multiple items in them all start counting at zero. So the first item is in the 0th poisition, the second in the 1st, and so on and so forth. Notice also that the item in the 4th spot (5th character) is a space, so it looks empty. This is because spaces are considered a character and therefore have their own spot in the container.\n",
    "\n",
    "\n",
    "\n",
    "\n"
   ]
  },
  {
   "cell_type": "markdown",
   "metadata": {
    "id": "fDMZr7jAU38d"
   },
   "source": [
    "#### Numbers: Integers and Floats\n"
   ]
  },
  {
   "cell_type": "markdown",
   "metadata": {
    "id": "HscW2RyiU8Eu"
   },
   "source": [
    "Numbers are the most common type of data you will work with. There are two different data types that a number could be: integers and floats. An integer type is used for basic number storage, it will only store whole number digits. A float type number means that there is a decimal somewhere in the value. How they work largely doesn't impact the operations that you will be performing on them so it is mostly just important to know what operations you can perform on a a number, both integer and float."
   ]
  },
  {
   "cell_type": "markdown",
   "metadata": {
    "id": "dQW7qlUHJMbB"
   },
   "source": [
    "_**Operators**\n",
    "The symbols used to do math operations on a number are called operators. There are other operators we will go over in later chapters but the basics are: + for addition, - for subtraction, * for multiplication, / for division, ** for exponentiation, and % for division but returning the remainder (this is caled the modelo)._"
   ]
  },
  {
   "cell_type": "code",
   "execution_count": null,
   "metadata": {
    "colab": {
     "base_uri": "https://localhost:8080/"
    },
    "executionInfo": {
     "elapsed": 3,
     "status": "ok",
     "timestamp": 1708283289999,
     "user": {
      "displayName": "Seth G",
      "userId": "15300733208633403854"
     },
     "user_tz": 300
    },
    "id": "r4FMlGDyl87f",
    "outputId": "f0903899-71cc-4237-ece7-17a591bb6a60"
   },
   "outputs": [],
   "source": [
    "# Here are several different examples of operations that can be performed on integers\n",
    "\n",
    "# Adding integers\n",
    "x = 10\n",
    "y = 5\n",
    "z = x + y\n",
    "print(z)\n",
    "\n",
    "# Subtracting integers\n",
    "x = 10\n",
    "y = 5\n",
    "z = x - y\n",
    "print(z)\n",
    "\n",
    "# Multiplying integers\n",
    "x = 10\n",
    "y = 5\n",
    "z = x * y\n",
    "print(z)\n",
    "\n",
    "# Dividing integers (returns a float)\n",
    "x = 10\n",
    "y = 5\n",
    "z = x / y\n",
    "print(z)\n",
    "\n",
    "# Exponentiation\n",
    "x = 10\n",
    "y = 2\n",
    "z = x ** y\n",
    "print(z)\n",
    "\n",
    "# Modulo (returns the remainder)\n",
    "x = 10\n",
    "y = 3\n",
    "z = x % y\n",
    "print(z)\n"
   ]
  },
  {
   "cell_type": "code",
   "execution_count": null,
   "metadata": {
    "colab": {
     "base_uri": "https://localhost:8080/"
    },
    "executionInfo": {
     "elapsed": 237,
     "status": "ok",
     "timestamp": 1708283331609,
     "user": {
      "displayName": "Seth G",
      "userId": "15300733208633403854"
     },
     "user_tz": 300
    },
    "id": "pP0OXaD4nkiX",
    "outputId": "e4fa4d6e-f743-4412-c96f-231e6be01ba6"
   },
   "outputs": [],
   "source": [
    "#Floats are very similar to integers, here are some examples of operations on float variables.\n",
    "\n",
    "# Adding floats\n",
    "x = 10.0\n",
    "y = 5.5\n",
    "z = x + y\n",
    "print(z)\n",
    "\n",
    "# Subtracting floats\n",
    "x = 10.0\n",
    "y = 5.5\n",
    "z = x - y\n",
    "print(z)\n",
    "\n",
    "# Multiplying floats\n",
    "x = 10.0\n",
    "y = 5.5\n",
    "z = x * y\n",
    "print(z)\n",
    "\n",
    "# Dividing floats\n",
    "x = 10.0\n",
    "y = 5.5\n",
    "z = x / y\n",
    "print(z)\n",
    "\n",
    "# Exponentiation (raises x to the power of y)\n",
    "x = 10.0\n",
    "y = 2.0\n",
    "z = x ** y\n",
    "print(z)\n",
    "\n",
    "# Modulo (returns the remainder when x is divided by y)\n",
    "x = 10.0\n",
    "y = 3.0\n",
    "z = x % y\n",
    "print(z)\n"
   ]
  },
  {
   "cell_type": "markdown",
   "metadata": {
    "id": "kfkNA-bOn8ZJ"
   },
   "source": [
    "Take a look specifically at the 4th example. Notice when dividing two integers it created a float. Generally, python will attempt to generate as exact of an answer as possible which is why it created a floating point number when dividing, if it was forced to round to the nearest integer there would be a high amount of introduced error. This goal of producing the most accurate answer is why the fourth float example produces such a long answer.\n",
    "That being said, floats can only be precise up to their allowed storage. In basic python, floats are 64 bit double precision, which allows quite a lot of numbers after the decimal place. However, if you need, you can use the Numpy or decimal libraries to increase or decrease the bit-size of your floats. Or, more likely than not, you can shorten your floats to more realistic and usable numbers with the following functions."
   ]
  },
  {
   "cell_type": "code",
   "execution_count": 1,
   "metadata": {
    "colab": {
     "base_uri": "https://localhost:8080/"
    },
    "executionInfo": {
     "elapsed": 3,
     "status": "ok",
     "timestamp": 1708284102769,
     "user": {
      "displayName": "Seth G",
      "userId": "15300733208633403854"
     },
     "user_tz": 300
    },
    "id": "4v6ejwZ7nwCy",
    "outputId": "f74f03a6-1719-4b00-fe13-74d2a03f4708"
   },
   "outputs": [
    {
     "name": "stdout",
     "output_type": "stream",
     "text": [
      "11\n",
      "10.69\n",
      "10\n",
      "11\n"
     ]
    }
   ],
   "source": [
    "#Here are the ways to shorten a float\n",
    "#Rounding using round() can be done natively in python\n",
    "\n",
    "# Rounding a float\n",
    "x = 10.68974\n",
    "y = round(x)\n",
    "print(y)\n",
    "\n",
    "# Rounding a float to a specified number of decimal places\n",
    "x = 10.68974\n",
    "y = round(x, 2)\n",
    "print(y)\n",
    "\n",
    "#but to use floor or ceil you need to import the math library\n",
    "import math\n",
    "# Flooring a float (rounding down to the nearest whole number)\n",
    "x = 10.68974\n",
    "y = math.floor(x)\n",
    "print(y)\n",
    "\n",
    "# Ceilling a float (rounding up to the nearest whole number)\n",
    "x = 10.68974\n",
    "y = math.ceil(x)\n",
    "print(y)\n"
   ]
  },
  {
   "cell_type": "markdown",
   "metadata": {},
   "source": [
    "**Print Function Review**\n",
    "\n",
    "After having looked at these several data-types here is a review of how the `print()` function interacts with them.\n",
    "\n",
    "**Integers**\n",
    "If an integer quality, variable representing an integer quantity, or an expression or function which results in an integer quality is passed into a `print()` function, the output in the terminal will look like a number with no decimal places.\n",
    "\n",
    "```\n",
    ">>>x=2\n",
    ">>>y=3\n",
    ">>>print(4)\n",
    "4\n",
    ">>>print(x)\n",
    "2\n",
    ">>>print(x+y)\n",
    "5\n",
    "```\n",
    "\n",
    "**Floats**\n",
    "Just like an integer; if a float is passed into the `print()` function, the terminal output will be a number including a decimal.\n",
    "\n",
    "```\n",
    ">>>x=4.5\n",
    ">>>print(x)\n",
    "4.5\n",
    ">>>print(x/3)\n",
    "1.5\n",
    ">>>print(float(1))\n",
    "1.0\n",
    "```\n",
    "\n",
    "**Strings**\n",
    "Any string value: a variable representing a string (either with '' or \"\"), a function which returns a string, or any combination of characters contained within '' or \"\"; which is passed into a `print()` function will show the text from the string without the quotes in the terminal.\n",
    "\n",
    "```\n",
    ">>>print('hello world')\n",
    "hello world\n",
    ">>>print(type(1))\n",
    "int\n",
    "```\n",
    "\n",
    "**Functions**\n",
    "An important reminder when printing outputs of functions (and methods) is that you need to close the parenthesis in order to signify that you want the function output and not the function itself. The below example will include concepts we will learn later but do not be scared, it is only to show the difference between printing a function and the output of a function.\n",
    "\n",
    "\n",
    "```\n",
    ">>>def hello():\n",
    "...     return 'hello world'\n",
    "...\n",
    ">>>print(hello)\n",
    "<function hello at 0x104acdd00>\n",
    ">>>print(hello())\n",
    "hello world\n",
    "```"
   ]
  },
  {
   "cell_type": "markdown",
   "metadata": {
    "id": "VhWuqmRNqvoF"
   },
   "source": [
    "From here, move on to [1a-2 Project 0](./1a-2%20Project%200-1%20First%20Project.ipynb), the first mini-project of this course. It will give you an overview of the structure of larger projects as well as let you get a feel for working with variables."
   ]
  }
 ],
 "metadata": {
  "colab": {
   "authorship_tag": "ABX9TyM28c4ZH6GW7Cxo2OTWh1d6",
   "collapsed_sections": [
    "XHvLmOWjyoQz",
    "2GY3F0DoR5fk"
   ],
   "provenance": []
  },
  "kernelspec": {
   "display_name": ".venv",
   "language": "python",
   "name": "python3"
  },
  "language_info": {
   "codemirror_mode": {
    "name": "ipython",
    "version": 3
   },
   "file_extension": ".py",
   "mimetype": "text/x-python",
   "name": "python",
   "nbconvert_exporter": "python",
   "pygments_lexer": "ipython3",
   "version": "3.13.1"
  }
 },
 "nbformat": 4,
 "nbformat_minor": 0
}
