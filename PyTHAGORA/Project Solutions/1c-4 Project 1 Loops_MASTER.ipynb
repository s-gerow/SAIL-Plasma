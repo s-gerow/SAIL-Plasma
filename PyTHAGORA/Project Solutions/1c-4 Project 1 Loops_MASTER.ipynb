{
 "cells": [
  {
   "cell_type": "markdown",
   "metadata": {},
   "source": [
    "*As of Project PyTHAGORA Alpha Release 7/24/2024, this project/lesson is being tested, changes and adjustments are likely.*\n",
    "\n",
    "*Updated 8/14/2024*"
   ]
  },
  {
   "cell_type": "markdown",
   "metadata": {},
   "source": [
    "# Set Up"
   ]
  },
  {
   "cell_type": "markdown",
   "metadata": {},
   "source": [
    "This project will not need any additional packages aside from `math`."
   ]
  },
  {
   "cell_type": "code",
   "execution_count": null,
   "metadata": {},
   "outputs": [],
   "source": [
    "import math"
   ]
  },
  {
   "cell_type": "markdown",
   "metadata": {},
   "source": [
    "# Loops Project"
   ]
  },
  {
   "cell_type": "markdown",
   "metadata": {},
   "source": [
    "This project will be broken into several small parts, each testing you on different aspects of lessons 1b-1 through 1c-3. The final part will make use of almost everything you learned up to now."
   ]
  },
  {
   "cell_type": "markdown",
   "metadata": {},
   "source": [
    "## **(P1)**  \n",
    "This part will test your ability to create lists, tuples, and dictionaries; use for loops; and take user input."
   ]
  },
  {
   "cell_type": "markdown",
   "metadata": {},
   "source": [
    "#### **(P1.1)**\n",
    "Use the following tuple of 5 fruits to print that as a bulleted list, with each item on a new line following an asterisk.\n",
    "\n",
    "```\n",
    "fruits = ('apples', 'oranges', 'peaches', 'pears', 'mangos')\n",
    "```"
   ]
  },
  {
   "cell_type": "markdown",
   "metadata": {},
   "source": [
    "**P1.1 Solution**"
   ]
  },
  {
   "cell_type": "code",
   "execution_count": null,
   "metadata": {},
   "outputs": [],
   "source": [
    "fruits = ('apples', 'oranges', 'peaches', 'pears', 'mangos')\n",
    "\n",
    "for fruit in fruits:\n",
    "    print(\"*\", fruit)"
   ]
  },
  {
   "cell_type": "markdown",
   "metadata": {},
   "source": [
    ">`fruits` is a tuple made up of 5 string objects. On each iteration of the for loop, a new fruit is assigned to the 'dummy variable' `fruit`. That dummy variable is then passed into a print function which prints an * followed by the string object."
   ]
  },
  {
   "cell_type": "markdown",
   "metadata": {},
   "source": [
    "#### **(P1.2)**\n",
    "Create a list from that tuple, called `more_fruits`, and append 3 additional fruits to the list. Print this list."
   ]
  },
  {
   "cell_type": "markdown",
   "metadata": {},
   "source": [
    "**P1.2 Solution**"
   ]
  },
  {
   "cell_type": "code",
   "execution_count": null,
   "metadata": {},
   "outputs": [],
   "source": [
    "more_fruits = list(fruits)\n",
    "for fruit in ['strawberries', 'raspberries', 'kiwis']:\n",
    "    more_fruits.append(fruit)\n",
    "print(more_fruits)"
   ]
  },
  {
   "cell_type": "markdown",
   "metadata": {},
   "source": [
    ">A list can be created from another iterable object, such as a string, tuple, or set, by passing the object into the `list()` constuctor.   \n",
    ">Once we have a list, a for loop can be used to append 3 new values to the list. Alternatively you could have written 3 lines of code, each appending its own new string.   \n",
    ">```\n",
    ">more_fruits.append('strawberries')\n",
    ">more_fruits.append('kiwis')\n",
    ">more_fruits.append('raspberries')\n",
    ">```"
   ]
  },
  {
   "cell_type": "markdown",
   "metadata": {},
   "source": [
    "#### **(P1.3)** \n",
    "Iterate through the list of fruits you created, asking the user where they would rank each fruit. Store the rank and fruit as a key-value pair in a dicitonary."
   ]
  },
  {
   "cell_type": "markdown",
   "metadata": {},
   "source": [
    "**P1.3 Solution**"
   ]
  },
  {
   "cell_type": "code",
   "execution_count": null,
   "metadata": {},
   "outputs": [],
   "source": [
    "fruit_rankings = {}\n",
    "for fruit in more_fruits:\n",
    "    rank = input(f\"From 1 to {len(more_fruits)}, how would you rank {fruit}?\")\n",
    "    fruit_rankings.__setitem__(rank, fruit)"
   ]
  },
  {
   "cell_type": "markdown",
   "metadata": {},
   "source": [
    ">An empty dictionary can be created by either initilizing a new variable name with empty curly brackets as shown, or by using an empy `dict()` constructor.   \n",
    ">Again, a for loop can be used to iterate over all fruits in the `more_fruits` list.   \n",
    ">Within the for loop, the `input()` function can be used to ask the user where they would rank the current fruit. This rank and fruit can then be added to the empy dictionary using `dict.__setitem__()`"
   ]
  },
  {
   "cell_type": "markdown",
   "metadata": {},
   "source": [
    "#### **(P1.4)**\n",
    " Print the fruit rankings in order."
   ]
  },
  {
   "cell_type": "markdown",
   "metadata": {},
   "source": [
    "**P1.4 Solution**"
   ]
  },
  {
   "cell_type": "code",
   "execution_count": null,
   "metadata": {},
   "outputs": [],
   "source": [
    "for rank in range(1,len(fruit_rankings)+1):\n",
    "    print(rank, fruit_rankings[str(rank)])"
   ]
  },
  {
   "cell_type": "markdown",
   "metadata": {},
   "source": [
    ">To order the fruit by rank you will need to find the fruit corresponding to each place before printing it. Because dictionaries do not have a sorted option, this will need to be done manually.   \n",
    ">First, create a for loop which iterates over the available ranks 1-8. It is important to not use range(8) because that will iterate through 0-7.   \n",
    ">Next, you can print the fruit at that rank by passing the rank as a string to index the key associated with it.   \n",
    ">```\n",
    ">fruit_rankings[str(1)]\n",
    ">```\n",
    ">The above code would return the fruit-value associated with the key '1'.   \n",
    ">By doing this in a for loop you can print the fruits in order."
   ]
  },
  {
   "cell_type": "markdown",
   "metadata": {},
   "source": [
    "## **(P2)** \n",
    "\n",
    "This part of the project will test your understanding of datatypes, infinite loops, break statements, and conditional arguments. You will build a user-input based calculator which can add, subtract, multiple, and divide numbers."
   ]
  },
  {
   "cell_type": "markdown",
   "metadata": {},
   "source": [
    "#### **(P2.1)**\n",
    " Create an infinite loop which asks the user for a number input and then prints it. Create an escape clause bound to a specific key."
   ]
  },
  {
   "cell_type": "markdown",
   "metadata": {},
   "source": [
    "**P2.1 Solution**"
   ]
  },
  {
   "cell_type": "code",
   "execution_count": null,
   "metadata": {},
   "outputs": [],
   "source": [
    "while True:\n",
    "    x = input(\"Enter a number, press q to exit\")\n",
    "    if x == \"q\":\n",
    "        break\n",
    "    else:\n",
    "        print(x)"
   ]
  },
  {
   "cell_type": "markdown",
   "metadata": {},
   "source": [
    ">An infinite loop can be created with a `while True:` loop. A while loop will continue to loop as long as the passed expression is True. Because True is always True, the while loop will loop forever.   \n",
    ">We can ask for user input with the `input()` function and assign that value to a variable.   \n",
    ">A break condition can be created by checking if the input variable is equal to some string, in this case \"q\" and breaking the loop with `break`"
   ]
  },
  {
   "cell_type": "markdown",
   "metadata": {},
   "source": [
    "#### **(P2.2)**\n",
    " To create a calculator you will need to remember previous inputs, adjust your previous loop such that instead of printing only what the user inputs, it prints the entire history of inputs"
   ]
  },
  {
   "cell_type": "markdown",
   "metadata": {},
   "source": [
    "**P2.2 Solution**"
   ]
  },
  {
   "cell_type": "code",
   "execution_count": null,
   "metadata": {},
   "outputs": [],
   "source": [
    "history = []\n",
    "while True:\n",
    "    history.append(input(\"Enter a number, press q to exit\"))\n",
    "    if history[-1] == \"q\":\n",
    "        break\n",
    "    else:\n",
    "        print(history)"
   ]
  },
  {
   "cell_type": "markdown",
   "metadata": {},
   "source": [
    ">We can remember all values by creating an empty list at the beginning of our code and appending values to that list throughout the execution, then when the list is printed it will print all inputs up to that point."
   ]
  },
  {
   "cell_type": "markdown",
   "metadata": {},
   "source": [
    "#### **(P2.3)** \n",
    "At this point you now need a way to identify operations, add clauses to identify +,-,*, and / symbols."
   ]
  },
  {
   "cell_type": "markdown",
   "metadata": {},
   "source": [
    "**P2.3 Solution**"
   ]
  },
  {
   "cell_type": "code",
   "execution_count": null,
   "metadata": {},
   "outputs": [],
   "source": [
    "history = []\n",
    "while True:\n",
    "    history.append(input(\"Enter a number, press q to exit\"))\n",
    "    if history[-1] == \"q\":\n",
    "        break\n",
    "    elif history[-1] ==\"+\":\n",
    "        print(\"addition\")\n",
    "    elif history[-1] ==\"-\":\n",
    "        print(\"subtraction\")\n",
    "    elif history[-1] ==\"*\":\n",
    "        print(\"multiplication\")\n",
    "    elif history[-1] ==\"/\":\n",
    "        print(\"division\")\n",
    "    else:\n",
    "        print(history)"
   ]
  },
  {
   "cell_type": "markdown",
   "metadata": {},
   "source": [
    ">We can check if the input was an operator the same way we checked for the escape key. Because you cannot quit, add. multiply, divide, and subtract at the same time, we can use if-elif-else statements"
   ]
  },
  {
   "cell_type": "markdown",
   "metadata": {},
   "source": [
    "#### **(P2.4)**\n",
    " Now that you can identify operators, you will need to parse them out of strings. Write a different loop which reads a string and splits it into multiple strings: a string of numbers before an operator, a string after, and a string containing the operator."
   ]
  },
  {
   "cell_type": "markdown",
   "metadata": {},
   "source": [
    "**P2.4 Solution**"
   ]
  },
  {
   "cell_type": "code",
   "execution_count": null,
   "metadata": {},
   "outputs": [],
   "source": [
    "string = input(\"enter a simple equation\")\n",
    "for i,char in enumerate(string):\n",
    "    if char == \"q\":\n",
    "        break\n",
    "    elif char == \"+\":\n",
    "        x1 = string[:i]\n",
    "        operator = string[i]\n",
    "        x2 = string[i+1:]\n",
    "    elif char == \"-\":\n",
    "        x1 = string[:i]\n",
    "        operator = string[i]\n",
    "        x2 = string[i+1:]\n",
    "    elif char == \"*\":\n",
    "        x1 = string[:i]\n",
    "        operator = string[i]\n",
    "        x2 = string[i+1:]\n",
    "    elif char == \"-\":\n",
    "        x1 = string[:i]\n",
    "        operator = string[i]\n",
    "        x2 = string[i+1:]\n"
   ]
  },
  {
   "cell_type": "markdown",
   "metadata": {},
   "source": [
    ">To separate the input string into multiple smaller strings we need the index location of the parts of the string we want to be separate. To find both a specific character and its place we can use the `enumerate()` function. Using `enumerate()` we can loop through the input string and create if statements that check for operator characters: +, -,*, and /. Once we have found an operator we can use the index from the enumerate output and slice the string at that location.   \n",
    ">The operator is easy, just the character at that index: `[i]`   \n",
    ">The string in front of the operator is also fairly easy, it is every item from zero until before that index: `[:i]`   \n",
    ">The string at the end is only slightly more complicated because it is every character from right after that index until the end: `[i+1:]`"
   ]
  },
  {
   "cell_type": "markdown",
   "metadata": {},
   "source": [
    "#### **(P2.5)**\n",
    " Integrate the loop from P2.4 into the loop from P2.3 so that the 'calculator' can accept strings of numbers and appends the string of numbers and operator into the history."
   ]
  },
  {
   "cell_type": "markdown",
   "metadata": {},
   "source": [
    "**P2.5 Solution**"
   ]
  },
  {
   "cell_type": "code",
   "execution_count": null,
   "metadata": {},
   "outputs": [],
   "source": [
    "history = []\n",
    "while True:\n",
    "    last = input(\"Enter an equation, press q to exit\")\n",
    "    for i,char in enumerate(last):\n",
    "        if char == \"q\":\n",
    "            history.append(char)\n",
    "        elif char == \"+\":\n",
    "            x1 = last[:i]\n",
    "            operator = last[i]\n",
    "            x2 = last[i+1:]\n",
    "            print(x1,operator,x2)\n",
    "            history.append(last)\n",
    "        elif char == \"-\":\n",
    "            x1 = last[:i]\n",
    "            operator = last[i]\n",
    "            x2 = last[i+1:]\n",
    "            history.append(last)\n",
    "        elif char == \"*\":\n",
    "            x1 = last[:i]\n",
    "            operator = last[i]\n",
    "            x2 = last[i+1:]\n",
    "            history.append(last)\n",
    "        elif char == \"-\":\n",
    "            x1 = last[:i]0\n",
    "            operator = last[i]\n",
    "            x2 = last[i+1:]\n",
    "            history.append(last)\n",
    "    if history[-1] == \"q\":\n",
    "        print(history)\n",
    "        break"
   ]
  },
  {
   "cell_type": "markdown",
   "metadata": {},
   "source": [
    "> Integrating the loop from P2.4 is fairly easy. We can wrap the entire solution from P2.4 in a `while True:` loop and then just add in our history variable outside of that as well as a quick clause to print the history."
   ]
  },
  {
   "cell_type": "markdown",
   "metadata": {},
   "source": [
    "\n",
    "#### **(P2.6)**\n",
    " For each operator case, perform the desired operator on the two numbers before and after the operator, then append the result to the history."
   ]
  },
  {
   "cell_type": "markdown",
   "metadata": {},
   "source": [
    "**P2.6 Solution**"
   ]
  },
  {
   "cell_type": "code",
   "execution_count": null,
   "metadata": {},
   "outputs": [],
   "source": [
    "history = []\n",
    "while True:\n",
    "    last = input(\"Enter an equation, press q to exit\")\n",
    "    for i,char in enumerate(last):\n",
    "        if char == \"q\":\n",
    "            history.append(char)\n",
    "        elif char == \"+\":\n",
    "            x1 = int(last[:i])\n",
    "            operator = last[i]\n",
    "            x2 = int(last[i+1:])\n",
    "            result = x1+x2\n",
    "            history.append(last)\n",
    "            history.append(result)\n",
    "        elif char == \"-\":\n",
    "            x1 = int(last[:i])\n",
    "            operator = last[i]\n",
    "            x2 = int(last[i+1:])\n",
    "            result = x1-x2\n",
    "            history.append(last)\n",
    "            history.append(result)\n",
    "        elif char == \"*\":\n",
    "            x1 = int(last[:i])\n",
    "            operator = last[i]\n",
    "            x2 = int(last[i+1:])\n",
    "            result = x1*x2\n",
    "            history.append(last)\n",
    "            history.append(result)\n",
    "        elif char == \"/\":\n",
    "            x1 = int(last[:i])\n",
    "            operator = last[i]\n",
    "            x2 = int(last[i+1:])\n",
    "            result = x1/x2\n",
    "            history.append(last)\n",
    "            history.append(result)\n",
    "    if history[-1] == \"q\":\n",
    "        print(history)\n",
    "        break"
   ]
  },
  {
   "cell_type": "markdown",
   "metadata": {},
   "source": [
    ">To perform the desired operation we only need to add two lines to each clause. A line to calculate the result, and a line to append that result to the history. We also will need to make sure that we convert the strings of numbers to integers with `int()` to make sure we can do math with them."
   ]
  },
  {
   "cell_type": "markdown",
   "metadata": {},
   "source": [
    "#### **(P2.7)**\n",
    " At this point you should have a loop that infinitely asks the user for a string representing a simple math equation, stores the equation and its result in a history variable, and which can print a result. This last step is an important step in all software development: catching edge cases. Your calculator should be able to understand that if an operator is the first character in an input string then it should perform that operation on the most recent item in the history. Likewise, if an operator is the last item in an input string, it should wait for the next input to perform the operation. \n",
    "\n",
    "Add in support for these edge cases. "
   ]
  },
  {
   "cell_type": "markdown",
   "metadata": {},
   "source": [
    "**P2.7 Solution**"
   ]
  },
  {
   "cell_type": "code",
   "execution_count": null,
   "metadata": {},
   "outputs": [],
   "source": [
    "history = []\n",
    "while True:\n",
    "    result = 0\n",
    "    operator = \"\"\n",
    "    x1 = 0\n",
    "    x2 = 0\n",
    "    last = input(\"equation:\")\n",
    "    if last == \"q\":\n",
    "        print(history)\n",
    "        break\n",
    "    for i,char in enumerate(last):\n",
    "        if char in [\"+\", \"-\", \"*\", \"/\"]:\n",
    "            if i == 0:\n",
    "                x1 = float(history[-1])\n",
    "            else:\n",
    "                x1 = float(last[:i])\n",
    "            if i == len(last)-1:\n",
    "                x2 = 0\n",
    "            else:\n",
    "                x2 = float(last[i+1:])\n",
    "            operator = char\n",
    "        history.append(last)\n",
    "        if operator == \"+\":\n",
    "            result = x1+x2\n",
    "            print(result)\n",
    "            history.append(result)\n",
    "        elif operator == \"-\":\n",
    "            result = x1-x2\n",
    "            print(result)\n",
    "            history.append(result)\n",
    "        elif operator == \"*\":\n",
    "            result = x1*x2\n",
    "            print(result)\n",
    "            history.append(result)\n",
    "        elif operator == \"/\":\n",
    "            result = x1/x2\n",
    "            print(result)\n",
    "            history.append(result)"
   ]
  },
  {
   "cell_type": "markdown",
   "metadata": {},
   "source": [
    ">Adding in edge support or catching edge cases in any application can be difficult because you first need to think of how the user might use the program in a way that is incorrect, but only just incorrect enough to break it.   \n",
    ">   \n",
    ">In this case, if someone tries to add to their previous result by not typing a first number the calculator will get confused because the first number will be an empy string. To fix this we can create an if statement at the beggining of the for loop to catch where the operator is. If the operator is at the beggining (implying the user wants to add to teh prvious result) then the index for it will be 0. We can check with `i==0`, then if that is true we can just set the first value equal to the last item in the history: `history[-1]`.   \n",
    ">   \n",
    ">Alternatively if they try to leave the end empty we can catch that too. If they do not type a second value then we will see that `i==len(input)-1` (the -1 is because lists start at zero not one, so the last index will be the length-1), in this case we can just set the value equal to zero."
   ]
  },
  {
   "cell_type": "markdown",
   "metadata": {
    "id": "o_ujT2ZRBAVX"
   },
   "source": [
    "## **(P3)**\n",
    "\n",
    "In this Project you will work with dictionaries and loops to create an interactive phonebook.\n"
   ]
  },
  {
   "cell_type": "markdown",
   "metadata": {},
   "source": [
    "#### **(P3.1)**\n",
    "\n",
    "To start, create a dictionary to store a name and number, if you would like a more complicated phonebook, add more keys such as first and last names, occupation, email, or address."
   ]
  },
  {
   "cell_type": "markdown",
   "metadata": {},
   "source": [
    "**P3.1 Solution**"
   ]
  },
  {
   "cell_type": "code",
   "execution_count": null,
   "metadata": {
    "colab": {
     "base_uri": "https://localhost:8080/"
    },
    "executionInfo": {
     "elapsed": 154,
     "status": "ok",
     "timestamp": 1716914556039,
     "user": {
      "displayName": "Seth G",
      "userId": "15300733208633403854"
     },
     "user_tz": 240
    },
    "id": "e1DOl_zDEvkH",
    "outputId": "9c7be038-2d14-4d65-a167-fa8ffdce1fab"
   },
   "outputs": [],
   "source": [
    "contacts = [{'First Name': 'John',\n",
    "             'Last Name': 'Doe',\n",
    "             'Occupation': '',\n",
    "             'Number': '000-000-0000'}]"
   ]
  },
  {
   "cell_type": "markdown",
   "metadata": {},
   "source": [
    "> To create an expanding phonebook we will need to nest the dictionary within a list, such that each item in the list is a new contact.   \n",
    ">*We will revisit this project in [1d-4 Classes](./) and optimize this with methods and attributes since the nested list is fairly unoptimized*"
   ]
  },
  {
   "cell_type": "markdown",
   "metadata": {},
   "source": [
    "#### **(P3.2)**\n",
    "\n",
    "Next, create a loop that asks for a user input to create a new contact or read previous contacts."
   ]
  },
  {
   "cell_type": "markdown",
   "metadata": {},
   "source": [
    "**P3.2 Solution**"
   ]
  },
  {
   "cell_type": "code",
   "execution_count": null,
   "metadata": {
    "colab": {
     "base_uri": "https://localhost:8080/"
    },
    "executionInfo": {
     "elapsed": 45714,
     "status": "ok",
     "timestamp": 1716915139668,
     "user": {
      "displayName": "Seth G",
      "userId": "15300733208633403854"
     },
     "user_tz": 240
    },
    "id": "wxg3QfQiFvoZ",
    "outputId": "65c6d9f6-46a1-4fef-df53-a4dfabd83ea8"
   },
   "outputs": [],
   "source": [
    "while True:\n",
    "  choice = input(\"Press 1 to add a contact. Press 2 to read the phonebook. Press e to exit\")\n",
    "  if choice == '1':\n",
    "    first = input(\"First Name:\")\n",
    "    last = input(\"Last Name:\")\n",
    "    job = input(\"Occupation:\")\n",
    "    number = input(\"Number:\")\n",
    "    contacts.append({'First Name': first,\n",
    "                     'Last Name': last,\n",
    "                     'Occupation': job,\n",
    "                    'Number': number})\n",
    "  if choice == '2':\n",
    "    for contact in contacts:\n",
    "      print(contact)\n",
    "  if choice == 'e':\n",
    "    break"
   ]
  },
  {
   "cell_type": "markdown",
   "metadata": {},
   "source": [
    ">Just like in **P2** we can create an infinite loop with `while True` and ask for several inputs: I used '1' for adding a contact, '2' to print all of the contacts in the list, and \n",
    "'e' to exit. To check those conditions we can use an if statement. Our 'create new' clause can include a few `input()` functions for each part of the new contact as well as a line to append the new dictionary to the list."
   ]
  },
  {
   "cell_type": "markdown",
   "metadata": {},
   "source": [
    "#### **(P3.3)**\n",
    "\n",
    "Within the 'read previous contacts' option, add the ability to search by name. You can do either search by last name or first name, or both."
   ]
  },
  {
   "cell_type": "markdown",
   "metadata": {},
   "source": [
    "**P3.3 Solution**"
   ]
  },
  {
   "cell_type": "code",
   "execution_count": null,
   "metadata": {},
   "outputs": [],
   "source": [
    "while True:\n",
    "  choice = input(\"Press 1 to add a contact. Press 2 to read the phonebook. Press e to exit\")\n",
    "  if choice == '1':\n",
    "    first = input(\"First Name:\").title()\n",
    "    last = input(\"Last Name:\").title()\n",
    "    job = input(\"Occupation:\").title()\n",
    "    number = input(\"Number:\")\n",
    "    contacts.append({'First Name': first,\n",
    "                     'Last Name': last,\n",
    "                     'Occupation': job,\n",
    "                    'Number': number})\n",
    "  if choice == '2':\n",
    "    search = input(\"Type 'a' to print all, otherwise type the name of the person you would like to find.\")\n",
    "    if search == 'a':\n",
    "        for contact in contacts:\n",
    "            print(contact)\n",
    "    else:\n",
    "       for contact in contacts:\n",
    "          if search.title() in (contact['First Name'], contact['Last Name']): \n",
    "             print(contact)\n",
    "  if choice == 'e':\n",
    "    break"
   ]
  },
  {
   "cell_type": "markdown",
   "metadata": {},
   "source": [
    ">To read through all of the contacts in the list is fairly easy, a simple for loop which prints each element in the list will do just fine.   \n",
    ">To search for a specific contact by name we can create a for loop which loops through every contact and creates a tuple (or list) of both the first and last name items in each contact. Then using an if statement and the `in` operator to check if a user input is in the tuple we created, we can print out contacts that do include the user input and do nothing to those which do not include the user input."
   ]
  },
  {
   "cell_type": "markdown",
   "metadata": {
    "id": "sSrmUPTLHjsj"
   },
   "source": [
    "## (P4)\n",
    "In [1b-1 Lists](../Module1_BaseTrack/1b-1%20Lists.ipynb), I mentioned a bonus challenge; if you already did it, great, otherwise here it is.\n",
    "Create a program which takes a nested list (array) input and returns the size in this format (rows,columns). For example: [1] returns (1,0) or [[2,2],[2,2]] returns (2,2). \n",
    "\n",
    "*For this challenge we are going to try and replicate the `len()` function and as such that function is off limits in your solution.*"
   ]
  },
  {
   "cell_type": "markdown",
   "metadata": {},
   "source": [
    "#### **(P4.1)**\n",
    "Before you write any code to do this, ensure that you understand the input and output. For the following arrays, write the correct size manually."
   ]
  },
  {
   "cell_type": "markdown",
   "metadata": {},
   "source": [
    "**P4.1 Solution**"
   ]
  },
  {
   "cell_type": "code",
   "execution_count": 22,
   "metadata": {},
   "outputs": [],
   "source": [
    "array_1 = [[1,1,1,1,1],\n",
    "            [1,1,1,1,1],\n",
    "            [1,1,1,1,1],\n",
    "            [1,1,1,1,1],\n",
    "            [1,1,1,1,1]]\n",
    "\n",
    "array_2 = [[1,1],\n",
    "            [1,1]]\n",
    "\n",
    "array_3 = [1,1,1,1]\n",
    "\n",
    "array_4 = [[[1,1],[1,1],[1,1]],[[1,1],[1,1],[1,1]]]\n"
   ]
  },
  {
   "cell_type": "markdown",
   "metadata": {},
   "source": [
    ">Array 1 is a (5,5) array. The 'rows' are the items in the outer list: which is 5 inner lists. The columns are the items in each inner list: which is 5 integers.   \n",
    ">Array 2 is a (2,2) array.   \n",
    ">Array 3 is a (1,4) array, just a single row of 4 items.   \n",
    ">Array 4 is more complicated and harder to imagine as rows and columns. The first number defining its shape is the items in the outer most list: which is 2 smaller lists. The next number is the items contained within that next list: which is 3 even smaller lists. Then the next number is the items contained within each of those lists: which is 2 integers. So working outwards in, Array for has the shape (2,3,2) which can be visualized in 3d if you imagine that each number is a length in an x, y, or z direction.    \n",
    ">Arrays larger than 3 nested lists are more complicated than will be covered in this section."
   ]
  },
  {
   "cell_type": "markdown",
   "metadata": {},
   "source": [
    "#### **(P4.2)**\n",
    "\n",
    "Now that you know what is expected of you, we can start building what will determine these sizes analytically. You can check the output of your loops against your answers here to know if they are working.\n",
    "\n",
    "Write a loop which checks if an item inside a list or tuple is also a list or tuple. Being able to identify if there are more layers to an array will be important in distinguishing its size."
   ]
  },
  {
   "cell_type": "markdown",
   "metadata": {},
   "source": [
    "**P4.2 Solution**"
   ]
  },
  {
   "cell_type": "code",
   "execution_count": 20,
   "metadata": {
    "colab": {
     "base_uri": "https://localhost:8080/"
    },
    "executionInfo": {
     "elapsed": 198,
     "status": "ok",
     "timestamp": 1718822104835,
     "user": {
      "displayName": "Seth G",
      "userId": "15300733208633403854"
     },
     "user_tz": 240
    },
    "id": "XXvVXSYEbQGp",
    "outputId": "da8c8dd0-d48a-4a5a-863f-fa70311c04fc"
   },
   "outputs": [
    {
     "name": "stdout",
     "output_type": "stream",
     "text": [
      "this is a nested list\n",
      "this is just a list\n",
      "this is just a list\n"
     ]
    }
   ],
   "source": [
    "array = [[1],1,1]\n",
    "for i in array:\n",
    "    if type(i) in (tuple, set, list):\n",
    "      print(\"this is a nested list\")\n",
    "    else:\n",
    "       print(\"this is just a list\")\n",
    "\n"
   ]
  },
  {
   "cell_type": "markdown",
   "metadata": {},
   "source": [
    ">A simple for loop which checks if the type of each item in a given list is either a tuple, set, or list. This could have also been done with the `==` and `or` operators:\n",
    ">```\n",
    ">if type(i) == tuple or type(i) == list or type(i) == set:\n",
    ">```\n",
    ">But that is a lengthy and confusing way to do it so instead I used the `in` operator which iterates through an iterable and checks if the input is equivelent to any of the items contained in the iterable. If the iterable is equivelent for any item in the list it returns True, and otherwise returns False.\n"
   ]
  },
  {
   "cell_type": "markdown",
   "metadata": {},
   "source": [
    "#### **(P4.3)**\n",
    "\n",
    "Now, write a loop that prints the length of a single list, tuple, or set."
   ]
  },
  {
   "cell_type": "markdown",
   "metadata": {},
   "source": [
    "**P4.3 Solution**"
   ]
  },
  {
   "cell_type": "code",
   "execution_count": 23,
   "metadata": {},
   "outputs": [
    {
     "name": "stdout",
     "output_type": "stream",
     "text": [
      "5\n"
     ]
    }
   ],
   "source": [
    "some_list = [34,6,52,445,645]\n",
    "length = 0\n",
    "for i in some_list:\n",
    "    length += 1\n",
    "print(length)"
   ]
  },
  {
   "cell_type": "markdown",
   "metadata": {},
   "source": [
    ">To replicate the `len()` function, we can use a for loop which iterates over an iterable object and on each iteration it adds 1 to a variable representing the length of that iterable. Then once the for loop has finished you can print the length. We can now use these few lines and get the length of any iterable."
   ]
  },
  {
   "cell_type": "markdown",
   "metadata": {},
   "source": [
    "#### **(P4.4)**\n",
    "\n",
    "Use your solutions to 4.3 and 4.2 to write a series of nested loops which check if an item is a list and then determines the length of each level. Because we are not making use of functions, your solution should be at least 3 nested statements, this is okay even though I have previously recomended against it. We will revisit many of these problems in a later project to improve them with functions and classes. \n",
    "\n",
    "***Hint** If you choose to check only two levels (rows and columns) you will have 3 nested statements (two fors and an if). Each additional level will add a for and an if. The instructor version checks three levels.*"
   ]
  },
  {
   "cell_type": "markdown",
   "metadata": {},
   "source": [
    "**P4.4 Solution**"
   ]
  },
  {
   "cell_type": "code",
   "execution_count": 28,
   "metadata": {},
   "outputs": [
    {
     "name": "stdout",
     "output_type": "stream",
     "text": [
      "(3, 0, 0)\n"
     ]
    }
   ],
   "source": [
    "array = [[1,2],\n",
    "         1,\n",
    "         1]\n",
    "first_level = 0\n",
    "second_level = 0\n",
    "third_level = 0\n",
    "for  i, row in enumerate(array):\n",
    "    first_level += 1\n",
    "    if type(row) in (tuple, list, set):\n",
    "        for j, column in enumerate(array[i]):\n",
    "            second_level +1\n",
    "            if type(column) in (tuple, list, set):\n",
    "                for k, level in enumerate(row[j]):\n",
    "                    third_level+=1\n",
    "print(f\"({first_level}, {second_level}, {third_level})\")\n",
    "            \n"
   ]
  },
  {
   "cell_type": "markdown",
   "metadata": {},
   "source": [
    "#### **(P4.5)**\n",
    "\n",
    "An important aspect of matrices in math is that the rows and columns (and any additional levels), are homogenous (e.g, all columns are length 3 and rows are length 4. While the rows and columns are not the same, each row and column is the same as the other rows or columns). Develop your answer to P4.4 so that it checks to ensure that all of the rows and columns are the same length. "
   ]
  },
  {
   "cell_type": "markdown",
   "metadata": {},
   "source": [
    "**P4.5 Solution**"
   ]
  },
  {
   "cell_type": "code",
   "execution_count": 17,
   "metadata": {},
   "outputs": [
    {
     "name": "stdout",
     "output_type": "stream",
     "text": [
      "yippee\n",
      "(2, 3, 2)\n"
     ]
    }
   ],
   "source": [
    "#array = [[[1,1],[1,1]],[[1,1],[1,1]],[[1,1],[1,1]]] #Array which should pass all checks and is size (3,2,2)\n",
    "#array = [[1,1],1,1] #Array which should not pass homogenous checks\n",
    "#array = [1,1] #Array which should pass all checks and is size (2, 0, 0), in other words: a list of length 2\n",
    "\n",
    "#Arrays from P4.1:\n",
    "#array = [[1,1,1,1,1],[1,1,1,1,1],[1,1,1,1,1],[1,1,1,1,1],[1,1,1,1,1]] #(5, 5, 0)\n",
    "\n",
    "#array = [[1,1],[1,1]] #(2, 2, 0)\n",
    "\n",
    "#array = [1,1,1,1] #(4, 0, 0)\n",
    "\n",
    "#array = [[[1,1],[1,1],[1,1]],[[1,1],[1,1],[1,1]]] #(2, 3, 2)\n",
    "\n",
    "#Feel free to try new arrays of your own\n",
    "\n",
    "first_level = []\n",
    "length1 = 0\n",
    "second_level = []\n",
    "length2 = 0\n",
    "third_level = []\n",
    "length3 = 0\n",
    "\n",
    "for  i, row in enumerate(array):\n",
    "    length1 += 1\n",
    "    length2 = 0\n",
    "    length3 = 0\n",
    "    if type(row) in (tuple, list, set):\n",
    "        for j, column in enumerate(array[i]):\n",
    "            length2 += 1\n",
    "            length3 = 0\n",
    "            if type(column) in (tuple, list, set):\n",
    "                for k, level in enumerate(row[j]):\n",
    "                    length3 += 1\n",
    "            third_level.append(length3)\n",
    "    second_level.append(length2)\n",
    "first_level.append(length1)\n",
    "\n",
    "homogenous = True\n",
    "for i in first_level:\n",
    "    if i != first_level[0]:\n",
    "        print(\"this array is inhomogenous\")\n",
    "        homogenous = False\n",
    "    else:\n",
    "        length1 = i\n",
    "for i in second_level:\n",
    "    if i != second_level[0]:\n",
    "        print(\"this array is inhomogenous\")\n",
    "        homogenous = False\n",
    "    else: length2 = i\n",
    "for i in third_level:\n",
    "    if i != third_level[0]:\n",
    "        print(\"this array is inhomogenous\")\n",
    "        homogenous = False\n",
    "    else:\n",
    "        length3 = i\n",
    "\n",
    "if homogenous:\n",
    "    print(\"yippee\")\n",
    "    print(f\"({length1}, {length2}, {length3})\")"
   ]
  },
  {
   "cell_type": "markdown",
   "metadata": {},
   "source": [
    ">To properly check if each level is homogenous we will need to use multiple loops and conditional checks. I will break down this code line by line to explain why each thing is there.\n",
    ">```\n",
    ">first_level = []\n",
    ">length1 = 0\n",
    ">second_level = []\n",
    ">length2 = 0\n",
    ">third_level = []\n",
    ">length3 = 0\n",
    ">```\n",
    ">Each length variable in these lines of code is used to replace the `len()` function as shown in the 4.3 solution.   \n",
    ">Each level variable (_level) in these lines of code is a list which will hold the lengths of the items in that level. Because a for loop will iterate over each item in a list and not stop; if we have a list, and iterate over that list, writing the lengths of each item to a variable, only the last length will stay.\n"
   ]
  },
  {
   "cell_type": "code",
   "execution_count": 20,
   "metadata": {},
   "outputs": [
    {
     "name": "stdout",
     "output_type": "stream",
     "text": [
      "2\n",
      "1\n",
      "3\n",
      "3\n"
     ]
    }
   ],
   "source": [
    "length = 0\n",
    "for item in [[2,2], [1], [3,3,3]]:\n",
    "    length = len(item)\n",
    "    print(length)\n",
    "print(length)"
   ]
  },
  {
   "cell_type": "markdown",
   "metadata": {},
   "source": [
    ">This output is not desirable because it would return that the length of the second layer is 3 even though that layer is inhomogenous and cannot be described.   \n",
    ">To avoid this undesireable output, we can instead append each length to a list variable and after the for loop has concluded perform our checks. That is exactly what the first nested loop does:\n",
    ">```\n",
    ">for  i, row in enumerate(array):\n",
    ">    length1 += 1\n",
    ">    length2 = 0\n",
    ">    length3 = 0\n",
    ">    if type(row) in (tuple, list, set):\n",
    ">        for j, column in enumerate(array[i]):\n",
    ">            length2 += 1\n",
    ">            length3 = 0\n",
    ">            if type(column) in (tuple, list, set):\n",
    ">                for k, level in enumerate(row[j]):\n",
    ">                    length3 += 1\n",
    ">            third_level.append(length3)\n",
    ">    second_level.append(length2)\n",
    ">first_level.append(length1)\n",
    ">```\n",
    "\n",
    ">Let's break this down further.\n",
    ">```\n",
    ">for i, row in enumerate(array):\n",
    ">   length1 += 1\n",
    ">   length2 = 0\n",
    ">   length3 = 0\n",
    ">   \"nested loops\"\n",
    ">first_level.append(length1)\n",
    ">```\n",
    ">The first for loop iterates over the outer list [row1, row2, row3]. On each iteration, it makes length1 larger by one, and sets each of the other lengths to 0, this is important later. Once it has iterated over each row, it will return the length by appending it to the first_level list. In this case it will have counted to 3 after iterating three times and will append the value 3 to the first_level list.\n",
    "\n",
    ">```\n",
    ">   if type(row) in (tuple, list, set):\n",
    ">        for j, column in enumerate(array[i]):\n",
    ">            length2 +=1\n",
    ">            length3 = 0\n",
    ">            \"nested loop\"\n",
    ">    second_level.append(length2)\n",
    ">```\n",
    ">This interior loop first checks if the given row from the first loop is a list. If that item is a list then it will iterate through that list and append the length to the second_level list.\n",
    ">This will happen for each row in the outer list, so if each item in the outer list is a different length then we should see second_level with multiple different items. If each item is the same length then the second level will be a list with multiple of the same number. Alternatively we could convert the second_level list to a set and if it has a length greater than 1 then we know that each row is a different size and if the length is equal to 1 then each row is the same size.\n",
    "\n",
    ">The second if statement checks if the item in a row is also a list, and if so gets that length. The overall workflow looks like this:\n",
    "\n",
    "array = [row1[column1_item1, column2_item1],   \n",
    "         row2[column1_item2, column2_item2],   \n",
    "         row3[column1_item3, column2_item3]]  \n",
    "\n",
    "start   \n",
    "\\/   \n",
    "row1: length + 1 = 1 (number of rows is now 1)   \n",
    "row1 is list? True   \n",
    "\\/   \n",
    "column1: length + 1 = 1 (number of columns is now 1)   \n",
    "column1_item1 is list? False   \n",
    "\\/   \n",
    "column2: length + 1 = 2 (number of columns is now 2)   \n",
    "column2 is list? False   \n",
    "column list looks like this: [2,]   \n",
    "\\/   \n",
    "row2: length +1 = 2 (number of rows is now 2)   \n",
    "(number of columns is set to zero)   \n",
    "column1: length + 1 = 1 (number of columns is now 1 again because we are counting in row 2)   \n",
    "column1_item2 is list? False   \n",
    "\\/   \n",
    "column2: length + 1 = 2 (number of columns in row 2 is now 2)   \n",
    "column2_item2 is list? False   \n",
    "column list looks like this [2,2,]   \n",
    "\\/   \n",
    "row3: length +1 = 3 (number of rows is now 3)   \n",
    "(number of columns is set to zero)   \n",
    "column1: length + 1 = 0 (number of columns is now 1 again because we are counting in row 3)   \n",
    "column1_item3 is list? False   \n",
    "\\/   \n",
    "column2: length + 1 = 2 (number of columns in row 3 is now 2)   \n",
    "column2_item3 is list? False   \n",
    "column list looks like this [2,2,2]   \n",
    "\\/   \n",
    "row list looks like this[3,]   \n",
    "\\/   \n",
    "all numbers in column list are the same? True   \n",
    "all numbers in row list are the same? True   \n",
    "size = (3,2)   \n",
    "\\/   \n",
    "end\n",
    "\n"
   ]
  },
  {
   "cell_type": "markdown",
   "metadata": {},
   "source": [
    ">The next part of the code is what checks if a level is homogenous.\n",
    ">```\n",
    ">homogenous = True\n",
    ">for i in first_level:\n",
    ">    if i != first_level[0]:\n",
    ">        print(\"this array is inhomogenous\")\n",
    ">        homogenous = False\n",
    ">    else:\n",
    ">        length1 = i\n",
    ">for i in second_level:\n",
    ">    if i != second_level[0]:\n",
    ">        print(\"this array is inhomogenous\")\n",
    ">        homogenous = False\n",
    ">    else: length2 = i\n",
    ">for i in third_level:\n",
    ">    if i != third_level[0]:\n",
    ">        print(\"this array is inhomogenous\")\n",
    ">        homogenous = False\n",
    ">    else:\n",
    ">        length3 = i\n",
    ">\n",
    ">if homogenous:\n",
    ">    print(\"yippee\")\n",
    ">    print(f\"({length1}, {length2}, {length3})\")\n",
    ">```\n",
    ">There are 3 for loops. Each one iterates through the lists holding the lengths in that level and checks if they are all the same. If they are not it sets a boolean variable to false. After all of the lengths are checked, if the boolean value is still true then the size is printed.\n"
   ]
  },
  {
   "cell_type": "markdown",
   "metadata": {},
   "source": [
    "# End\n",
    "\n",
    "This marks the end of Project 2, you may continue on to the next lesson: [1c-5 Other Control Structures](../Module1_BaseTrack/1c-5%20Other%20Control%20Structures.ipynb)."
   ]
  }
 ],
 "metadata": {
  "colab": {
   "authorship_tag": "ABX9TyNpvODlZ14J+jkjs7pOcKu1",
   "provenance": []
  },
  "kernelspec": {
   "display_name": ".venv",
   "language": "python",
   "name": "python3"
  },
  "language_info": {
   "codemirror_mode": {
    "name": "ipython",
    "version": 3
   },
   "file_extension": ".py",
   "mimetype": "text/x-python",
   "name": "python",
   "nbconvert_exporter": "python",
   "pygments_lexer": "ipython3",
   "version": "3.12.5"
  }
 },
 "nbformat": 4,
 "nbformat_minor": 0
}
