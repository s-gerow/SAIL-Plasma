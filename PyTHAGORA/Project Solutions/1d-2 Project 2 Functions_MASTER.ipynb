{
 "cells": [
  {
   "cell_type": "code",
   "execution_count": null,
   "metadata": {},
   "outputs": [],
   "source": []
  },
  {
   "cell_type": "markdown",
   "metadata": {},
   "source": [
    "square root"
   ]
  },
  {
   "cell_type": "markdown",
   "metadata": {},
   "source": [
    "redo size function"
   ]
  },
  {
   "cell_type": "markdown",
   "metadata": {},
   "source": [
    "redo other loop projects"
   ]
  }
 ],
 "metadata": {
  "language_info": {
   "name": "python"
  }
 },
 "nbformat": 4,
 "nbformat_minor": 2
}
