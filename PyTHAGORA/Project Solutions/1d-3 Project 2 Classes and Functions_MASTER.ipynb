{
 "cells": [
  {
   "cell_type": "markdown",
   "metadata": {},
   "source": [
    "*As of Project PyTHAGORA Alpha Release 7/24/2024, this project/lesson is known to be incomplete, early updates should include the creation and testing of this lesson.*"
   ]
  },
  {
   "cell_type": "markdown",
   "metadata": {},
   "source": [
    "# Set Up"
   ]
  },
  {
   "cell_type": "markdown",
   "metadata": {},
   "source": [
    "For these mini-projects you will need to have completed all of the lessons and projects up to this point, as well as import the following libraries:\n",
    "\n",
    "`math`"
   ]
  },
  {
   "cell_type": "code",
   "execution_count": 3,
   "metadata": {},
   "outputs": [],
   "source": [
    "import numpy as np\n",
    "import math\n"
   ]
  },
  {
   "cell_type": "markdown",
   "metadata": {},
   "source": [
    "This project notebook will be split into two main sections: **Functions** and **Classes**. The Functions section will be primarily focused on building your understanding of functions as a standalone Python concept. Then the Classes section will expand on the projects and content of the Functions section to develop and test your understanding of classes, objects, methods, and attributes."
   ]
  },
  {
   "cell_type": "markdown",
   "metadata": {},
   "source": [
    "# Functions"
   ]
  },
  {
   "cell_type": "markdown",
   "metadata": {},
   "source": [
    "In this section we will revisit some the mini-projects from [Project 1 Loops](../Module1_BaseTrack/1c-4%20Project%201%20Loops.ipynb), but from a function standpoint.\n",
    "\n",
    "Before we do that though, here are some new problems to get you warmed up."
   ]
  },
  {
   "cell_type": "markdown",
   "metadata": {},
   "source": [
    "## P1"
   ]
  },
  {
   "cell_type": "markdown",
   "metadata": {},
   "source": [
    "The first mini project will be to write a function that determines the square root of a number without using the `math.sqrt()` function.\n",
    "\n",
    "Your function should take a single input then calculate and return the square root of that number. Use `math.sqrt()` only to check your answer. You can round values to the 4th decimal place for ease."
   ]
  },
  {
   "cell_type": "markdown",
   "metadata": {},
   "source": [
    "#### **P1.1**\n",
    "\n",
    "To start solving this we first have to understand what we are doing. \n",
    "\n",
    "The square root function must find a number, $x$, which when squared results in the number passed into the function:\n",
    "\n",
    "$x = \\sqrt{a}$, $x^2 = a$\n",
    "\n",
    "There are several ways to approch this. The simplest (yet least accurate) is to just test every single number and check if that number squared is the number passed. Write a function which checks numbers 1 through 100. For each number, square it and check if that is the number youre taking the square root of.\n",
    "\n",
    "Check your result against the following inputs:\n",
    "\n",
    "```\n",
    "math.sqrt(4)\n",
    "math.sqrt(9)\n",
    "math.sqrt(25)\n",
    "math.sqrt(100)\n",
    "math.sqrt(8)\n",
    "```"
   ]
  },
  {
   "cell_type": "code",
   "execution_count": 14,
   "metadata": {},
   "outputs": [
    {
     "name": "stdout",
     "output_type": "stream",
     "text": [
      "2\n",
      "3\n",
      "5\n",
      "10\n",
      "None\n",
      "2.0\n",
      "3.0\n",
      "5.0\n",
      "10.0\n",
      "2.8284271247461903\n"
     ]
    }
   ],
   "source": [
    "def sqrtish(x):\n",
    "    for i in range(0,100,1):\n",
    "        if i*i == x:\n",
    "            return i\n",
    "    \n",
    "print(sqrtish(4))\n",
    "print(sqrtish(9))\n",
    "print(sqrtish(25))\n",
    "print(sqrtish(100))\n",
    "print(sqrtish(8))\n",
    "\n",
    "print(math.sqrt(4))\n",
    "print(math.sqrt(9))\n",
    "print(math.sqrt(25))\n",
    "print(math.sqrt(100))\n",
    "print(math.sqrt(8))\n",
    "\n"
   ]
  },
  {
   "cell_type": "markdown",
   "metadata": {},
   "source": [
    "You should notice that for the square root of 4, 9, 25, and 100. Your function was correct! That is awesome, good job. Unfortunately, this method falls apart when you test it for non-perfect squares. Your result from above for the square root of 8 should be ```None```. This is because there is no real integer which is the square root of 8; in fact, the square root of 8, and the square root of all non-perfect integers, is an irrational number and cannot be precisely calculated. Therefore any attempt to calculate the square root of a non-perfect integer is only an approximation. \n",
    "\n",
    "Whew, thats good. It means that you can determine how precise of an approximation you would like when choosing which method to implement. For this project I am not asking for a precise answer (4 decimals wouldn't be useful in very many real applications), so we can continue on with the inneffieicnt process of checking all the numbers 1 by 1."
   ]
  },
  {
   "cell_type": "markdown",
   "metadata": {},
   "source": [
    "#### P1.2"
   ]
  },
  {
   "cell_type": "markdown",
   "metadata": {},
   "source": [
    "Now a way to increase the accuracy of our program is to decrease the step size. Instead of checking every integer, try checking every 0.1 step. Then try 0.01, 0.001, and 0.00001. What do you notice about your results when you do this?\n",
    "\n",
    "*Hint: the python ```range(start, stop, step)``` will not accept a non-integer value for the step size. You can instead use ```numpy.arange(start, stop, step)``` to achieve this result. For more information on numpy and numpy arrays read through that lesson in module 2.*"
   ]
  },
  {
   "cell_type": "code",
   "execution_count": 18,
   "metadata": {},
   "outputs": [
    {
     "name": "stdout",
     "output_type": "stream",
     "text": [
      "2.0\n",
      "None\n",
      "5.0\n",
      "10.0\n",
      "None\n",
      "2.0\n",
      "3.0\n",
      "5.0\n",
      "10.0\n",
      "2.8284271247461903\n"
     ]
    }
   ],
   "source": [
    "def sqrtish(x):\n",
    "    for i in np.arange(0,100,0.00001):\n",
    "        if i*i == float(x):\n",
    "            return i\n",
    "    \n",
    "print(sqrtish(4))\n",
    "print(sqrtish(9))\n",
    "print(sqrtish(25))\n",
    "print(sqrtish(100))\n",
    "print(sqrtish(8))\n",
    "\n",
    "print(math.sqrt(4))\n",
    "print(math.sqrt(9))\n",
    "print(math.sqrt(25))\n",
    "print(math.sqrt(100))\n",
    "print(math.sqrt(8))"
   ]
  },
  {
   "cell_type": "markdown",
   "metadata": {},
   "source": [
    "Hopefully you noticed that as you decreased the step size, the time to complete the algorithm got longer. This is a perfect example of the tradeoff between precision and resources comes in. To get a highly precise answer with any algorithm it will need to run for longer, which uses more resources. That being said, our algorithm is highly innefficient and will become unreasonably slow signifigantly slower than other onces which have since been developed. \n",
    "\n",
    "Additionally, I hope you noticed that even when decreasing the step size we couldnt get the square root of 8. This is because Python's default float point precision is 15-16 signifigant digits. This means in order to get an \"exact value\" of the square root we would need to iterate for step sizes of 0.0000000000000001. Over such a small range of 100 integers this is already 1 quintillion iterations. Even with that. The way that python's floating point storage works may still introduce errors since floating point comparison like ```0.1+0.2 == 0.3``` does not work. I will not go into tremendous depth on how this works, if you are interested there are several good articles which describe the problem here: _____.\n",
    "\n",
    "Now, instead of increasing precision by with our step size, let's eliminate the dependence on the comparison operator ```==```. Because of the floating point innacuracies of this operator, we need to change our approach. Build a function called ```near(x,y)``` which checks to see if the difference between two integers is below a certain value. \n",
    "\n",
    "For example: if our numbers are 4.0005 and 3.9995, the difference is 0.001. \n",
    "\n",
    "Then you should utilize this ```near()``` function instead of == to determine if the ```i*i``` value in your ```sqrtish()``` function is close to the original value. \n",
    "You can choose whatever you want as your near value but I suggest to start with a fairly high value such as 0.01; then slowly decreasing it and observing the effect it has on your answers. If you change your ```sqrtish()``` function to print valid i values instead of return, then it will print every single one it comes by."
   ]
  },
  {
   "cell_type": "code",
   "execution_count": 22,
   "metadata": {},
   "outputs": [
    {
     "name": "stdout",
     "output_type": "stream",
     "text": [
      "8.8312\n",
      "8.83121\n",
      "8.83122\n",
      "8.831230000000001\n",
      "8.831240000000001\n",
      "8.83125\n",
      "8.83126\n",
      "8.83127\n",
      "8.831280000000001\n",
      "8.831290000000001\n",
      "8.8313\n",
      "8.83131\n",
      "8.83132\n",
      "8.831330000000001\n",
      "8.83134\n",
      "8.83135\n",
      "8.83136\n",
      "8.831370000000001\n",
      "8.831380000000001\n",
      "8.83139\n",
      "8.8314\n",
      "8.83141\n",
      "8.831420000000001\n",
      "8.831430000000001\n",
      "8.83144\n",
      "8.83145\n",
      "8.83146\n",
      "8.831470000000001\n",
      "8.83148\n",
      "8.83149\n",
      "8.8315\n",
      "8.831510000000002\n",
      "8.831520000000001\n",
      "8.83153\n",
      "8.83154\n",
      "8.83155\n",
      "8.831560000000001\n",
      "8.831570000000001\n",
      "8.83158\n",
      "8.83159\n",
      "8.8316\n",
      "8.831610000000001\n",
      "8.831620000000001\n",
      "8.83163\n",
      "8.83164\n",
      "8.831650000000002\n",
      "8.831660000000001\n",
      "8.83167\n",
      "8.83168\n",
      "8.83169\n",
      "8.831700000000001\n",
      "8.831710000000001\n",
      "8.83172\n",
      "8.83173\n",
      "8.83174\n",
      "8.831750000000001\n",
      "8.831760000000001\n",
      "8.83177\n",
      "8.83178\n",
      "8.831790000000002\n",
      "8.831800000000001\n",
      "8.83181\n",
      "8.83182\n",
      "8.83183\n",
      "8.831840000000001\n",
      "8.831850000000001\n",
      "8.83186\n",
      "8.83187\n",
      "8.83188\n",
      "8.831890000000001\n",
      "8.831900000000001\n",
      "8.83191\n",
      "8.83192\n",
      "8.83193\n",
      "8.831940000000001\n",
      "8.83195\n",
      "8.83196\n",
      "8.83197\n",
      "8.831980000000001\n",
      "8.831990000000001\n",
      "8.832\n",
      "8.83201\n",
      "8.83202\n",
      "8.832030000000001\n",
      "8.832040000000001\n",
      "8.83205\n",
      "8.83206\n",
      "8.83207\n",
      "8.832080000000001\n",
      "8.83209\n",
      "8.8321\n",
      "8.83211\n",
      "8.832120000000002\n",
      "8.832130000000001\n",
      "8.83214\n",
      "8.83215\n",
      "8.83216\n",
      "8.832170000000001\n",
      "8.832180000000001\n",
      "8.83219\n",
      "8.8322\n",
      "8.83221\n",
      "8.832220000000001\n",
      "8.832230000000001\n",
      "8.83224\n",
      "8.83225\n",
      "8.832260000000002\n",
      "8.832270000000001\n",
      "8.83228\n",
      "8.83229\n",
      "8.8323\n",
      "8.832310000000001\n",
      "8.832320000000001\n"
     ]
    },
    {
     "ename": "KeyboardInterrupt",
     "evalue": "",
     "output_type": "error",
     "traceback": [
      "\u001b[0;31m---------------------------------------------------------------------------\u001b[0m",
      "\u001b[0;31mKeyboardInterrupt\u001b[0m                         Traceback (most recent call last)",
      "Cell \u001b[0;32mIn[22], line 10\u001b[0m\n\u001b[1;32m      7\u001b[0m     \u001b[38;5;28;01mif\u001b[39;00m \u001b[38;5;28mabs\u001b[39m(x\u001b[38;5;241m-\u001b[39my) \u001b[38;5;241m<\u001b[39m\u001b[38;5;241m=\u001b[39m \u001b[38;5;241m0.01\u001b[39m:\n\u001b[1;32m      8\u001b[0m         \u001b[38;5;28;01mreturn\u001b[39;00m \u001b[38;5;28;01mTrue\u001b[39;00m\n\u001b[0;32m---> 10\u001b[0m \u001b[38;5;28mprint\u001b[39m(\u001b[43msqrtish\u001b[49m\u001b[43m(\u001b[49m\u001b[38;5;241;43m78\u001b[39;49m\u001b[43m)\u001b[49m)\n\u001b[1;32m     11\u001b[0m \u001b[38;5;28mprint\u001b[39m(math\u001b[38;5;241m.\u001b[39msqrt(\u001b[38;5;241m78\u001b[39m))\n",
      "Cell \u001b[0;32mIn[22], line 3\u001b[0m, in \u001b[0;36msqrtish\u001b[0;34m(x)\u001b[0m\n\u001b[1;32m      1\u001b[0m \u001b[38;5;28;01mdef\u001b[39;00m \u001b[38;5;21msqrtish\u001b[39m(x):\n\u001b[1;32m      2\u001b[0m     \u001b[38;5;28;01mfor\u001b[39;00m i \u001b[38;5;129;01min\u001b[39;00m np\u001b[38;5;241m.\u001b[39marange(start\u001b[38;5;241m=\u001b[39m\u001b[38;5;241m0\u001b[39m, stop\u001b[38;5;241m=\u001b[39m\u001b[38;5;241m1000\u001b[39m, step\u001b[38;5;241m=\u001b[39m\u001b[38;5;241m0.00001\u001b[39m):\n\u001b[0;32m----> 3\u001b[0m         \u001b[38;5;28;01mif\u001b[39;00m \u001b[43mnear\u001b[49m\u001b[43m(\u001b[49m\u001b[43mi\u001b[49m\u001b[38;5;241;43m*\u001b[39;49m\u001b[43mi\u001b[49m\u001b[43m,\u001b[49m\u001b[43mx\u001b[49m\u001b[43m)\u001b[49m:\n\u001b[1;32m      4\u001b[0m             \u001b[38;5;28mprint\u001b[39m(i)\n",
      "Cell \u001b[0;32mIn[22], line 7\u001b[0m, in \u001b[0;36mnear\u001b[0;34m(x, y)\u001b[0m\n\u001b[1;32m      6\u001b[0m \u001b[38;5;28;01mdef\u001b[39;00m \u001b[38;5;21mnear\u001b[39m(x,y):\n\u001b[0;32m----> 7\u001b[0m     \u001b[38;5;28;01mif\u001b[39;00m \u001b[38;5;28;43mabs\u001b[39;49m\u001b[43m(\u001b[49m\u001b[43mx\u001b[49m\u001b[38;5;241;43m-\u001b[39;49m\u001b[43my\u001b[49m\u001b[43m)\u001b[49m \u001b[38;5;241m<\u001b[39m\u001b[38;5;241m=\u001b[39m \u001b[38;5;241m0.01\u001b[39m:\n\u001b[1;32m      8\u001b[0m         \u001b[38;5;28;01mreturn\u001b[39;00m \u001b[38;5;28;01mTrue\u001b[39;00m\n",
      "\u001b[0;31mKeyboardInterrupt\u001b[0m: "
     ]
    }
   ],
   "source": [
    "def sqrtish(x):\n",
    "    for i in np.arange(start=0, stop=1000, step=0.00001):\n",
    "        if near(i*i,x):\n",
    "            print(i)\n",
    "\n",
    "def near(x,y):\n",
    "    if abs(x-y) <= 0.01:\n",
    "        return True\n",
    "\n",
    "print(sqrtish(78))\n",
    "print(math.sqrt(78))"
   ]
  },
  {
   "cell_type": "markdown",
   "metadata": {},
   "source": [
    "You should notice that if your step size is lower, and the near-value cutoff is higher then there are hundreds to thousands of values that are close to the correct answer. Most of them though are pretty close to each other. So if we round off the value to 4 decimal places we will be close-ish to the correct answer. Do this. Also, change the print back to the return. It will unfortuneatly return the first value that satisfies the requirements and this could be lower than we want it to be, but hopefully our step size precision allowed us to get close enough to remove this discrepency by rounding."
   ]
  },
  {
   "cell_type": "code",
   "execution_count": null,
   "metadata": {},
   "outputs": [],
   "source": []
  },
  {
   "cell_type": "markdown",
   "metadata": {},
   "source": [
    "square root\n",
    "redo size function\n",
    "redo other loop projects"
   ]
  },
  {
   "cell_type": "markdown",
   "metadata": {},
   "source": [
    "## P2"
   ]
  },
  {
   "cell_type": "markdown",
   "metadata": {},
   "source": [
    "The second project will be a re-write of the length function loop that we made in project 1c-4. "
   ]
  },
  {
   "cell_type": "markdown",
   "metadata": {},
   "source": [
    "# Classes"
   ]
  },
  {
   "cell_type": "markdown",
   "metadata": {},
   "source": [
    "# End of Module 1"
   ]
  },
  {
   "cell_type": "markdown",
   "metadata": {},
   "source": [
    "Upon completion of this project you have completed the entire base track of Project PyTHAGORA, hopefully you have a solid foundation in Python and are ready to start your own projects or continue into one of the more advanced modules to continue learning. \n",
    "\n",
    "**[2. Robotics](../Module2_Robotics/)**\n",
    "This module will utilize a LEGO Spike Prime kit to teach you to the basics of system control and device control in Python.   \n",
    "*Status - 7/20/2024 - Empty*\n",
    "\n",
    "**[3. Data Analysis](../Module3_DataTasks/3-1%20Numpy%20Lesson.ipynb)**\n",
    "This module will teach you the variety of useful packages that are used to gather, analyze, manipulate, and display a variety of data. With specific lessons to teach you tools used in the plasma physics and astronomy, this is a prerequisite for many lessons in modules 4 and 5.   \n",
    "*Status - 7/20/2024 - Empty*\n",
    "\n",
    "**[4. Plasma Physics](../Module4_PlasmaPhysics/4-1%20Plasma%20Physics%20Lesson.md)**\n",
    "This module will teach you basic plasma physics concepts as well as several applications of Python within the plasma physics community.   \n",
    "*Status - 7/20/2024 - Incomplete*\n",
    "\n",
    "**[5. Astronomy](../Module5_Astronomy/)**\n",
    "*Status - 7/20/2024 - Incomplete*\n"
   ]
  },
  {
   "cell_type": "markdown",
   "metadata": {},
   "source": []
  }
 ],
 "metadata": {
  "kernelspec": {
   "display_name": ".venv",
   "language": "python",
   "name": "python3"
  },
  "language_info": {
   "codemirror_mode": {
    "name": "ipython",
    "version": 3
   },
   "file_extension": ".py",
   "mimetype": "text/x-python",
   "name": "python",
   "nbconvert_exporter": "python",
   "pygments_lexer": "ipython3",
   "version": "3.12.5"
  }
 },
 "nbformat": 4,
 "nbformat_minor": 2
}
