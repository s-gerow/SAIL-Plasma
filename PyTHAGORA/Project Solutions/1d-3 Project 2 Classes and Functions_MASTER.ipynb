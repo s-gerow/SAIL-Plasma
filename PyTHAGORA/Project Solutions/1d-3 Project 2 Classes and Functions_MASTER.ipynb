{
 "cells": [
  {
   "cell_type": "markdown",
   "metadata": {},
   "source": [
    "*As of Project PyTHAGORA Alpha Release 7/24/2024, this project/lesson is known to be incomplete, early updates should include the creation and testing of this lesson.*"
   ]
  },
  {
   "cell_type": "markdown",
   "metadata": {},
   "source": [
    "# Set Up"
   ]
  },
  {
   "cell_type": "markdown",
   "metadata": {},
   "source": [
    "For these mini-projects you will need to have completed all of the lessons and projects up to this point, as well as import the following libraries:\n",
    "\n",
    "`math`"
   ]
  },
  {
   "cell_type": "code",
   "execution_count": 2,
   "metadata": {},
   "outputs": [],
   "source": [
    "import numpy as np\n",
    "import math\n"
   ]
  },
  {
   "cell_type": "markdown",
   "metadata": {},
   "source": [
    "This project notebook will be split into two main sections: **Functions** and **Classes**. The Functions section will be primarily focused on building your understanding of functions as a standalone Python concept. Then the Classes section will expand on the projects and content of the Functions section to develop and test your understanding of classes, objects, methods, and attributes."
   ]
  },
  {
   "cell_type": "markdown",
   "metadata": {},
   "source": [
    "# Functions"
   ]
  },
  {
   "cell_type": "markdown",
   "metadata": {},
   "source": [
    "In this section we will revisit some the mini-projects from [Project 1 Loops](../Module1_BaseTrack/1c-4%20Project%201%20Loops.ipynb), but from a function standpoint.\n",
    "\n",
    "Before we do that though, here are some new problems to get you warmed up."
   ]
  },
  {
   "cell_type": "markdown",
   "metadata": {},
   "source": [
    "## P1"
   ]
  },
  {
   "cell_type": "markdown",
   "metadata": {},
   "source": [
    "The first mini project will be to write a function that determines the square root of a number without using the `math.sqrt()` function.\n",
    "\n",
    "Your function should take a single input then calculate and return the square root of that number. Use `math.sqrt()` only to check your answer. You can round values to the 4th decimal place for ease."
   ]
  },
  {
   "cell_type": "markdown",
   "metadata": {},
   "source": [
    "#### **P1.1**\n",
    "\n",
    "To start solving this we first have to understand what we are doing. \n",
    "\n",
    "The square root function must find a number, $x$, which when squared results in the number passed into the function:\n",
    "\n",
    "$x = \\sqrt{a}$, $x^2 = a$\n",
    "\n",
    "There are several ways to approch this. The simplest (yet least accurate) is to just test every single number and check if that number squared is the number passed. Write a function which checks numbers 1 through 100. For each number, square it and check if that is the number youre taking the square root of.\n",
    "\n",
    "Check your result against the following inputs:\n",
    "\n",
    "```\n",
    "math.sqrt(4)\n",
    "math.sqrt(9)\n",
    "math.sqrt(25)\n",
    "math.sqrt(100)\n",
    "math.sqrt(8)\n",
    "```"
   ]
  },
  {
   "cell_type": "code",
   "execution_count": 36,
   "metadata": {},
   "outputs": [
    {
     "name": "stdout",
     "output_type": "stream",
     "text": [
      "2\n",
      "3\n",
      "5\n",
      "10\n",
      "None\n",
      "2.0\n",
      "3.0\n",
      "5.0\n",
      "10.0\n",
      "2.8284271247461903\n"
     ]
    }
   ],
   "source": [
    "def sqrtish(x):\n",
    "    for i in range(1,100,1):\n",
    "        if i*i == x:\n",
    "            return i\n",
    "    \n",
    "print(sqrtish(4))\n",
    "print(sqrtish(9))\n",
    "print(sqrtish(25))\n",
    "print(sqrtish(100))\n",
    "print(sqrtish(8))\n",
    "\n",
    "print(math.sqrt(4))\n",
    "print(math.sqrt(9))\n",
    "print(math.sqrt(25))\n",
    "print(math.sqrt(100))\n",
    "print(math.sqrt(8))\n",
    "\n"
   ]
  },
  {
   "cell_type": "markdown",
   "metadata": {},
   "source": [
    "#### P1.2"
   ]
  },
  {
   "cell_type": "code",
   "execution_count": 31,
   "metadata": {},
   "outputs": [
    {
     "name": "stdout",
     "output_type": "stream",
     "text": [
      "8.8318\n",
      "8.831760866327848\n"
     ]
    }
   ],
   "source": [
    "def sqrtish(x):\n",
    "    for i in np.arange(start=0, stop=1000, step=0.00001):\n",
    "        if near(i*i,x):\n",
    "            return round(i, 4)\n",
    "\n",
    "def near(x,y):\n",
    "    if abs(x-y) <=0.0001:\n",
    "        return True\n",
    "\n",
    "print(sqrtish(78))\n",
    "print(math.sqrt(78))"
   ]
  },
  {
   "cell_type": "code",
   "execution_count": null,
   "metadata": {},
   "outputs": [],
   "source": []
  },
  {
   "cell_type": "markdown",
   "metadata": {},
   "source": [
    "square root\n",
    "redo size function\n",
    "redo other loop projects"
   ]
  },
  {
   "cell_type": "markdown",
   "metadata": {},
   "source": [
    "# Classes"
   ]
  },
  {
   "cell_type": "markdown",
   "metadata": {},
   "source": [
    "# End of Module 1"
   ]
  },
  {
   "cell_type": "markdown",
   "metadata": {},
   "source": [
    "Upon completion of this project you have completed the entire base track of Project PyTHAGORA, hopefully you have a solid foundation in Python and are ready to start your own projects or continue into one of the more advanced modules to continue learning. \n",
    "\n",
    "**[2. Robotics](../Module2_Robotics/)**\n",
    "This module will utilize a LEGO Spike Prime kit to teach you to the basics of system control and device control in Python.   \n",
    "*Status - 7/20/2024 - Empty*\n",
    "\n",
    "**[3. Data Analysis](../Module3_DataTasks/3-1%20Numpy%20Lesson.ipynb)**\n",
    "This module will teach you the variety of useful packages that are used to gather, analyze, manipulate, and display a variety of data. With specific lessons to teach you tools used in the plasma physics and astronomy, this is a prerequisite for many lessons in modules 4 and 5.   \n",
    "*Status - 7/20/2024 - Empty*\n",
    "\n",
    "**[4. Plasma Physics](../Module4_PlasmaPhysics/4-1%20Plasma%20Physics%20Lesson.md)**\n",
    "This module will teach you basic plasma physics concepts as well as several applications of Python within the plasma physics community.   \n",
    "*Status - 7/20/2024 - Incomplete*\n",
    "\n",
    "**[5. Astronomy](../Module5_Astronomy/)**\n",
    "*Status - 7/20/2024 - Incomplete*\n"
   ]
  },
  {
   "cell_type": "markdown",
   "metadata": {},
   "source": []
  }
 ],
 "metadata": {
  "kernelspec": {
   "display_name": ".venv",
   "language": "python",
   "name": "python3"
  },
  "language_info": {
   "codemirror_mode": {
    "name": "ipython",
    "version": 3
   },
   "file_extension": ".py",
   "mimetype": "text/x-python",
   "name": "python",
   "nbconvert_exporter": "python",
   "pygments_lexer": "ipython3",
   "version": "3.12.5"
  }
 },
 "nbformat": 4,
 "nbformat_minor": 2
}
