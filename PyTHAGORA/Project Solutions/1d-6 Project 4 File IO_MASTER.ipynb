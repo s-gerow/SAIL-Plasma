{
 "cells": [
  {
   "cell_type": "markdown",
   "metadata": {},
   "source": [
    "# Set Up"
   ]
  },
  {
   "cell_type": "markdown",
   "metadata": {},
   "source": [
    "Python includes a number of libraries with the standard installation; this means that you do not need to run `pip install` to have access to the modules, you only need  to import them. You have seen one of these default libraries before: `math`. Some other pre-installed packages are the I/O, and time, (and optionally thread), libraries, which we will use in this project, and the tkinter library which will be used in lesson 3-5.\n",
    "\n",
    "I/O stands for input/output and the Python I/O library is used to for file inputs and output. Using the IO library you can create, read, and write text, binary, and raw files. For this project you will use the IO library to build and edit a text file.\n",
    "\n",
    "The time library is used to keep track of time. In this project you will use it to identify when functions are ran and if they ran successfully.\n",
    "\n",
    "The thread library is used for threading, which allows for multiple threads of code to control the Global Interpreter Lock and essentially run different functions nearly simultaneously. This library and its functionality is more complex than others you have used up until this point and so as such any use of it in this project is optional for the sole purpose of providing an additional challenge and drawing a comparison to some of the functionality in the Project BeAMED PlasmaChamber GUI which makes use of threading and multiprocessing."
   ]
  },
  {
   "cell_type": "code",
   "execution_count": null,
   "metadata": {},
   "outputs": [],
   "source": []
  },
  {
   "cell_type": "markdown",
   "metadata": {},
   "source": [
    "Write/read from txt file, write/read from xlxs, write/read hdf5+, write/read fits files\n",
    "\n",
    "html parsing with beautiful soup\n",
    "\n",
    "logging"
   ]
  },
  {
   "cell_type": "markdown",
   "metadata": {},
   "source": [
    "When you have completed this project you can compare your answers with the instructor version and move on to the next lesson: [1d-2 Classes](./1d-3%20Classes.ipynb)."
   ]
  }
 ],
 "metadata": {
  "language_info": {
   "name": "python"
  }
 },
 "nbformat": 4,
 "nbformat_minor": 2
}
